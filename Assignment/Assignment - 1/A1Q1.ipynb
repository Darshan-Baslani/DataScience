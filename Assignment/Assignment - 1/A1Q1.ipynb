{
 "cells": [
  {
   "cell_type": "code",
   "execution_count": 1,
   "id": "2c3148f0-2d93-4c30-9218-981eac7e9b4d",
   "metadata": {
    "tags": []
   },
   "outputs": [],
   "source": [
    "#Q1. Create one variable containing following type of data:\n",
    "\n",
    "#(i)\tstring\n",
    "\n",
    "#(ii)\tlist\n",
    "\n",
    "#(iii)\tfloat\n",
    "\n",
    "#(iv)\ttuple"
   ]
  },
  {
   "cell_type": "code",
   "execution_count": 3,
   "id": "f9c9a6a9-5da9-4b97-9827-d45ff759660e",
   "metadata": {
    "tags": []
   },
   "outputs": [],
   "source": [
    "str = \"Darshan Baslani\""
   ]
  },
  {
   "cell_type": "code",
   "execution_count": 4,
   "id": "da6a9c8f-069b-45b4-8105-2cc3fbc9e00a",
   "metadata": {
    "tags": []
   },
   "outputs": [
    {
     "data": {
      "text/plain": [
       "'Darshan Baslani'"
      ]
     },
     "execution_count": 4,
     "metadata": {},
     "output_type": "execute_result"
    }
   ],
   "source": [
    "str"
   ]
  },
  {
   "cell_type": "code",
   "execution_count": 5,
   "id": "eac14335-8959-4dd0-8197-44530b730529",
   "metadata": {
    "tags": []
   },
   "outputs": [],
   "source": [
    "lst = [1,2,3,\"Darshan\",True,5.6]"
   ]
  },
  {
   "cell_type": "code",
   "execution_count": 6,
   "id": "6780e9d1-426b-4524-b977-aafb089ecc5d",
   "metadata": {
    "tags": []
   },
   "outputs": [
    {
     "data": {
      "text/plain": [
       "[1, 2, 3, 'Darshan', True, 5.6]"
      ]
     },
     "execution_count": 6,
     "metadata": {},
     "output_type": "execute_result"
    }
   ],
   "source": [
    "lst"
   ]
  },
  {
   "cell_type": "code",
   "execution_count": 7,
   "id": "4acbc976-7dd2-4132-809b-e11a251cdd8a",
   "metadata": {
    "tags": []
   },
   "outputs": [],
   "source": [
    "f = 1.5"
   ]
  },
  {
   "cell_type": "code",
   "execution_count": 8,
   "id": "39abe270-2de9-42b0-9469-7588fd10ffa5",
   "metadata": {
    "tags": []
   },
   "outputs": [
    {
     "data": {
      "text/plain": [
       "1.5"
      ]
     },
     "execution_count": 8,
     "metadata": {},
     "output_type": "execute_result"
    }
   ],
   "source": [
    "f"
   ]
  },
  {
   "cell_type": "code",
   "execution_count": 10,
   "id": "2d547ec7-5cc1-40e3-819a-a1fb965180c6",
   "metadata": {
    "tags": []
   },
   "outputs": [],
   "source": [
    "gamers_tuple = (\"shroud\",\"tenz\",\"hiko\",\"derke\",\"aspas\",\"skrossi\")"
   ]
  },
  {
   "cell_type": "code",
   "execution_count": 11,
   "id": "f6334c0c-21af-4995-b08f-383bab31e9f9",
   "metadata": {
    "tags": []
   },
   "outputs": [
    {
     "data": {
      "text/plain": [
       "('shroud', 'tenz', 'hiko', 'derke', 'aspas', 'skrossi')"
      ]
     },
     "execution_count": 11,
     "metadata": {},
     "output_type": "execute_result"
    }
   ],
   "source": [
    "gamers_tuple"
   ]
  }
 ],
 "metadata": {
  "kernelspec": {
   "display_name": "Python 3 (ipykernel)",
   "language": "python",
   "name": "python3"
  },
  "language_info": {
   "codemirror_mode": {
    "name": "ipython",
    "version": 3
   },
   "file_extension": ".py",
   "mimetype": "text/x-python",
   "name": "python",
   "nbconvert_exporter": "python",
   "pygments_lexer": "ipython3",
   "version": "3.11.3"
  }
 },
 "nbformat": 4,
 "nbformat_minor": 5
}
