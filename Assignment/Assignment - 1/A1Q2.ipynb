{
 "cells": [
  {
   "cell_type": "code",
   "execution_count": 3,
   "id": "aaacbe9c-8a0f-432f-914a-02da423b52c1",
   "metadata": {
    "tags": []
   },
   "outputs": [],
   "source": [
    "#Q2. Given are some following variables containing data:\n",
    "\n",
    "#(i)\tvar1 = ‘ ‘\n",
    "\n",
    "#(ii)\tvar2 = ‘[ DS , ML , Python]’\n",
    "\n",
    "#(iii)\tvar3 = [ ‘DS’ , ’ML’ , ‘Python’ ]\n",
    "\n",
    "#(iv)\tvar4 = 1.\n",
    "#What will be the data type of the above given variable."
   ]
  },
  {
   "cell_type": "code",
   "execution_count": 4,
   "id": "d53ef6b4-8263-47c7-8eee-abd5e6520451",
   "metadata": {
    "tags": []
   },
   "outputs": [
    {
     "data": {
      "text/plain": [
       "str"
      ]
     },
     "execution_count": 4,
     "metadata": {},
     "output_type": "execute_result"
    }
   ],
   "source": [
    "var1 = ' '\n",
    "type(var1)"
   ]
  },
  {
   "cell_type": "code",
   "execution_count": 6,
   "id": "a66658f4-3e7c-4cd4-a7e4-a4a1b75d581a",
   "metadata": {
    "tags": []
   },
   "outputs": [
    {
     "data": {
      "text/plain": [
       "list"
      ]
     },
     "execution_count": 6,
     "metadata": {},
     "output_type": "execute_result"
    }
   ],
   "source": [
    "var2 = ['DS','ML','Python']\n",
    "type(var2)"
   ]
  },
  {
   "cell_type": "code",
   "execution_count": 8,
   "id": "ef5464db-86d3-4378-9c5c-fa7b32cd3306",
   "metadata": {
    "tags": []
   },
   "outputs": [
    {
     "data": {
      "text/plain": [
       "list"
      ]
     },
     "execution_count": 8,
     "metadata": {},
     "output_type": "execute_result"
    }
   ],
   "source": [
    "var3 = [ 'DS','’ML','Python']\n",
    "type(var3)"
   ]
  },
  {
   "cell_type": "code",
   "execution_count": 9,
   "id": "e432a50f-d601-4cb0-844f-800078151f98",
   "metadata": {
    "tags": []
   },
   "outputs": [
    {
     "data": {
      "text/plain": [
       "int"
      ]
     },
     "execution_count": 9,
     "metadata": {},
     "output_type": "execute_result"
    }
   ],
   "source": [
    "var4 = 1\n",
    "type(var4)"
   ]
  }
 ],
 "metadata": {
  "kernelspec": {
   "display_name": "Python 3 (ipykernel)",
   "language": "python",
   "name": "python3"
  },
  "language_info": {
   "codemirror_mode": {
    "name": "ipython",
    "version": 3
   },
   "file_extension": ".py",
   "mimetype": "text/x-python",
   "name": "python",
   "nbconvert_exporter": "python",
   "pygments_lexer": "ipython3",
   "version": "3.11.3"
  }
 },
 "nbformat": 4,
 "nbformat_minor": 5
}
