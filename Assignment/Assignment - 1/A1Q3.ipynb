{
 "cells": [
  {
   "cell_type": "code",
   "execution_count": 1,
   "id": "9848067e-967f-4d05-94c0-e90705ed1404",
   "metadata": {},
   "outputs": [],
   "source": [
    "#Q3. Explain the use of the following operators using an example:\n",
    "#(i)\t/\n",
    "#(ii)\t% \n",
    "#(iii)\t//\n",
    "#(iv)\t**"
   ]
  },
  {
   "cell_type": "code",
   "execution_count": 3,
   "id": "59f9eb33-303d-42a5-84a3-796c6b78cec1",
   "metadata": {},
   "outputs": [],
   "source": [
    "a = 3\n",
    "b = 7"
   ]
  },
  {
   "cell_type": "code",
   "execution_count": 5,
   "id": "005d44d5-9f91-4cf6-9f22-7fdcaceb39c4",
   "metadata": {},
   "outputs": [
    {
     "data": {
      "text/plain": [
       "0.42857142857142855"
      ]
     },
     "execution_count": 5,
     "metadata": {},
     "output_type": "execute_result"
    }
   ],
   "source": [
    "#'/' for dividing two numbers\n",
    "a/b"
   ]
  },
  {
   "cell_type": "code",
   "execution_count": 7,
   "id": "b19ee776-1beb-4f94-80eb-1541f522de6e",
   "metadata": {},
   "outputs": [
    {
     "data": {
      "text/plain": [
       "1"
      ]
     },
     "execution_count": 7,
     "metadata": {},
     "output_type": "execute_result"
    }
   ],
   "source": [
    "#'%' for finding reminder by dividing two numbers\n",
    "b%a"
   ]
  },
  {
   "cell_type": "code",
   "execution_count": 8,
   "id": "bbf228fb-5f8d-41a7-b3af-c71f75569cb1",
   "metadata": {},
   "outputs": [
    {
     "data": {
      "text/plain": [
       "0"
      ]
     },
     "execution_count": 8,
     "metadata": {},
     "output_type": "execute_result"
    }
   ],
   "source": [
    "#'//' for finding floor quitioent of the divison(non decimal number, closest minimum number)\n",
    "a//b"
   ]
  },
  {
   "cell_type": "code",
   "execution_count": 9,
   "id": "b5dfcc77-5f8d-47e2-9433-ea777917b8d4",
   "metadata": {},
   "outputs": [
    {
     "data": {
      "text/plain": [
       "8"
      ]
     },
     "execution_count": 9,
     "metadata": {},
     "output_type": "execute_result"
    }
   ],
   "source": [
    "#'**\" for finding power of the number\n",
    "2**3"
   ]
  }
 ],
 "metadata": {
  "kernelspec": {
   "display_name": "Python 3 (ipykernel)",
   "language": "python",
   "name": "python3"
  },
  "language_info": {
   "codemirror_mode": {
    "name": "ipython",
    "version": 3
   },
   "file_extension": ".py",
   "mimetype": "text/x-python",
   "name": "python",
   "nbconvert_exporter": "python",
   "pygments_lexer": "ipython3",
   "version": "3.10.8"
  }
 },
 "nbformat": 4,
 "nbformat_minor": 5
}
