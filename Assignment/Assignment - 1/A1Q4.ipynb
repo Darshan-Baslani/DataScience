{
 "cells": [
  {
   "cell_type": "code",
   "execution_count": 1,
   "id": "aef076e4-da6e-45a2-bd43-f7c0758ae82a",
   "metadata": {},
   "outputs": [],
   "source": [
    "#Q4. Create a list of length 10 of your choice containing multiple types of data. Using for loop print the \n",
    "#element and its data type."
   ]
  },
  {
   "cell_type": "code",
   "execution_count": 3,
   "id": "9e3a68f3-aeb1-48bb-8ae4-fa425c4e2e9b",
   "metadata": {},
   "outputs": [],
   "source": [
    "lst = [1,2,3,4,5,\"Darshan\",\"Baslani\",5.5,True,False]"
   ]
  },
  {
   "cell_type": "code",
   "execution_count": 6,
   "id": "a2d2822f-48fb-40a8-9dff-a766d739a2a9",
   "metadata": {},
   "outputs": [
    {
     "name": "stdout",
     "output_type": "stream",
     "text": [
      "1 is of  <class 'int'>  data type\n",
      "2 is of  <class 'int'>  data type\n",
      "3 is of  <class 'int'>  data type\n",
      "4 is of  <class 'int'>  data type\n",
      "5 is of  <class 'int'>  data type\n",
      "Darshan is of  <class 'str'>  data type\n",
      "Baslani is of  <class 'str'>  data type\n",
      "5.5 is of  <class 'float'>  data type\n",
      "True is of  <class 'bool'>  data type\n",
      "False is of  <class 'bool'>  data type\n"
     ]
    }
   ],
   "source": [
    "for i in lst:\n",
    "    print(i,\"is of \",type(i),\" data type\")"
   ]
  }
 ],
 "metadata": {
  "kernelspec": {
   "display_name": "Python 3 (ipykernel)",
   "language": "python",
   "name": "python3"
  },
  "language_info": {
   "codemirror_mode": {
    "name": "ipython",
    "version": 3
   },
   "file_extension": ".py",
   "mimetype": "text/x-python",
   "name": "python",
   "nbconvert_exporter": "python",
   "pygments_lexer": "ipython3",
   "version": "3.10.8"
  }
 },
 "nbformat": 4,
 "nbformat_minor": 5
}
