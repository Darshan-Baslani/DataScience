{
 "cells": [
  {
   "cell_type": "code",
   "execution_count": 1,
   "id": "d6b69fb3-d74d-4dae-9945-8969e9ac42a6",
   "metadata": {},
   "outputs": [],
   "source": [
    "#Q7. What do you understand about mutable and immutable data types? Give examples for both showing \n",
    "#this property"
   ]
  },
  {
   "cell_type": "code",
   "execution_count": 2,
   "id": "447ddab7-b427-4748-9c34-a4da09714b5f",
   "metadata": {},
   "outputs": [],
   "source": [
    "#Immutable objects cannot be modified once they are created. Mutable objects can be modified after they are created."
   ]
  },
  {
   "cell_type": "code",
   "execution_count": 5,
   "id": "a81f1d15-5a63-4d31-a297-20913f97dd57",
   "metadata": {},
   "outputs": [
    {
     "ename": "TypeError",
     "evalue": "'str' object does not support item assignment",
     "output_type": "error",
     "traceback": [
      "\u001b[0;31m---------------------------------------------------------------------------\u001b[0m",
      "\u001b[0;31mTypeError\u001b[0m                                 Traceback (most recent call last)",
      "Cell \u001b[0;32mIn[5], line 3\u001b[0m\n\u001b[1;32m      1\u001b[0m \u001b[38;5;66;03m#Example of immutable datatype\u001b[39;00m\n\u001b[1;32m      2\u001b[0m \u001b[38;5;28mstr\u001b[39m \u001b[38;5;241m=\u001b[39m \u001b[38;5;124m\"\u001b[39m\u001b[38;5;124mABC\u001b[39m\u001b[38;5;124m\"\u001b[39m\n\u001b[0;32m----> 3\u001b[0m \u001b[38;5;28;43mstr\u001b[39;49m\u001b[43m[\u001b[49m\u001b[38;5;241;43m1\u001b[39;49m\u001b[43m]\u001b[49m \u001b[38;5;241m=\u001b[39m \u001b[38;5;124m\"\u001b[39m\u001b[38;5;124mD\u001b[39m\u001b[38;5;124m\"\u001b[39m\n\u001b[1;32m      4\u001b[0m \u001b[38;5;28mprint\u001b[39m(\u001b[38;5;28mstr\u001b[39m)\n\u001b[1;32m      5\u001b[0m \u001b[38;5;66;03m#this would give error\u001b[39;00m\n",
      "\u001b[0;31mTypeError\u001b[0m: 'str' object does not support item assignment"
     ]
    }
   ],
   "source": [
    "#Example of immutable datatype\n",
    "str = \"ABC\"\n",
    "str[1] = \"D\"\n",
    "print(str)\n",
    "#this would give error"
   ]
  },
  {
   "cell_type": "code",
   "execution_count": 4,
   "id": "be6bf3b6-6e77-4a52-b6c7-31e923af5a9f",
   "metadata": {},
   "outputs": [
    {
     "name": "stdout",
     "output_type": "stream",
     "text": [
      "[1, 4, 3]\n"
     ]
    }
   ],
   "source": [
    "#Example of mutable datatype\n",
    "lst = [1,2,3]\n",
    "lst[1] = 4\n",
    "print(lst)"
   ]
  }
 ],
 "metadata": {
  "kernelspec": {
   "display_name": "Python 3 (ipykernel)",
   "language": "python",
   "name": "python3"
  },
  "language_info": {
   "codemirror_mode": {
    "name": "ipython",
    "version": 3
   },
   "file_extension": ".py",
   "mimetype": "text/x-python",
   "name": "python",
   "nbconvert_exporter": "python",
   "pygments_lexer": "ipython3",
   "version": "3.10.8"
  }
 },
 "nbformat": 4,
 "nbformat_minor": 5
}
