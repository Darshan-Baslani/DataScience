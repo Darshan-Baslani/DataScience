{
 "cells": [
  {
   "cell_type": "markdown",
   "id": "b14e14c6",
   "metadata": {},
   "source": [
    "There are two types of comments:\n",
    "1. Single Line Comment\n",
    "2. Multi line comment"
   ]
  },
  {
   "cell_type": "code",
   "execution_count": 1,
   "id": "3b307254",
   "metadata": {},
   "outputs": [],
   "source": [
    "#This is single line comment. This is started by putting '#' in the beginning."
   ]
  },
  {
   "cell_type": "code",
   "execution_count": 6,
   "id": "e7df4338",
   "metadata": {},
   "outputs": [
    {
     "data": {
      "text/plain": [
       "'This is Multi line comment. This is started by putting inverted commas - 3 times in the start and at the end of the line'"
      ]
     },
     "execution_count": 6,
     "metadata": {},
     "output_type": "execute_result"
    }
   ],
   "source": [
    "\"\"\"This is Multi line comment. This is started by putting inverted commas - 3 times in the start and at the end of the line\"\"\""
   ]
  }
 ],
 "metadata": {
  "kernelspec": {
   "display_name": "Python 3 (ipykernel)",
   "language": "python",
   "name": "python3"
  },
  "language_info": {
   "codemirror_mode": {
    "name": "ipython",
    "version": 3
   },
   "file_extension": ".py",
   "mimetype": "text/x-python",
   "name": "python",
   "nbconvert_exporter": "python",
   "pygments_lexer": "ipython3",
   "version": "3.11.3"
  }
 },
 "nbformat": 4,
 "nbformat_minor": 5
}
