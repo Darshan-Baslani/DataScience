{
 "cells": [
  {
   "cell_type": "markdown",
   "id": "6878021a",
   "metadata": {},
   "source": [
    "In Python, variables are used to store data or values that can be accessed and manipulated throughout your program. Variables can hold various types of data, such as numbers, strings, lists, or even more complex objects."
   ]
  },
  {
   "cell_type": "markdown",
   "id": "0153cf6e",
   "metadata": {},
   "source": [
    "To declare and assign values to variables in Python, you simply need to use the assignment operator (=)."
   ]
  },
  {
   "cell_type": "code",
   "execution_count": 1,
   "id": "ae88ba6e",
   "metadata": {},
   "outputs": [],
   "source": [
    "name = \"John\"  # Assigning a string value to the variable \"name\"\n",
    "age = 25      # Assigning an integer value to the variable \"age\"\n",
    "height = 1.75  # Assigning a float value to the variable \"height\"\n",
    "is_student = True  # Assigning a boolean value to the variable \"is_student\""
   ]
  }
 ],
 "metadata": {
  "kernelspec": {
   "display_name": "Python 3 (ipykernel)",
   "language": "python",
   "name": "python3"
  },
  "language_info": {
   "codemirror_mode": {
    "name": "ipython",
    "version": 3
   },
   "file_extension": ".py",
   "mimetype": "text/x-python",
   "name": "python",
   "nbconvert_exporter": "python",
   "pygments_lexer": "ipython3",
   "version": "3.11.3"
  }
 },
 "nbformat": 4,
 "nbformat_minor": 5
}
