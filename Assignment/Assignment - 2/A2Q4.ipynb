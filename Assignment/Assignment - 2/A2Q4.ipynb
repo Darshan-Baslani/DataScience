{
 "cells": [
  {
   "cell_type": "markdown",
   "id": "577920bd",
   "metadata": {},
   "source": [
    "-> Create python file with .py extension\n",
    "-> open command prompt\n",
    "-> Navigate to the directory where you saved the Python script using the cd command\n",
    "-> Once you are in the correct directory, you can execute the Python script by typing python followed by the script's filename\n",
    "ex : python main.py\n",
    "-> press enter"
   ]
  }
 ],
 "metadata": {
  "kernelspec": {
   "display_name": "Python 3 (ipykernel)",
   "language": "python",
   "name": "python3"
  },
  "language_info": {
   "codemirror_mode": {
    "name": "ipython",
    "version": 3
   },
   "file_extension": ".py",
   "mimetype": "text/x-python",
   "name": "python",
   "nbconvert_exporter": "python",
   "pygments_lexer": "ipython3",
   "version": "3.11.3"
  }
 },
 "nbformat": 4,
 "nbformat_minor": 5
}
