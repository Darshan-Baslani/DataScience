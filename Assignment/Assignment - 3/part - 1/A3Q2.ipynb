{
 "cells": [
  {
   "attachments": {},
   "cell_type": "markdown",
   "metadata": {},
   "source": [
    "*args is used when the user is unsure about how many arguments to enter. *args take infinte amount of arguments"
   ]
  },
  {
   "attachments": {},
   "cell_type": "markdown",
   "metadata": {},
   "source": [
    "*kwargs is used to enter inifinite amount of dictionary arguments. It is used to pass dictionary arguments without worrying about the limit. "
   ]
  },
  {
   "cell_type": "code",
   "execution_count": 1,
   "metadata": {},
   "outputs": [
    {
     "name": "stdout",
     "output_type": "stream",
     "text": [
      "1 2 4 5 Darshan 36.5 True\n"
     ]
    }
   ],
   "source": [
    "#example of *args\n",
    "def fun(*args):\n",
    "    print(*args)\n",
    "\n",
    "fun(1,2,4,5,\"Darshan\", 36.5, True)"
   ]
  },
  {
   "cell_type": "code",
   "execution_count": 7,
   "metadata": {},
   "outputs": [
    {
     "name": "stdout",
     "output_type": "stream",
     "text": [
      "{1: 'Darshan', 2: 'Baslani'}\n"
     ]
    }
   ],
   "source": [
    "def fun2(*kwargs):\n",
    "    print(*kwargs)\n",
    "\n",
    "fun2({1 : \"Darshan\", 2 : \"Baslani\"})"
   ]
  }
 ],
 "metadata": {
  "kernelspec": {
   "display_name": "Python 3",
   "language": "python",
   "name": "python3"
  },
  "language_info": {
   "codemirror_mode": {
    "name": "ipython",
    "version": 3
   },
   "file_extension": ".py",
   "mimetype": "text/x-python",
   "name": "python",
   "nbconvert_exporter": "python",
   "pygments_lexer": "ipython3",
   "version": "3.11.3"
  },
  "orig_nbformat": 4
 },
 "nbformat": 4,
 "nbformat_minor": 2
}
