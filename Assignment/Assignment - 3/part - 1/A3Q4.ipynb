{
 "cells": [
  {
   "attachments": {},
   "cell_type": "markdown",
   "metadata": {},
   "source": [
    "When there are a lot of elements to store(i.e. million or more), we can't store them in memory. To solve this issue generator function is used. Generator function genrates value one at a time. Therefore, system doesn't have to store all of the elements at once."
   ]
  },
  {
   "attachments": {},
   "cell_type": "markdown",
   "metadata": {},
   "source": [
    "Yield keyword is used to make a normal function into generator fuction. It indicates the value that should be produced to the user. When the program encounters yield value it temporarily suspends its execution, and return the yielded value to the user. The next time the genrator function is executed, it starts from where it left off."
   ]
  },
  {
   "cell_type": "code",
   "execution_count": 3,
   "metadata": {},
   "outputs": [
    {
     "name": "stdout",
     "output_type": "stream",
     "text": [
      "[0, 2, 4, 6, 8, 10, 12, 14, 16, 18]\n"
     ]
    }
   ],
   "source": [
    "def fun(n):\n",
    "    i=0\n",
    "    a=0\n",
    "    while i < n:\n",
    "        yield a\n",
    "        a += 2 \n",
    "        i+=1\n",
    "l = list(fun(10))  \n",
    "print(l)"
   ]
  }
 ],
 "metadata": {
  "kernelspec": {
   "display_name": "Python 3",
   "language": "python",
   "name": "python3"
  },
  "language_info": {
   "codemirror_mode": {
    "name": "ipython",
    "version": 3
   },
   "file_extension": ".py",
   "mimetype": "text/x-python",
   "name": "python",
   "nbconvert_exporter": "python",
   "pygments_lexer": "ipython3",
   "version": "3.11.3"
  },
  "orig_nbformat": 4
 },
 "nbformat": 4,
 "nbformat_minor": 2
}
