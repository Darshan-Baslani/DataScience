{
 "cells": [
  {
   "attachments": {},
   "cell_type": "markdown",
   "metadata": {},
   "source": [
    "Create a generator function for prime numbers less than 1000. Use the next() method to print the \n",
    "first 20 prime numbers."
   ]
  },
  {
   "cell_type": "code",
   "execution_count": 24,
   "metadata": {},
   "outputs": [
    {
     "name": "stdout",
     "output_type": "stream",
     "text": [
      "0 1 2 3 5 7 11 13 17 19 23 29 31 37 41 43 47 53 59 61 "
     ]
    }
   ],
   "source": [
    "i=0\n",
    "def prime() :\n",
    "    i=1\n",
    "    a = 0\n",
    "    for i in range(1,1000):\n",
    "        j=2\n",
    "        condition = True\n",
    "        while j < i:\n",
    "            if i%j == 0:\n",
    "                condition = False\n",
    "                break\n",
    "            j += 1\n",
    "        if condition == True : \n",
    "            yield a\n",
    "            a = i\n",
    "\n",
    "l = list(prime())\n",
    "l = iter(l)\n",
    "\n",
    "for i in range(20) :\n",
    "    print(next(l), end = \" \")"
   ]
  }
 ],
 "metadata": {
  "kernelspec": {
   "display_name": "Python 3",
   "language": "python",
   "name": "python3"
  },
  "language_info": {
   "codemirror_mode": {
    "name": "ipython",
    "version": 3
   },
   "file_extension": ".py",
   "mimetype": "text/x-python",
   "name": "python",
   "nbconvert_exporter": "python",
   "pygments_lexer": "ipython3",
   "version": "3.11.3"
  },
  "orig_nbformat": 4
 },
 "nbformat": 4,
 "nbformat_minor": 2
}
