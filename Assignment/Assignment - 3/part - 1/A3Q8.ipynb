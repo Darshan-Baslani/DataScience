{
 "cells": [
  {
   "attachments": {},
   "cell_type": "markdown",
   "metadata": {},
   "source": [
    " Write a python program to check whether a given number is Palindrome or not using a while loop"
   ]
  },
  {
   "cell_type": "code",
   "execution_count": 1,
   "metadata": {},
   "outputs": [
    {
     "name": "stdout",
     "output_type": "stream",
     "text": [
      "151 is palindrome.\n"
     ]
    }
   ],
   "source": [
    "a = 151\n",
    "a2 = a\n",
    "rev = 0\n",
    "while a2 > 0:\n",
    "    rev = (rev*10) + (a2%10)\n",
    "    a2 = int(a2/10)\n",
    "if a == rev:\n",
    "    print(f\"{a} is palindrome.\")\n",
    "else:\n",
    "    print(f\"{a} is not palindrome.\")"
   ]
  }
 ],
 "metadata": {
  "kernelspec": {
   "display_name": "Python 3",
   "language": "python",
   "name": "python3"
  },
  "language_info": {
   "codemirror_mode": {
    "name": "ipython",
    "version": 3
   },
   "file_extension": ".py",
   "mimetype": "text/x-python",
   "name": "python",
   "nbconvert_exporter": "python",
   "pygments_lexer": "ipython3",
   "version": "3.11.3"
  },
  "orig_nbformat": 4
 },
 "nbformat": 4,
 "nbformat_minor": 2
}
