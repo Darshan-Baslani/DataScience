{
 "cells": [
  {
   "attachments": {},
   "cell_type": "markdown",
   "metadata": {},
   "source": [
    " Write a python program to filter the numbers in a given list that are divisible by 2 and 3 using the \n",
    "filter function.\n",
    "\n",
    "\n",
    "[2, 3, 6, 9, 27, 60, 90, 120, 55, 46]"
   ]
  },
  {
   "cell_type": "code",
   "execution_count": 1,
   "metadata": {},
   "outputs": [
    {
     "name": "stdout",
     "output_type": "stream",
     "text": [
      "[2, 6, 60, 90, 120, 46]\n",
      "[3, 6, 9, 27, 60, 90, 120]\n"
     ]
    }
   ],
   "source": [
    "data = [2, 3, 6, 9, 27, 60, 90, 120, 55, 46]\n",
    "\n",
    "data_div_by_2 = list(filter(lambda x: x%2==0 , data))\n",
    "data_div_by_3 = list(filter(lambda x: x%3==0 , data))\n",
    "print(data_div_by_2)\n",
    "print(data_div_by_3)"
   ]
  }
 ],
 "metadata": {
  "kernelspec": {
   "display_name": "Python 3",
   "language": "python",
   "name": "python3"
  },
  "language_info": {
   "codemirror_mode": {
    "name": "ipython",
    "version": 3
   },
   "file_extension": ".py",
   "mimetype": "text/x-python",
   "name": "python",
   "nbconvert_exporter": "python",
   "pygments_lexer": "ipython3",
   "version": "3.11.3"
  },
  "orig_nbformat": 4
 },
 "nbformat": 4,
 "nbformat_minor": 2
}
