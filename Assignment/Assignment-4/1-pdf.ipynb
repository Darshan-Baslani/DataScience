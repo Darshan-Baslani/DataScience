{
 "cells": [
  {
   "cell_type": "markdown",
   "id": "1366dc2d-8cf7-4a91-801f-be76333243c5",
   "metadata": {},
   "source": [
    "# Q1, Create a vehicle class with an init method having instance variables as name_of_vehicle, max_speed and average_of_vehicle."
   ]
  },
  {
   "cell_type": "code",
   "execution_count": 1,
   "id": "c51f7b18-35a9-4f7f-9d83-ff59789797b7",
   "metadata": {
    "tags": []
   },
   "outputs": [],
   "source": [
    "class vehicle:\n",
    "    def __init__(self, name_of_vehicle, max_speed, average_of_vehicle):\n",
    "        self.name_of_vehicle = name_of_vehicle\n",
    "        self.max_speed = max_speed\n",
    "        self.average_of_vehicle = average_of_vehicle"
   ]
  },
  {
   "cell_type": "code",
   "execution_count": 8,
   "id": "10147b78-5ccd-498e-8f23-edced208afad",
   "metadata": {
    "tags": []
   },
   "outputs": [
    {
     "data": {
      "text/plain": [
       "('Tesla Model S', 200, 35)"
      ]
     },
     "execution_count": 8,
     "metadata": {},
     "output_type": "execute_result"
    }
   ],
   "source": [
    "c = vehicle(\"Tesla Model S\", 200, 35)\n",
    "c.name_of_vehicle, car.max_speed, car.average_of_vehicle"
   ]
  },
  {
   "cell_type": "markdown",
   "id": "47b536f2-90a4-4525-99cb-1302324ce07a",
   "metadata": {},
   "source": [
    "# Q2.  Create a child class car from the vehicle class created in Que 1, which will inherit the vehicle class. Create a method named seating_capacity which takes capacity as an argument and returns the name of the vehicle and its seating capacity"
   ]
  },
  {
   "cell_type": "code",
   "execution_count": 18,
   "id": "60e26e9f-068b-4ab9-b33b-b7247d289568",
   "metadata": {
    "tags": []
   },
   "outputs": [],
   "source": [
    "class car(vehicle):    \n",
    "    def seating_capacity(self, capacity):\n",
    "        return [self.name_of_vehicle, capacity]"
   ]
  },
  {
   "cell_type": "code",
   "execution_count": 19,
   "id": "a891ecd4-e989-4a78-b9f1-ea3c341f4ca4",
   "metadata": {
    "tags": []
   },
   "outputs": [
    {
     "data": {
      "text/plain": [
       "['Tesla Model Y', 4]"
      ]
     },
     "execution_count": 19,
     "metadata": {},
     "output_type": "execute_result"
    }
   ],
   "source": [
    "c2 = car(\"Tesla Model Y\", 220, 45)\n",
    "c2.seating_capacity(4)"
   ]
  },
  {
   "cell_type": "markdown",
   "id": "d1baa523-7756-43dd-92cd-834658bda9f6",
   "metadata": {},
   "source": [
    "# Q3. What is multiple inheritance? Write a python code to demonstrate multiple inheritance."
   ]
  },
  {
   "cell_type": "markdown",
   "id": "66448fa1-f5dc-455f-a171-9aee5bcfb1ec",
   "metadata": {},
   "source": [
    "In multiple inheritance,a class can inherit more than one class."
   ]
  },
  {
   "cell_type": "code",
   "execution_count": 28,
   "id": "17111e90-d956-443f-868f-a12fd7a2a35c",
   "metadata": {
    "tags": []
   },
   "outputs": [],
   "source": [
    "class quality_ranking:\n",
    "    def quality(self, no_of_stars):\n",
    "        self.no_of_stars = no_of_stars\n",
    "        print(self.no_of_stars)"
   ]
  },
  {
   "cell_type": "code",
   "execution_count": 29,
   "id": "1ae0d799-97bb-4aba-a74b-b456c774041a",
   "metadata": {
    "tags": []
   },
   "outputs": [],
   "source": [
    "class car_by_quality(vehicle, quality_ranking):\n",
    "    pass"
   ]
  },
  {
   "cell_type": "code",
   "execution_count": 30,
   "id": "fc672a3b-35ef-47f4-8b66-ff89550a603c",
   "metadata": {
    "tags": []
   },
   "outputs": [],
   "source": [
    "c3 = car_by_quality(\"Tesla Model X\", \"250\", \"55\")"
   ]
  },
  {
   "cell_type": "code",
   "execution_count": 31,
   "id": "24018f06-febb-4c6f-91db-9aeca4f4d84c",
   "metadata": {
    "tags": []
   },
   "outputs": [
    {
     "name": "stdout",
     "output_type": "stream",
     "text": [
      "5\n"
     ]
    },
    {
     "data": {
      "text/plain": [
       "'Tesla Model X'"
      ]
     },
     "execution_count": 31,
     "metadata": {},
     "output_type": "execute_result"
    }
   ],
   "source": [
    "c3.quality(5)\n",
    "c3.name_of_vehicle"
   ]
  },
  {
   "cell_type": "markdown",
   "id": "eaaee5c7-9073-4568-a367-171f38ba86fa",
   "metadata": {},
   "source": [
    "# Q4. What are getter and setter in python? Create a class and create a getter and a setter method in this class"
   ]
  },
  {
   "cell_type": "markdown",
   "id": "df5644ee-d44d-470f-9463-1be131ef7088",
   "metadata": {},
   "source": [
    "Getter is used to prohibit user from changing the value of the element while setter is a method which allows user to change the value of the element."
   ]
  },
  {
   "cell_type": "code",
   "execution_count": 53,
   "id": "aa863917-cd32-4b93-a397-93570a8f1a23",
   "metadata": {
    "tags": []
   },
   "outputs": [],
   "source": [
    "class me:\n",
    "    def __init__(self, name):\n",
    "        self._name = name\n",
    "        \n",
    "    @property\n",
    "    def name(self):\n",
    "        return self._name\n",
    "    \n",
    "    def change_name(self, new_name):\n",
    "        self._name = new_name"
   ]
  },
  {
   "cell_type": "code",
   "execution_count": 56,
   "id": "45608306-b9ae-40e4-8bc6-33723b68feae",
   "metadata": {
    "tags": []
   },
   "outputs": [
    {
     "name": "stdout",
     "output_type": "stream",
     "text": [
      "Darshan\n"
     ]
    }
   ],
   "source": [
    "person1 = me(\"Darshan\")\n",
    "print(person1.name)"
   ]
  },
  {
   "cell_type": "code",
   "execution_count": 57,
   "id": "efdc1bbe-8f88-4d39-9cf1-25cdb045b5a4",
   "metadata": {
    "tags": []
   },
   "outputs": [
    {
     "ename": "AttributeError",
     "evalue": "property 'name' of 'me' object has no setter",
     "output_type": "error",
     "traceback": [
      "\u001b[1;31m---------------------------------------------------------------------------\u001b[0m",
      "\u001b[1;31mAttributeError\u001b[0m                            Traceback (most recent call last)",
      "Cell \u001b[1;32mIn[57], line 1\u001b[0m\n\u001b[1;32m----> 1\u001b[0m \u001b[43mperson1\u001b[49m\u001b[38;5;241;43m.\u001b[39;49m\u001b[43mname\u001b[49m \u001b[38;5;241m=\u001b[39m \u001b[38;5;124m\"\u001b[39m\u001b[38;5;124mDarsh\u001b[39m\u001b[38;5;124m\"\u001b[39m\n\u001b[0;32m      2\u001b[0m \u001b[38;5;28mprint\u001b[39m(person1\u001b[38;5;241m.\u001b[39mname)\n",
      "\u001b[1;31mAttributeError\u001b[0m: property 'name' of 'me' object has no setter"
     ]
    }
   ],
   "source": [
    "person1.name = \"Darsh\"\n",
    "print(person1.name)"
   ]
  },
  {
   "cell_type": "code",
   "execution_count": 59,
   "id": "3e23caf4-3999-48dd-8350-e107085469dd",
   "metadata": {
    "tags": []
   },
   "outputs": [
    {
     "name": "stdout",
     "output_type": "stream",
     "text": [
      "Darsh\n"
     ]
    }
   ],
   "source": [
    "person1.change_name(\"Darsh\")\n",
    "print(person1.name)"
   ]
  },
  {
   "cell_type": "markdown",
   "id": "b45fec42-7475-4714-8f51-ad6c373535b9",
   "metadata": {},
   "source": [
    "# Q5.What is method overriding in python? Write a python code to demonstrate method overriding."
   ]
  },
  {
   "cell_type": "markdown",
   "id": "c47c6134-6097-4155-be89-cddcb54df9cc",
   "metadata": {},
   "source": [
    "When child class make same method as parent class, than method overriding occurs."
   ]
  },
  {
   "cell_type": "code",
   "execution_count": 66,
   "id": "b5b27a25-1f44-4220-81ad-01a503b7ed2c",
   "metadata": {
    "tags": []
   },
   "outputs": [],
   "source": [
    "class Animal:\n",
    "    def sound(self):\n",
    "        print(\"Bow Bow\")"
   ]
  },
  {
   "cell_type": "code",
   "execution_count": 67,
   "id": "ba7ee3de-a2dd-4d12-9c0b-da3baf6e0487",
   "metadata": {
    "tags": []
   },
   "outputs": [],
   "source": [
    "class Sparrow(Animal):\n",
    "    def sound(self):\n",
    "        print(\"Chirping\")"
   ]
  },
  {
   "cell_type": "code",
   "execution_count": 68,
   "id": "73ee7429-33cd-43ab-9d33-9defb91f78d2",
   "metadata": {
    "tags": []
   },
   "outputs": [],
   "source": [
    "spr = Sparrow()"
   ]
  },
  {
   "cell_type": "code",
   "execution_count": 72,
   "id": "01a1f18c-1235-41cb-bf79-d5b3d049ec0a",
   "metadata": {
    "tags": []
   },
   "outputs": [
    {
     "name": "stdout",
     "output_type": "stream",
     "text": [
      "Chirping\n"
     ]
    }
   ],
   "source": [
    "spr.sound()"
   ]
  },
  {
   "cell_type": "code",
   "execution_count": null,
   "id": "6db20cbb-222e-4748-b706-4468281bee22",
   "metadata": {},
   "outputs": [],
   "source": []
  }
 ],
 "metadata": {
  "kernelspec": {
   "display_name": "Python 3 (ipykernel)",
   "language": "python",
   "name": "python3"
  },
  "language_info": {
   "codemirror_mode": {
    "name": "ipython",
    "version": 3
   },
   "file_extension": ".py",
   "mimetype": "text/x-python",
   "name": "python",
   "nbconvert_exporter": "python",
   "pygments_lexer": "ipython3",
   "version": "3.11.3"
  }
 },
 "nbformat": 4,
 "nbformat_minor": 5
}
