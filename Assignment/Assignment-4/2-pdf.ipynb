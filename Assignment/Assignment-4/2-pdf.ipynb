{
 "cells": [
  {
   "cell_type": "markdown",
   "id": "2aa68e8f-1ba6-4edb-8acc-94290b5f0fbc",
   "metadata": {},
   "source": [
    "# Q1. Explain Class and Object with respect to Object-Oriented Programming. Give a suitable example"
   ]
  },
  {
   "cell_type": "markdown",
   "id": "3bbbc2be-abeb-450d-85fa-c5364aee7082",
   "metadata": {},
   "source": [
    "A class is kind of a blueprint that defines characteristics of the objects. While Object are instances of the class. Each object created has different data but same structure."
   ]
  },
  {
   "cell_type": "code",
   "execution_count": 1,
   "id": "01cb1f30-ad7e-421a-8cc7-9ffef9f786a3",
   "metadata": {
    "tags": []
   },
   "outputs": [],
   "source": [
    "class student:\n",
    "    def __init__(self, name, rollno, std):\n",
    "        self.name = name\n",
    "        self.rollno = rollno\n",
    "        self.std = std"
   ]
  },
  {
   "cell_type": "code",
   "execution_count": 2,
   "id": "e30ad5c3-0b8f-4794-a9be-a4474d92793c",
   "metadata": {
    "tags": []
   },
   "outputs": [
    {
     "data": {
      "text/plain": [
       "'Darshan'"
      ]
     },
     "execution_count": 2,
     "metadata": {},
     "output_type": "execute_result"
    }
   ],
   "source": [
    "s1 = student(\"Darshan\", 4, 12)\n",
    "s1.name"
   ]
  },
  {
   "cell_type": "markdown",
   "id": "7df441ff-90f2-46f6-86a3-6f1bbd2702a8",
   "metadata": {},
   "source": [
    "# Q2. Name the four pillars of OOPs."
   ]
  },
  {
   "cell_type": "markdown",
   "id": "6bd57b41-2d6d-44bf-b38e-14eb894ef36f",
   "metadata": {},
   "source": [
    "Four pillars include polymorphism, inheritance, abstraction and encapsulation."
   ]
  },
  {
   "cell_type": "markdown",
   "id": "3e7ef46f-a4db-4622-9184-983d28f1c056",
   "metadata": {},
   "source": [
    "# Q3. Explain why the __init__() function is used. Give a suitable example"
   ]
  },
  {
   "cell_type": "markdown",
   "id": "017bd2d2-41c5-4d32-8c55-fe0a78cc001b",
   "metadata": {},
   "source": [
    "The purpose of the __init__() function is to initialize the attributes of the object and perform any necessary setup or initialization tasks."
   ]
  },
  {
   "cell_type": "code",
   "execution_count": 5,
   "id": "2cfd3797-0dfe-41ee-9a65-012d729fd088",
   "metadata": {
    "tags": []
   },
   "outputs": [],
   "source": [
    "class human:\n",
    "    def __init__(self, name):\n",
    "        self.name = name #here name is initialized at the time of object creation"
   ]
  },
  {
   "cell_type": "code",
   "execution_count": 6,
   "id": "fe74c506-56a1-4721-a422-db3f74d19357",
   "metadata": {
    "tags": []
   },
   "outputs": [
    {
     "data": {
      "text/plain": [
       "'Darshan'"
      ]
     },
     "execution_count": 6,
     "metadata": {},
     "output_type": "execute_result"
    }
   ],
   "source": [
    "h1 = human(\"Darshan\")\n",
    "h1.name"
   ]
  },
  {
   "cell_type": "markdown",
   "id": "9ba2aa27-108d-4e3e-a815-2b269efb226b",
   "metadata": {},
   "source": [
    "# Q4. Why self is used in OOPs?"
   ]
  },
  {
   "cell_type": "markdown",
   "id": "ab211d5c-517c-497f-a098-db032081700b",
   "metadata": {},
   "source": [
    "'self' keyword is used as a convention to refer to the instance of a class within the class definition. It is a way to refer to the object itself, allowing access to its attributes and methods."
   ]
  },
  {
   "cell_type": "markdown",
   "id": "9c765288-08f4-4062-83f7-bb781453be9f",
   "metadata": {},
   "source": [
    "# Q5. What is inheritance? Give an example for each type of inheritance."
   ]
  },
  {
   "cell_type": "markdown",
   "id": "6b4bd158-7c20-4b9b-be79-c475d1f25754",
   "metadata": {},
   "source": [
    "Inheritance allows one class to inherit properties and behaviors from another class."
   ]
  },
  {
   "cell_type": "code",
   "execution_count": 16,
   "id": "4aa46b89-5ed0-4bd5-9e32-367020de4dd2",
   "metadata": {
    "tags": []
   },
   "outputs": [
    {
     "name": "stdout",
     "output_type": "stream",
     "text": [
      "The dog is eating\n"
     ]
    }
   ],
   "source": [
    "#single inheritance\n",
    "class Animal:\n",
    "    def eat(self): \n",
    "        print(\"The animal is eating\")\n",
    "        \n",
    "class Dog(Animal):\n",
    "    def eat(self):\n",
    "        print(\"The dog is eating\")\n",
    "        \n",
    "joy = Dog()\n",
    "joy.eat()"
   ]
  },
  {
   "cell_type": "code",
   "execution_count": 20,
   "id": "b3fe826b-ee00-4cd1-9ada-6dfa1b980a3d",
   "metadata": {
    "tags": []
   },
   "outputs": [
    {
     "name": "stdout",
     "output_type": "stream",
     "text": [
      "The unknown speices is eating\n"
     ]
    }
   ],
   "source": [
    "#multiple inheritance\n",
    "class Bird:\n",
    "    def eat(self):\n",
    "        print(\"The bird is eating\")\n",
    "        \n",
    "class unknown_species(Animal, Bird):\n",
    "    def eat(slef):\n",
    "        print(\"The unknown speices is eating\")\n",
    "        \n",
    "obito = unknown_species()\n",
    "obito.eat()"
   ]
  },
  {
   "cell_type": "code",
   "execution_count": 21,
   "id": "19617494-eb8d-466c-9f8a-b9e42d9e23e3",
   "metadata": {
    "tags": []
   },
   "outputs": [
    {
     "name": "stdout",
     "output_type": "stream",
     "text": [
      "Labrador is eating\n"
     ]
    }
   ],
   "source": [
    "#multilevel inheritance\n",
    "class labrador(Dog):\n",
    "    def eat(self):\n",
    "        print(\"Labrador is eating\")\n",
    "        \n",
    "yohoho = labrador()\n",
    "yohoho.eat()"
   ]
  }
 ],
 "metadata": {
  "kernelspec": {
   "display_name": "Python 3 (ipykernel)",
   "language": "python",
   "name": "python3"
  },
  "language_info": {
   "codemirror_mode": {
    "name": "ipython",
    "version": 3
   },
   "file_extension": ".py",
   "mimetype": "text/x-python",
   "name": "python",
   "nbconvert_exporter": "python",
   "pygments_lexer": "ipython3",
   "version": "3.11.3"
  }
 },
 "nbformat": 4,
 "nbformat_minor": 5
}
