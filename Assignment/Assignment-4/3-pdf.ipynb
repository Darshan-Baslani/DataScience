{
 "cells": [
  {
   "cell_type": "markdown",
   "id": "85f60a9a-e2d6-4148-9460-616b999a71c0",
   "metadata": {},
   "source": [
    "# Q1. What is Abstraction in OOps? Explain with an example"
   ]
  },
  {
   "cell_type": "markdown",
   "id": "d7e9583b-45dc-4a67-adcf-1b9a84dd1306",
   "metadata": {},
   "source": [
    "Abstraction is a fundamental concept in object-oriented programming (OOP) that focuses on representing complex systems or objects by capturing only the essential details and hiding unnecessary complexities."
   ]
  },
  {
   "cell_type": "code",
   "execution_count": 2,
   "id": "071648fd-f51a-47bf-bfe8-a1e600b9bc3d",
   "metadata": {
    "tags": []
   },
   "outputs": [
    {
     "name": "stdout",
     "output_type": "stream",
     "text": [
      "The mileage is 30kmph\n",
      "The mileage is 27kmph \n",
      "The mileage is 25kmph \n",
      "The mileage is 24kmph \n"
     ]
    }
   ],
   "source": [
    "from abc import ABC, abstractmethod   \n",
    "class Car(ABC):   \n",
    "    def mileage(self):   \n",
    "        pass  \n",
    "  \n",
    "class Tesla(Car):   \n",
    "    def mileage(self):   \n",
    "        print(\"The mileage is 30kmph\")   \n",
    "        \n",
    "class Suzuki(Car):   \n",
    "    def mileage(self):   \n",
    "        print(\"The mileage is 25kmph \")   \n",
    "\n",
    "class Duster(Car):   \n",
    "     def mileage(self):   \n",
    "          print(\"The mileage is 24kmph \")   \n",
    "  \n",
    "class Renault(Car):   \n",
    "    def mileage(self):   \n",
    "            print(\"The mileage is 27kmph \")   \n",
    "          \n",
    "# Driver code   \n",
    "t= Tesla ()   \n",
    "t.mileage()   \n",
    "  \n",
    "r = Renault()   \n",
    "r.mileage()   \n",
    "  \n",
    "s = Suzuki()   \n",
    "s.mileage()   \n",
    "\n",
    "d = Duster()   \n",
    "d.mileage()  "
   ]
  },
  {
   "cell_type": "markdown",
   "id": "1b9b9206-d823-4fcf-bf30-0f56e763cf65",
   "metadata": {},
   "source": [
    "# Q2. Differentiate between Abstraction and Encapsulation. Explain with an example"
   ]
  },
  {
   "cell_type": "markdown",
   "id": "f69bdcd2-69d9-45ec-839e-af3ffbf383d2",
   "metadata": {},
   "source": [
    "Abstraction focuses on hiding unnecessary details and providing a simplified representation of complex systems or objects. Encapsulation, on the other hand, focuses on bundling data and methods together within a class and controlling their access."
   ]
  },
  {
   "cell_type": "code",
   "execution_count": 3,
   "id": "61c31a5f-e12c-4d43-8ed0-adc158e6aaa1",
   "metadata": {
    "tags": []
   },
   "outputs": [
    {
     "name": "stdout",
     "output_type": "stream",
     "text": [
      "Account balance of Darshan Baslani: 1000\n",
      "Account balance of Darshan Baslani: 500\n"
     ]
    }
   ],
   "source": [
    "class BankAccount:\n",
    "    def __init__(self, account_number, balance):\n",
    "        self.account_number = account_number\n",
    "        self.balance = balance\n",
    "\n",
    "    def deposit(self, amount):\n",
    "        self.balance += amount\n",
    "\n",
    "    def withdraw(self, amount):\n",
    "        if amount <= self.balance:\n",
    "            self.balance -= amount\n",
    "        else:\n",
    "            print(\"Insufficient balance.\")\n",
    "\n",
    "    def get_balance(self):\n",
    "        return self.balance\n",
    "\n",
    "\n",
    "class Customer:\n",
    "    def __init__(self, name, account):\n",
    "        self.name = name\n",
    "        self.account = account\n",
    "\n",
    "    def display_balance(self):\n",
    "        print(f\"Account balance of {self.name}: {self.account.get_balance()}\")\n",
    "\n",
    "\n",
    "account1 = BankAccount(\"123456789\", 1000)\n",
    "customer1 = Customer(\"Darshan Baslani\", account1)\n",
    "\n",
    "customer1.display_balance()\n",
    "\n",
    "customer1.account.withdraw(500)\n",
    "customer1.display_balance()"
   ]
  },
  {
   "cell_type": "markdown",
   "id": "00ff7096-f1e7-4a76-adc9-bf2b6b298242",
   "metadata": {},
   "source": [
    "# Q3. What is abc module in python? Why is it used?"
   ]
  },
  {
   "cell_type": "markdown",
   "id": "a1aa8160-80dd-48ac-b881-e9fc4cc0bd7d",
   "metadata": {},
   "source": [
    "In Python, the abc module stands for \"Abstract Base Classes.\" It provides mechanisms for defining abstract base classes (ABCs) in Python. An abstract base class is a class that cannot be instantiated directly but serves as a blueprint for other classes. The abc module allows you to create abstract methods and enforce the implementation of these methods in derived classes."
   ]
  },
  {
   "cell_type": "markdown",
   "id": "4d75cf7a-428c-4162-9a73-0db491a0196f",
   "metadata": {},
   "source": [
    "# Q4. How can we achieve data abstraction?"
   ]
  },
  {
   "cell_type": "markdown",
   "id": "812be83e-bcc0-42c6-aa30-075fc092e5b8",
   "metadata": {},
   "source": [
    "Data abstraction can be achieved in object-oriented programming through the use of classes, objects, and access modifiers."
   ]
  },
  {
   "cell_type": "code",
   "execution_count": 4,
   "id": "df0b0a8b-6ce8-424d-b508-d4b4ea8564db",
   "metadata": {
    "tags": []
   },
   "outputs": [
    {
     "name": "stdout",
     "output_type": "stream",
     "text": [
      "1500\n",
      "1300\n"
     ]
    }
   ],
   "source": [
    "class BankAccount:\n",
    "    def __init__(self, account_number, balance):\n",
    "        self._account_number = account_number  # Protected attribute\n",
    "        self._balance = balance  # Protected attribute\n",
    "\n",
    "    def deposit(self, amount):\n",
    "        self._balance += amount\n",
    "\n",
    "    def withdraw(self, amount):\n",
    "        if amount <= self._balance:\n",
    "            self._balance -= amount\n",
    "        else:\n",
    "            print(\"Insufficient balance.\")\n",
    "\n",
    "    def get_balance(self):\n",
    "        return self._balance\n",
    "\n",
    "\n",
    "account1 = BankAccount(\"123456789\", 1000)\n",
    "account1.deposit(500)\n",
    "print(account1.get_balance())  # Output: 1500\n",
    "account1.withdraw(200)\n",
    "print(account1.get_balance())  # Output: 1300\n"
   ]
  },
  {
   "cell_type": "markdown",
   "id": "1e211b59-ff33-4954-bc01-3e2c24285661",
   "metadata": {},
   "source": [
    "In this example, the BankAccount class represents a bank account. The account_number and balance attributes are marked as protected by prefixing them with an underscore (_). Although they can still be accessed from outside the class, the underscore convention suggests that they should be treated as internal implementation details."
   ]
  },
  {
   "cell_type": "markdown",
   "id": "22c66b13-2814-4b15-9f94-f99b7a07b3f0",
   "metadata": {},
   "source": [
    "# Q5. Can we create an instance of an abstract class? Explain your answer"
   ]
  },
  {
   "cell_type": "markdown",
   "id": "80b0acbe-5ec7-416c-9739-26e413c12d89",
   "metadata": {},
   "source": [
    "No, we cannot create an instance of an abstract class in most programming languages. Abstract classes are designed to be incomplete and serve as blueprints for derived classes."
   ]
  }
 ],
 "metadata": {
  "kernelspec": {
   "display_name": "Python 3 (ipykernel)",
   "language": "python",
   "name": "python3"
  },
  "language_info": {
   "codemirror_mode": {
    "name": "ipython",
    "version": 3
   },
   "file_extension": ".py",
   "mimetype": "text/x-python",
   "name": "python",
   "nbconvert_exporter": "python",
   "pygments_lexer": "ipython3",
   "version": "3.11.3"
  }
 },
 "nbformat": 4,
 "nbformat_minor": 5
}
