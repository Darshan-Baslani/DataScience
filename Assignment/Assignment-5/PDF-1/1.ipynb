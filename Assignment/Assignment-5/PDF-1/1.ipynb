{
 "cells": [
  {
   "cell_type": "markdown",
   "source": [
    "# What is exception in python? Write difference between exception and syntax error"
   ],
   "metadata": {
    "collapsed": false
   }
  },
  {
   "cell_type": "markdown",
   "source": [
    "Whenever a runtime error occurs, it creates an exception object. The program stops running at this point and Python\n",
    "prints out the traceback, which ends with a message describing the exception that occurred.\n",
    "Exception is used to catch run-time error (mostly logical errors), while syntax error catches compile-time errors."
   ],
   "metadata": {
    "collapsed": false
   }
  },
  {
   "cell_type": "markdown",
   "source": [
    "# Q2. What happens when an exception is not handled? Explain with example."
   ],
   "metadata": {
    "collapsed": false
   }
  },
  {
   "cell_type": "markdown",
   "source": [
    "When an exception is not handled, tracback error will be displayed and the code will stop its execution."
   ],
   "metadata": {
    "collapsed": false
   }
  },
  {
   "cell_type": "code",
   "execution_count": 1,
   "outputs": [
    {
     "ename": "TypeError",
     "evalue": "unsupported operand type(s) for +: 'int' and 'str'",
     "output_type": "error",
     "traceback": [
      "\u001B[1;31m---------------------------------------------------------------------------\u001B[0m",
      "\u001B[1;31mTypeError\u001B[0m                                 Traceback (most recent call last)",
      "Cell \u001B[1;32mIn[1], line 1\u001B[0m\n\u001B[1;32m----> 1\u001B[0m a \u001B[38;5;241m=\u001B[39m \u001B[38;5;241;43m10\u001B[39;49m\u001B[43m \u001B[49m\u001B[38;5;241;43m+\u001B[39;49m\u001B[43m \u001B[49m\u001B[38;5;124;43m'\u001B[39;49m\u001B[38;5;124;43mDarshan\u001B[39;49m\u001B[38;5;124;43m'\u001B[39;49m\n\u001B[0;32m      2\u001B[0m \u001B[38;5;28mprint\u001B[39m(\u001B[38;5;124m\"\u001B[39m\u001B[38;5;124mHello, World!\u001B[39m\u001B[38;5;124m\"\u001B[39m)\n",
      "\u001B[1;31mTypeError\u001B[0m: unsupported operand type(s) for +: 'int' and 'str'"
     ]
    }
   ],
   "source": [
    "a = 10 + 'Darshan'\n",
    "print(\"Hello, World!\")"
   ],
   "metadata": {
    "collapsed": false,
    "ExecuteTime": {
     "end_time": "2023-06-15T03:07:40.197011Z",
     "start_time": "2023-06-15T03:07:39.949227400Z"
    }
   }
  },
  {
   "cell_type": "code",
   "execution_count": 2,
   "outputs": [
    {
     "name": "stdout",
     "output_type": "stream",
     "text": [
      "Type error\n",
      "Hello, World!\n"
     ]
    }
   ],
   "source": [
    "try:\n",
    "    a = 10 + 'Darshan'\n",
    "except TypeError as error:\n",
    "    print(\"Type error\")\n",
    "finally:\n",
    "    print('Hello, World!')"
   ],
   "metadata": {
    "collapsed": false,
    "ExecuteTime": {
     "end_time": "2023-06-15T03:08:56.138722Z",
     "start_time": "2023-06-15T03:08:56.128634500Z"
    }
   }
  },
  {
   "cell_type": "markdown",
   "source": [
    "# Q3. Which python statements are used to catch and handle exceptions? Explain with an example."
   ],
   "metadata": {
    "collapsed": false
   }
  },
  {
   "cell_type": "markdown",
   "source": [
    "try, except, finally and else statements are used to catch and handle exception."
   ],
   "metadata": {
    "collapsed": false
   }
  },
  {
   "cell_type": "code",
   "execution_count": 3,
   "outputs": [
    {
     "name": "stdout",
     "output_type": "stream",
     "text": [
      "Lol! You can't divide a non-zero integer by Zero.\n",
      "Thank-you for using our service!\n"
     ]
    }
   ],
   "source": [
    "try:\n",
    "    a = 10/0\n",
    "except ZeroDivisionError:\n",
    "    print(\"Lol! You can't divide a non-zero integer by Zero.\")\n",
    "else:\n",
    "    print(\"Your answer is : \", a)\n",
    "finally:\n",
    "    print(\"Thank-you for using our service!\")"
   ],
   "metadata": {
    "collapsed": false,
    "ExecuteTime": {
     "end_time": "2023-06-15T03:14:25.160075200Z",
     "start_time": "2023-06-15T03:14:25.142377Z"
    }
   }
  },
  {
   "cell_type": "markdown",
   "source": [
    "# Q4. Explain with an example:\n",
    "# a. try and else\n",
    "# b. finally\n",
    "# c. raise"
   ],
   "metadata": {
    "collapsed": false
   }
  },
  {
   "cell_type": "code",
   "execution_count": 6,
   "outputs": [
    {
     "name": "stdout",
     "output_type": "stream",
     "text": [
      "Your answer is :  2.0\n"
     ]
    }
   ],
   "source": [
    "# try and else\n",
    "dividend = int(input(\"Enter dividend: \"))\n",
    "divisor = int(input(\"Enter divisor: \"))\n",
    "\n",
    "try:\n",
    "    ans = dividend/divisor\n",
    "except ZeroDivisionError:\n",
    "    print(\"You can't enter 0 as a divisor!\")\n",
    "else:\n",
    "    print(\"Your answer is : \", ans)"
   ],
   "metadata": {
    "collapsed": false,
    "ExecuteTime": {
     "end_time": "2023-06-15T03:20:14.894458100Z",
     "start_time": "2023-06-15T03:20:12.236523500Z"
    }
   }
  },
  {
   "cell_type": "code",
   "execution_count": 8,
   "outputs": [
    {
     "name": "stdout",
     "output_type": "stream",
     "text": [
      "File is not present in your working directory.\n"
     ]
    },
    {
     "ename": "NameError",
     "evalue": "name 'file' is not defined",
     "output_type": "error",
     "traceback": [
      "\u001B[1;31m---------------------------------------------------------------------------\u001B[0m",
      "\u001B[1;31mNameError\u001B[0m                                 Traceback (most recent call last)",
      "Cell \u001B[1;32mIn[8], line 7\u001B[0m\n\u001B[0;32m      5\u001B[0m     \u001B[38;5;28mprint\u001B[39m(\u001B[38;5;124m\"\u001B[39m\u001B[38;5;124mFile is not present in your working directory.\u001B[39m\u001B[38;5;124m\"\u001B[39m)\n\u001B[0;32m      6\u001B[0m \u001B[38;5;28;01mfinally\u001B[39;00m:\n\u001B[1;32m----> 7\u001B[0m     \u001B[43mfile\u001B[49m\u001B[38;5;241m.\u001B[39mclose()\n",
      "\u001B[1;31mNameError\u001B[0m: name 'file' is not defined"
     ]
    }
   ],
   "source": [
    "# finally\n",
    "try:\n",
    "    file = open(\"example.txt\", \"r\")\n",
    "except FileNotFoundError:\n",
    "    print(\"File is not present in your working directory.\")\n",
    "finally:\n",
    "    file.close()"
   ],
   "metadata": {
    "collapsed": false,
    "ExecuteTime": {
     "end_time": "2023-06-15T03:23:22.140160100Z",
     "start_time": "2023-06-15T03:23:22.109327Z"
    }
   }
  },
  {
   "cell_type": "code",
   "execution_count": 11,
   "outputs": [
    {
     "ename": "RuntimeError",
     "evalue": "You can't enter negative age.",
     "output_type": "error",
     "traceback": [
      "\u001B[1;31m---------------------------------------------------------------------------\u001B[0m",
      "\u001B[1;31mRuntimeError\u001B[0m                              Traceback (most recent call last)",
      "Cell \u001B[1;32mIn[11], line 9\u001B[0m\n\u001B[0;32m      6\u001B[0m         \u001B[38;5;28mprint\u001B[39m(\u001B[38;5;124m\"\u001B[39m\u001B[38;5;124mYour age is valid.\u001B[39m\u001B[38;5;124m\"\u001B[39m)\n\u001B[0;32m      8\u001B[0m age \u001B[38;5;241m=\u001B[39m \u001B[38;5;28mint\u001B[39m(\u001B[38;5;28minput\u001B[39m(\u001B[38;5;124m\"\u001B[39m\u001B[38;5;124mEnter your age: \u001B[39m\u001B[38;5;124m\"\u001B[39m))\n\u001B[1;32m----> 9\u001B[0m \u001B[43mage_validator\u001B[49m\u001B[43m(\u001B[49m\u001B[43mage\u001B[49m\u001B[43m)\u001B[49m\n",
      "Cell \u001B[1;32mIn[11], line 4\u001B[0m, in \u001B[0;36mage_validator\u001B[1;34m(age)\u001B[0m\n\u001B[0;32m      2\u001B[0m \u001B[38;5;28;01mdef\u001B[39;00m \u001B[38;5;21mage_validator\u001B[39m(age):\n\u001B[0;32m      3\u001B[0m     \u001B[38;5;28;01mif\u001B[39;00m age \u001B[38;5;241m<\u001B[39m \u001B[38;5;241m0\u001B[39m:\n\u001B[1;32m----> 4\u001B[0m         \u001B[38;5;28;01mraise\u001B[39;00m \u001B[38;5;167;01mRuntimeError\u001B[39;00m(\u001B[38;5;124m\"\u001B[39m\u001B[38;5;124mYou can\u001B[39m\u001B[38;5;124m'\u001B[39m\u001B[38;5;124mt enter negative age.\u001B[39m\u001B[38;5;124m\"\u001B[39m)\n\u001B[0;32m      5\u001B[0m     \u001B[38;5;28;01melse\u001B[39;00m:\n\u001B[0;32m      6\u001B[0m         \u001B[38;5;28mprint\u001B[39m(\u001B[38;5;124m\"\u001B[39m\u001B[38;5;124mYour age is valid.\u001B[39m\u001B[38;5;124m\"\u001B[39m)\n",
      "\u001B[1;31mRuntimeError\u001B[0m: You can't enter negative age."
     ]
    }
   ],
   "source": [
    "# raise\n",
    "def age_validator(age):\n",
    "    if age < 0:\n",
    "        raise RuntimeError(\"You can't enter negative age.\")\n",
    "    else:\n",
    "        print(\"Your age is valid.\")\n",
    "\n",
    "age = int(input(\"Enter your age: \"))\n",
    "age_validator(age)"
   ],
   "metadata": {
    "collapsed": false,
    "ExecuteTime": {
     "end_time": "2023-06-15T03:31:54.504859400Z",
     "start_time": "2023-06-15T03:31:51.975871300Z"
    }
   }
  },
  {
   "cell_type": "markdown",
   "source": [
    "# Q5. What are Custom Exceptions in Python? Why do we need Custom Exceptions? Explain with an example."
   ],
   "metadata": {
    "collapsed": false
   }
  },
  {
   "cell_type": "markdown",
   "source": [
    "In Python, custom exceptions are user-defined exception classes that can be created to handle specific types of errors or exceptional situations in a program. Custom Exceptions are used for Specific error handling."
   ],
   "metadata": {
    "collapsed": false
   }
  },
  {
   "cell_type": "code",
   "execution_count": 23,
   "outputs": [],
   "source": [
    "class Bank:\n",
    "    def __init__(self, acc_no:int, name:str, amount:int):\n",
    "        self.acc_no = acc_no\n",
    "        self.name = name\n",
    "        self.amount = amount\n",
    "\n",
    "    def deposit(self, amount):\n",
    "        self.amount += amount\n",
    "        print(\"Total amount in the account: \", self.amount)\n",
    "\n",
    "    def withdraw(self, amount):\n",
    "        self.amount -= amount\n",
    "        if self.amount < 1000:\n",
    "            raise InsufficientBalance()\n",
    "        else:\n",
    "            print(\"Amount Remaining: \", self.amount)\n",
    "\n",
    "class InsufficientBalance(Exception):\n",
    "    def __init__(self):\n",
    "        print(\"You can't withdraw the entered amount. You need to balance at least 1000 rupees in you account\")\n",
    "\n",
    "acc1 = Bank(12345, \"Darshan\", 1500)"
   ],
   "metadata": {
    "collapsed": false,
    "ExecuteTime": {
     "end_time": "2023-06-15T09:32:34.819015600Z",
     "start_time": "2023-06-15T09:32:34.789611200Z"
    }
   }
  },
  {
   "cell_type": "code",
   "execution_count": 24,
   "outputs": [
    {
     "name": "stdout",
     "output_type": "stream",
     "text": [
      "Total amount in the account:  2000\n"
     ]
    }
   ],
   "source": [
    "acc1.deposit(500)"
   ],
   "metadata": {
    "collapsed": false,
    "ExecuteTime": {
     "end_time": "2023-06-15T09:32:37.755714900Z",
     "start_time": "2023-06-15T09:32:37.746482900Z"
    }
   }
  },
  {
   "cell_type": "code",
   "execution_count": 25,
   "outputs": [
    {
     "name": "stdout",
     "output_type": "stream",
     "text": [
      "You can't withdraw the entered amount. You need to balance at least 1000 rupees in you account\n"
     ]
    },
    {
     "ename": "InsufficientBalance",
     "evalue": "",
     "output_type": "error",
     "traceback": [
      "\u001B[1;31m---------------------------------------------------------------------------\u001B[0m",
      "\u001B[1;31mInsufficientBalance\u001B[0m                       Traceback (most recent call last)",
      "Cell \u001B[1;32mIn[25], line 1\u001B[0m\n\u001B[1;32m----> 1\u001B[0m \u001B[43macc1\u001B[49m\u001B[38;5;241;43m.\u001B[39;49m\u001B[43mwithdraw\u001B[49m\u001B[43m(\u001B[49m\u001B[38;5;241;43m1500\u001B[39;49m\u001B[43m)\u001B[49m\n",
      "Cell \u001B[1;32mIn[23], line 14\u001B[0m, in \u001B[0;36mBank.withdraw\u001B[1;34m(self, amount)\u001B[0m\n\u001B[0;32m     12\u001B[0m \u001B[38;5;28mself\u001B[39m\u001B[38;5;241m.\u001B[39mamount \u001B[38;5;241m-\u001B[39m\u001B[38;5;241m=\u001B[39m amount\n\u001B[0;32m     13\u001B[0m \u001B[38;5;28;01mif\u001B[39;00m \u001B[38;5;28mself\u001B[39m\u001B[38;5;241m.\u001B[39mamount \u001B[38;5;241m<\u001B[39m \u001B[38;5;241m1000\u001B[39m:\n\u001B[1;32m---> 14\u001B[0m     \u001B[38;5;28;01mraise\u001B[39;00m InsufficientBalance()\n\u001B[0;32m     15\u001B[0m \u001B[38;5;28;01melse\u001B[39;00m:\n\u001B[0;32m     16\u001B[0m     \u001B[38;5;28mprint\u001B[39m(\u001B[38;5;124m\"\u001B[39m\u001B[38;5;124mAmount Remaining: \u001B[39m\u001B[38;5;124m\"\u001B[39m, \u001B[38;5;28mself\u001B[39m\u001B[38;5;241m.\u001B[39mamount)\n",
      "\u001B[1;31mInsufficientBalance\u001B[0m: "
     ]
    }
   ],
   "source": [
    "acc1.withdraw(1500)"
   ],
   "metadata": {
    "collapsed": false,
    "ExecuteTime": {
     "end_time": "2023-06-15T09:32:39.272050Z",
     "start_time": "2023-06-15T09:32:39.237567900Z"
    }
   }
  },
  {
   "cell_type": "markdown",
   "source": [
    "# Q6. Create a custom exception class. Use this class to handle an exception."
   ],
   "metadata": {
    "collapsed": false
   }
  },
  {
   "cell_type": "code",
   "execution_count": 27,
   "outputs": [
    {
     "ename": "NegativeIntError",
     "evalue": "Negative numbers are not allowed",
     "output_type": "error",
     "traceback": [
      "\u001B[1;31m---------------------------------------------------------------------------\u001B[0m",
      "\u001B[1;31mNegativeIntError\u001B[0m                          Traceback (most recent call last)",
      "Cell \u001B[1;32mIn[27], line 10\u001B[0m\n\u001B[0;32m      7\u001B[0m         \u001B[38;5;28;01mraise\u001B[39;00m NegativeIntError\n\u001B[0;32m      8\u001B[0m     \u001B[38;5;28mprint\u001B[39m(\u001B[38;5;124mf\u001B[39m\u001B[38;5;124m\"\u001B[39m\u001B[38;5;124mSquare of \u001B[39m\u001B[38;5;132;01m{\u001B[39;00mnumber\u001B[38;5;132;01m}\u001B[39;00m\u001B[38;5;124m is : \u001B[39m\u001B[38;5;132;01m{\u001B[39;00mnumber\u001B[38;5;241m*\u001B[39m\u001B[38;5;241m*\u001B[39m\u001B[38;5;241m2\u001B[39m\u001B[38;5;132;01m}\u001B[39;00m\u001B[38;5;124m\"\u001B[39m)\n\u001B[1;32m---> 10\u001B[0m \u001B[43msquare\u001B[49m\u001B[43m(\u001B[49m\u001B[38;5;241;43m-\u001B[39;49m\u001B[38;5;241;43m2\u001B[39;49m\u001B[43m)\u001B[49m\n",
      "Cell \u001B[1;32mIn[27], line 7\u001B[0m, in \u001B[0;36msquare\u001B[1;34m(number)\u001B[0m\n\u001B[0;32m      5\u001B[0m \u001B[38;5;28;01mdef\u001B[39;00m \u001B[38;5;21msquare\u001B[39m(number):\n\u001B[0;32m      6\u001B[0m     \u001B[38;5;28;01mif\u001B[39;00m number \u001B[38;5;241m<\u001B[39m \u001B[38;5;241m0\u001B[39m:\n\u001B[1;32m----> 7\u001B[0m         \u001B[38;5;28;01mraise\u001B[39;00m NegativeIntError\n\u001B[0;32m      8\u001B[0m     \u001B[38;5;28mprint\u001B[39m(\u001B[38;5;124mf\u001B[39m\u001B[38;5;124m\"\u001B[39m\u001B[38;5;124mSquare of \u001B[39m\u001B[38;5;132;01m{\u001B[39;00mnumber\u001B[38;5;132;01m}\u001B[39;00m\u001B[38;5;124m is : \u001B[39m\u001B[38;5;132;01m{\u001B[39;00mnumber\u001B[38;5;241m*\u001B[39m\u001B[38;5;241m*\u001B[39m\u001B[38;5;241m2\u001B[39m\u001B[38;5;132;01m}\u001B[39;00m\u001B[38;5;124m\"\u001B[39m)\n",
      "\u001B[1;31mNegativeIntError\u001B[0m: Negative numbers are not allowed"
     ]
    }
   ],
   "source": [
    "class NegativeIntError(Exception):\n",
    "    def __init__(self):\n",
    "        super().__init__(\"Negative numbers are not allowed\")\n",
    "\n",
    "def square(number):\n",
    "    if number < 0:\n",
    "        raise NegativeIntError\n",
    "    print(f\"Square of {number} is : {number**2}\")\n",
    "\n",
    "square(-2)"
   ],
   "metadata": {
    "collapsed": false,
    "ExecuteTime": {
     "end_time": "2023-06-15T09:39:49.237978700Z",
     "start_time": "2023-06-15T09:39:49.199907600Z"
    }
   }
  }
 ],
 "metadata": {
  "kernelspec": {
   "display_name": "Python 3",
   "language": "python",
   "name": "python3"
  },
  "language_info": {
   "codemirror_mode": {
    "name": "ipython",
    "version": 2
   },
   "file_extension": ".py",
   "mimetype": "text/x-python",
   "name": "python",
   "nbconvert_exporter": "python",
   "pygments_lexer": "ipython2",
   "version": "2.7.6"
  }
 },
 "nbformat": 4,
 "nbformat_minor": 0
}
