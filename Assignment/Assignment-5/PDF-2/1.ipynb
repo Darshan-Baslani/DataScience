{
 "cells": [
  {
   "cell_type": "markdown",
   "source": [
    "# Q1. Explain why we have to use the Exception class while creating a Custom Exception.\n",
    "# Note: Here Exception class refers to the base class for all the exceptions"
   ],
   "metadata": {
    "collapsed": false
   }
  },
  {
   "cell_type": "markdown",
   "source": [
    "Using the Exception class as the base class when creating a custom exception allows our custom exception to inherit the fundamental behavior and functionality of the base Exception class. The Exception class is the base class for all exceptions in Python, and it provides essential attributes and methods that are necessary for exception handling."
   ],
   "metadata": {
    "collapsed": false
   }
  },
  {
   "cell_type": "markdown",
   "source": [
    "# Q2. Write a python program to print Python Exception Hierarchy."
   ],
   "metadata": {
    "collapsed": false
   }
  },
  {
   "cell_type": "code",
   "execution_count": 10,
   "outputs": [
    {
     "name": "stdout",
     "output_type": "stream",
     "text": [
      "Exception\n",
      "    ArithmeticError\n",
      "        FloatingPointError\n",
      "        OverflowError\n",
      "        ZeroDivisionError\n",
      "            DivisionByZero\n",
      "            DivisionUndefined\n",
      "        DecimalException\n",
      "            Clamped\n",
      "            Rounded\n",
      "                Underflow\n",
      "                Overflow\n",
      "            Inexact\n",
      "                Underflow\n",
      "                Overflow\n",
      "            Subnormal\n",
      "                Underflow\n",
      "            DivisionByZero\n",
      "            FloatOperation\n",
      "            InvalidOperation\n",
      "                ConversionSyntax\n",
      "                DivisionImpossible\n",
      "                DivisionUndefined\n",
      "                InvalidContext\n",
      "    AssertionError\n",
      "    AttributeError\n",
      "        FrozenInstanceError\n",
      "    BufferError\n",
      "    EOFError\n",
      "        IncompleteReadError\n",
      "    ImportError\n",
      "        ModuleNotFoundError\n",
      "            PackageNotFoundError\n",
      "        ZipImportError\n",
      "    LookupError\n",
      "        IndexError\n",
      "        KeyError\n",
      "            NoSuchKernel\n",
      "            UnknownBackend\n",
      "        CodecRegistryError\n",
      "    MemoryError\n",
      "    NameError\n",
      "        UnboundLocalError\n",
      "    OSError\n",
      "        BlockingIOError\n",
      "        ChildProcessError\n",
      "        ConnectionError\n",
      "            BrokenPipeError\n",
      "            ConnectionAbortedError\n",
      "            ConnectionRefusedError\n",
      "            ConnectionResetError\n",
      "                RemoteDisconnected\n",
      "        FileExistsError\n",
      "        FileNotFoundError\n",
      "        InterruptedError\n",
      "            InterruptedSystemCall\n",
      "        IsADirectoryError\n",
      "        NotADirectoryError\n",
      "        PermissionError\n",
      "        ProcessLookupError\n",
      "        TimeoutError\n",
      "        UnsupportedOperation\n",
      "        herror\n",
      "        gaierror\n",
      "        SSLError\n",
      "            SSLCertVerificationError\n",
      "            SSLZeroReturnError\n",
      "            SSLWantWriteError\n",
      "            SSLWantReadError\n",
      "            SSLSyscallError\n",
      "            SSLEOFError\n",
      "        Error\n",
      "            SameFileError\n",
      "        SpecialFileError\n",
      "        ExecError\n",
      "        ReadError\n",
      "        URLError\n",
      "            HTTPError\n",
      "            ContentTooShortError\n",
      "        BadGzipFile\n",
      "    ReferenceError\n",
      "    RuntimeError\n",
      "        NotImplementedError\n",
      "            ZMQVersionError\n",
      "            StdinNotImplementedError\n",
      "        RecursionError\n",
      "        _DeadlockError\n",
      "        BrokenBarrierError\n",
      "        BrokenExecutor\n",
      "            BrokenThreadPool\n",
      "        SendfileNotAvailableError\n",
      "        BrokenBarrierError\n",
      "        ExtractionError\n",
      "        VariableError\n",
      "        VariableError\n",
      "        FrameNotFoundError\n",
      "    StopAsyncIteration\n",
      "    StopIteration\n",
      "    SyntaxError\n",
      "        IndentationError\n",
      "            TabError\n",
      "    SystemError\n",
      "        CodecRegistryError\n",
      "    TypeError\n",
      "        FloatOperation\n",
      "        MultipartConversionError\n",
      "    ValueError\n",
      "        UnicodeError\n",
      "            UnicodeDecodeError\n",
      "            UnicodeEncodeError\n",
      "            UnicodeTranslateError\n",
      "        UnsupportedOperation\n",
      "        JSONDecodeError\n",
      "        SSLCertVerificationError\n",
      "        Error\n",
      "        UnsupportedDigestmodError\n",
      "        IllegalMonthError\n",
      "        IllegalWeekdayError\n",
      "        ParserError\n",
      "        MessageDefect\n",
      "            NoBoundaryInMultipartDefect\n",
      "            StartBoundaryNotFoundDefect\n",
      "            CloseBoundaryNotFoundDefect\n",
      "            FirstHeaderLineIsContinuationDefect\n",
      "            MisplacedEnvelopeHeaderDefect\n",
      "            MissingHeaderBodySeparatorDefect\n",
      "            MultipartInvariantViolationDefect\n",
      "            InvalidMultipartContentTransferEncodingDefect\n",
      "            UndecodableBytesDefect\n",
      "            InvalidBase64PaddingDefect\n",
      "            InvalidBase64CharactersDefect\n",
      "            InvalidBase64LengthDefect\n",
      "            HeaderDefect\n",
      "                InvalidHeaderDefect\n",
      "                HeaderMissingRequiredValue\n",
      "                NonPrintableDefect\n",
      "                ObsoleteHeaderDefect\n",
      "                NonASCIILocalPartDefect\n",
      "                InvalidDateDefect\n",
      "        ClassNotFound\n",
      "        ClipboardEmpty\n",
      "        MacroToEdit\n",
      "        InvalidFileException\n",
      "        UnequalIterablesError\n",
      "        InvalidVersion\n",
      "        _InvalidELFFileHeader\n",
      "        InvalidWheelFilename\n",
      "        InvalidSdistFilename\n",
      "        InvalidSpecifier\n",
      "        InvalidMarker\n",
      "        UndefinedComparison\n",
      "        UndefinedEnvironmentName\n",
      "        InvalidRequirement\n",
      "            RequirementParseError\n",
      "        InvalidVersion\n",
      "    Warning\n",
      "        BytesWarning\n",
      "        DeprecationWarning\n",
      "            ProvisionalWarning\n",
      "        EncodingWarning\n",
      "        FutureWarning\n",
      "            ProvisionalCompleterWarning\n",
      "        ImportWarning\n",
      "        PendingDeprecationWarning\n",
      "        ResourceWarning\n",
      "        RuntimeWarning\n",
      "            ProactorSelectorThreadWarning\n",
      "            UnknownTimezoneWarning\n",
      "            PEP440Warning\n",
      "        SyntaxWarning\n",
      "        UnicodeWarning\n",
      "        UserWarning\n",
      "            GetPassWarning\n",
      "            FormatterWarning\n",
      "        DeprecatedTzFormatWarning\n",
      "        PkgResourcesDeprecationWarning\n",
      "    ExceptionGroup\n",
      "    _OptionError\n",
      "    _Error\n",
      "    error\n",
      "    Error\n",
      "    SubprocessError\n",
      "        CalledProcessError\n",
      "        TimeoutExpired\n",
      "    ZMQBaseError\n",
      "        ZMQError\n",
      "            ContextTerminated\n",
      "            Again\n",
      "            InterruptedSystemCall\n",
      "        ZMQBindError\n",
      "        NotDone\n",
      "    Error\n",
      "    error\n",
      "    PickleError\n",
      "        PicklingError\n",
      "        UnpicklingError\n",
      "    _Stop\n",
      "    TokenError\n",
      "    StopTokenizing\n",
      "    Error\n",
      "        CancelledError\n",
      "        InvalidStateError\n",
      "    _GiveupOnSendfile\n",
      "    Incomplete\n",
      "    ClassFoundException\n",
      "    EndOfBlock\n",
      "    InvalidStateError\n",
      "    LimitOverrunError\n",
      "    QueueEmpty\n",
      "    QueueFull\n",
      "    error\n",
      "    LZMAError\n",
      "    RegistryError\n",
      "    _GiveupOnFastCopy\n",
      "    TraitError\n",
      "    Empty\n",
      "    Full\n",
      "    ArgumentError\n",
      "    COMError\n",
      "    ReturnValueIgnoredError\n",
      "    ArgumentError\n",
      "    ArgumentTypeError\n",
      "    ConfigError\n",
      "        ConfigLoaderError\n",
      "            ArgumentError\n",
      "        ConfigFileNotFound\n",
      "    ConfigurableError\n",
      "        MultipleInstanceError\n",
      "    ApplicationError\n",
      "    InvalidPortNumber\n",
      "    NoIPAddresses\n",
      "    Error\n",
      "    BadZipFile\n",
      "    LargeZipFile\n",
      "    MessageError\n",
      "        MessageParseError\n",
      "            HeaderParseError\n",
      "            BoundaryError\n",
      "        MultipartConversionError\n",
      "        CharsetError\n",
      "    DuplicateKernelError\n",
      "    ErrorDuringImport\n",
      "    NotOneValueFound\n",
      "    KnownIssue\n",
      "    VerifierFailure\n",
      "    CannotEval\n",
      "    OptionError\n",
      "    BdbQuit\n",
      "    Restart\n",
      "    FindCmdError\n",
      "    HomeDirError\n",
      "    ProfileDirError\n",
      "    IPythonCoreError\n",
      "        TryNext\n",
      "        UsageError\n",
      "        StdinNotImplementedError\n",
      "    InputRejected\n",
      "    GetoptError\n",
      "    ErrorToken\n",
      "    PrefilterError\n",
      "    AliasError\n",
      "        InvalidAliasError\n",
      "    Error\n",
      "        InterfaceError\n",
      "        DatabaseError\n",
      "            InternalError\n",
      "            OperationalError\n",
      "            ProgrammingError\n",
      "            IntegrityError\n",
      "            DataError\n",
      "            NotSupportedError\n",
      "    Warning\n",
      "    SpaceInInput\n",
      "    DOMException\n",
      "        IndexSizeErr\n",
      "        DomstringSizeErr\n",
      "        HierarchyRequestErr\n",
      "        WrongDocumentErr\n",
      "        InvalidCharacterErr\n",
      "        NoDataAllowedErr\n",
      "        NoModificationAllowedErr\n",
      "        NotFoundErr\n",
      "        NotSupportedErr\n",
      "        InuseAttributeErr\n",
      "        InvalidStateErr\n",
      "        SyntaxErr\n",
      "        InvalidModificationErr\n",
      "        NamespaceErr\n",
      "        InvalidAccessErr\n",
      "        ValidationErr\n",
      "    ValidationError\n",
      "    EditReadOnlyBuffer\n",
      "    _Retry\n",
      "    InvalidLayoutError\n",
      "    HeightIsUnknownError\n",
      "    GuardRejection\n",
      "    ParserSyntaxError\n",
      "    InternalParseError\n",
      "    _PositionUpdatingFinished\n",
      "    SimpleGetItemNotFound\n",
      "    UncaughtAttributeError\n",
      "    HasNoContext\n",
      "    ParamIssue\n",
      "    _JediError\n",
      "        InternalError\n",
      "        WrongVersion\n",
      "        RefactoringError\n",
      "    OnErrorLeaf\n",
      "    InvalidPythonEnvironment\n",
      "    HTTPException\n",
      "        NotConnected\n",
      "        InvalidURL\n",
      "        UnknownProtocol\n",
      "        UnknownTransferEncoding\n",
      "        UnimplementedFileMode\n",
      "        IncompleteRead\n",
      "        ImproperConnectionState\n",
      "            CannotSendRequest\n",
      "            CannotSendHeader\n",
      "            ResponseNotReady\n",
      "        BadStatusLine\n",
      "            RemoteDisconnected\n",
      "        LineTooLong\n",
      "    InteractivelyDefined\n",
      "    KillEmbedded\n",
      "    Error\n",
      "        NoSuchProcess\n",
      "            ZombieProcess\n",
      "        AccessDenied\n",
      "        TimeoutExpired\n",
      "    Error\n",
      "    TimeoutExpired\n",
      "    TimeoutAbandoned\n",
      "    KeyReuseError\n",
      "    UnknownKeyError\n",
      "    LeakedCallbackError\n",
      "    BadYieldError\n",
      "    ReturnValueIgnoredError\n",
      "    Return\n",
      "    QueueEmpty\n",
      "    QueueFull\n",
      "    DebuggerInitializationError\n",
      "    ExpatError\n",
      "    Error\n",
      "        ProtocolError\n",
      "        ResponseError\n",
      "        Fault\n",
      "    error\n",
      "    com_error\n",
      "    internal_error\n",
      "    ParseBaseException\n",
      "        ParseException\n",
      "        ParseFatalException\n",
      "            ParseSyntaxException\n",
      "    RecursiveGrammarException\n",
      "    ResolutionError\n",
      "        VersionConflict\n",
      "            ContextualVersionConflict\n",
      "        DistributionNotFound\n",
      "        UnknownExtra\n",
      "    _Error\n",
      "    UnableToResolveVariableException\n",
      "    InvalidTypeInArgsException\n",
      "    UnableToResolveVariableException\n",
      "    ExceedingArrayDimensionsException\n"
     ]
    }
   ],
   "source": [
    "def print_hierarchy(cls, index=0):\n",
    "    print(\" \"*index + cls.__name__)\n",
    "    for sub_class in cls.__subclasses__():\n",
    "        print_hierarchy(sub_class, index+4)\n",
    "\n",
    "print_hierarchy(Exception)"
   ],
   "metadata": {
    "collapsed": false,
    "ExecuteTime": {
     "end_time": "2023-06-15T10:14:06.741523200Z",
     "start_time": "2023-06-15T10:14:06.731466400Z"
    }
   }
  },
  {
   "cell_type": "markdown",
   "source": [
    "# Q3. What errors are defined in the ArithmeticError class? Explain any two with an example"
   ],
   "metadata": {
    "collapsed": false
   }
  },
  {
   "cell_type": "markdown",
   "source": [
    "1. ZeroDivisionError : raised when an integer is divided by zero.\n",
    "2. Overflow : raised when the max value of the datatype is exceeded."
   ],
   "metadata": {
    "collapsed": false
   }
  },
  {
   "cell_type": "code",
   "execution_count": 11,
   "outputs": [
    {
     "ename": "ZeroDivisionError",
     "evalue": "division by zero",
     "output_type": "error",
     "traceback": [
      "\u001B[1;31m---------------------------------------------------------------------------\u001B[0m",
      "\u001B[1;31mZeroDivisionError\u001B[0m                         Traceback (most recent call last)",
      "Cell \u001B[1;32mIn[11], line 1\u001B[0m\n\u001B[1;32m----> 1\u001B[0m a \u001B[38;5;241m=\u001B[39m \u001B[38;5;241;43m5\u001B[39;49m\u001B[38;5;241;43m/\u001B[39;49m\u001B[38;5;241;43m0\u001B[39;49m\n",
      "\u001B[1;31mZeroDivisionError\u001B[0m: division by zero"
     ]
    }
   ],
   "source": [
    "a = 5/0"
   ],
   "metadata": {
    "collapsed": false,
    "ExecuteTime": {
     "end_time": "2023-06-15T10:18:08.570881800Z",
     "start_time": "2023-06-15T10:18:08.537774200Z"
    }
   }
  },
  {
   "cell_type": "code",
   "execution_count": 23,
   "outputs": [],
   "source": [
    "import sys\n",
    "\n",
    "try:\n",
    "    result = sys.maxsize * 2\n",
    "except OverflowError as error:\n",
    "    print(\"Error:\", error)"
   ],
   "metadata": {
    "collapsed": false,
    "ExecuteTime": {
     "end_time": "2023-06-15T10:20:39.395365400Z",
     "start_time": "2023-06-15T10:20:39.390083700Z"
    }
   }
  },
  {
   "cell_type": "code",
   "execution_count": 24,
   "outputs": [
    {
     "data": {
      "text/plain": "18446744073709551614"
     },
     "execution_count": 24,
     "metadata": {},
     "output_type": "execute_result"
    }
   ],
   "source": [
    "result"
   ],
   "metadata": {
    "collapsed": false,
    "ExecuteTime": {
     "end_time": "2023-06-15T10:20:46.772615600Z",
     "start_time": "2023-06-15T10:20:46.747792200Z"
    }
   }
  },
  {
   "cell_type": "markdown",
   "source": [
    "# Q4. Why LookupError class is used? Explain with an example KeyError and IndexError."
   ],
   "metadata": {
    "collapsed": false
   }
  },
  {
   "cell_type": "markdown",
   "source": [
    "The LookupError class is a base class for exceptions that are raised when an indexing or key lookup operation fails in a dictionary or list."
   ],
   "metadata": {
    "collapsed": false
   }
  },
  {
   "cell_type": "code",
   "execution_count": 25,
   "outputs": [
    {
     "name": "stdout",
     "output_type": "stream",
     "text": [
      "KeyError: 'c'\n"
     ]
    }
   ],
   "source": [
    "# KeyError is raised when a dictionary does not have a key that is being looked up.\n",
    "\n",
    "d = {\"a\": 1, \"b\": 2}\n",
    "try:\n",
    "    print(d[\"c\"])\n",
    "except KeyError as e:\n",
    "    print(\"KeyError:\", e)"
   ],
   "metadata": {
    "collapsed": false,
    "ExecuteTime": {
     "end_time": "2023-06-15T10:23:41.402875Z",
     "start_time": "2023-06-15T10:23:41.385280700Z"
    }
   }
  },
  {
   "cell_type": "code",
   "execution_count": 26,
   "outputs": [
    {
     "name": "stdout",
     "output_type": "stream",
     "text": [
      "IndexError: list index out of range\n"
     ]
    }
   ],
   "source": [
    "# IndexError is raised when a list index is out of range.\n",
    "\n",
    "l = [1, 2, 3]\n",
    "try:\n",
    "    print(l[3])\n",
    "except IndexError as e:\n",
    "    print(\"IndexError:\", e)"
   ],
   "metadata": {
    "collapsed": false,
    "ExecuteTime": {
     "end_time": "2023-06-15T10:23:51.842175100Z",
     "start_time": "2023-06-15T10:23:51.803193400Z"
    }
   }
  },
  {
   "cell_type": "markdown",
   "source": [
    "# Q5. Explain ImportError. What is ModuleNotFoundError?"
   ],
   "metadata": {
    "collapsed": false
   }
  },
  {
   "cell_type": "markdown",
   "source": [
    "ImportError occurs when you try to import modules or pakages which are not present or installed in the sys.path or PYTHONPATH.\n",
    "\n",
    "ModuleNotFoundError occurs when a module cannot be found in the sys.path or PYTHONPATH."
   ],
   "metadata": {
    "collapsed": false
   }
  },
  {
   "cell_type": "markdown",
   "source": [
    "# Q6. List down some best practices for exception handling in python."
   ],
   "metadata": {
    "collapsed": false
   }
  },
  {
   "cell_type": "markdown",
   "source": [
    "-> Always catch specific exceptions instead of general Exception class.\n",
    "-> Provide meaningful error messages to the user with print statement or by logging method.\n",
    "-> Handel exceptions in right order means order your except blocks from the most specific to the most general.This helps in avoiding unexpected behavior and ensures      that the right exception is caught.\n",
    "-> Use logging instead of print because it helps in debugging process of code."
   ],
   "metadata": {
    "collapsed": false
   }
  }
 ],
 "metadata": {
  "kernelspec": {
   "display_name": "Python 3",
   "language": "python",
   "name": "python3"
  },
  "language_info": {
   "codemirror_mode": {
    "name": "ipython",
    "version": 2
   },
   "file_extension": ".py",
   "mimetype": "text/x-python",
   "name": "python",
   "nbconvert_exporter": "python",
   "pygments_lexer": "ipython2",
   "version": "2.7.6"
  }
 },
 "nbformat": 4,
 "nbformat_minor": 0
}
