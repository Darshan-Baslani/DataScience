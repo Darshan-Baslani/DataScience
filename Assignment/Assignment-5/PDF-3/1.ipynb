{
 "cells": [
  {
   "cell_type": "markdown",
   "source": [
    "# Q1. What is multithreading in python? Why is it used? Name the module used to handle threads in python."
   ],
   "metadata": {
    "collapsed": false
   }
  },
  {
   "cell_type": "markdown",
   "source": [
    "Multithreading in Python refers to the ability of a program to execute multiple threads concurrently. The primary reason for using multithreading in Python is to achieve concurrency. By using multiple threads, a program can perform multiple tasks simultaneously or handle multiple I/O operations efficiently. The module used to handle threads in Python is called threading."
   ],
   "metadata": {
    "collapsed": false
   }
  },
  {
   "cell_type": "markdown",
   "source": [
    "# Q2.  Why threading module used? Write the use of the following functions:\n",
    "# 1. activeCount()\n",
    "# 2. currentThread()\n",
    "# 3. enumerate()"
   ],
   "metadata": {
    "collapsed": false
   }
  },
  {
   "cell_type": "markdown",
   "source": [
    "1. activeCount(): This function returns the number of Thread objects currently alive.\n",
    "2. currentThread(): This function returns the current Thread object, representing the thread from which it is called.\n",
    "3. enumerate(): This function returns a list of all Thread objects currently alive."
   ],
   "metadata": {
    "collapsed": false
   }
  },
  {
   "cell_type": "markdown",
   "source": [
    "# Q3. Explain the following functions:\n",
    "# -> run()\n",
    "# -> start()\n",
    "# -> join()\n",
    "# -> isAlive()"
   ],
   "metadata": {
    "collapsed": false
   }
  },
  {
   "cell_type": "markdown",
   "source": [
    "1. fun():you can define any function that you want to run in a separate thread, and you can replace \"fun()\" with the name of your custom function.\n",
    "2. start(): The start() method is used to start the execution of a thread.\n",
    "3. join(): The join() method is used to wait for a thread to complete its execution.\n",
    "4. isAlive(): The isAlive() method is used to check whether a thread is currently executing or not."
   ],
   "metadata": {
    "collapsed": false
   }
  },
  {
   "cell_type": "markdown",
   "source": [
    "# Q4. Write a python program to create two threads. Thread one must print the list of squares and thread two must print the list of cubes."
   ],
   "metadata": {
    "collapsed": false
   }
  },
  {
   "cell_type": "code",
   "execution_count": 19,
   "outputs": [
    {
     "name": "stdout",
     "output_type": "stream",
     "text": [
      "1\n",
      "4\n",
      "9\n",
      "16\n",
      "25\n",
      "36\n",
      "49\n",
      "64\n",
      "81\n",
      "1\n",
      "100\n",
      "8\n",
      "27\n",
      "64\n",
      "125\n",
      "216\n",
      "343\n",
      "512\n",
      "729\n",
      "1000\n"
     ]
    }
   ],
   "source": [
    "import logging\n",
    "import threading\n",
    "\n",
    "logging.basicConfig(filename=\"Q4.log\", level=logging.DEBUG)\n",
    "\n",
    "def square():\n",
    "    for x in range(1,11):\n",
    "        print(x**2)\n",
    "        logging.info(f\"{x**2} has been printed\")\n",
    "\n",
    "def cube():\n",
    "    for x in range(1,11):\n",
    "        print(x**3)\n",
    "        logging.info(f\"{x**3} has been printed\")\n",
    "\n",
    "try:\n",
    "    thread1 = threading.Thread(target=square)\n",
    "    thread2 = threading.Thread(target=cube)\n",
    "    logging.info(\"The threads have started running\")\n",
    "    thread1.start()\n",
    "    thread2.start()\n",
    "    logging.info(\"The threads have completed running.\")\n",
    "except Exception as error:\n",
    "    print(f\"Lol! There is an error: {error}\")\n",
    "    logging.error(\"Error was found.\")\n",
    "else:\n",
    "    thread1.join()\n",
    "    thread2.join()\n",
    "    logging.info(\"Threads have been terminated!\")\n"
   ],
   "metadata": {
    "collapsed": false,
    "ExecuteTime": {
     "end_time": "2023-06-15T14:42:23.672548400Z",
     "start_time": "2023-06-15T14:42:23.664511100Z"
    }
   }
  },
  {
   "cell_type": "markdown",
   "source": [
    "The above results are shattered because of 2 threads running on same time."
   ],
   "metadata": {
    "collapsed": false
   }
  },
  {
   "cell_type": "markdown",
   "source": [
    "# Q5. State advantages and disadvantages of multithreading."
   ],
   "metadata": {
    "collapsed": false
   }
  },
  {
   "cell_type": "markdown",
   "source": [
    "Advantages of Multithreading:\n",
    "\n",
    "1. Improved performance by utilizing multiple threads.\n",
    "2. Enhanced responsiveness and better user experience.\n",
    "3. Efficient resource sharing and communication between threads.\n",
    "4. Scalability to handle increased workloads.\n",
    "\n",
    "Disadvantages of Multithreading:\n",
    "\n",
    "1. Increased complexity in application development.\n",
    "2. Synchronization overhead and potential for race conditions.\n",
    "3. Deadlocks and non-deterministic behavior.\n",
    "4. Additional memory usage.\n",
    "5. Difficulty in debugging multithreaded applications.\n"
   ],
   "metadata": {
    "collapsed": false
   }
  },
  {
   "cell_type": "markdown",
   "source": [
    "# Q6. Explain deadlocks and race conditions"
   ],
   "metadata": {
    "collapsed": false
   }
  },
  {
   "cell_type": "markdown",
   "source": [
    "Deadlock: A situation where multiple threads are stuck, each waiting for a resource held by another thread, resulting in a system freeze.\n",
    "\n",
    "Race Condition: Occurs when multiple threads access and modify shared data concurrently without proper synchronization, leading to unpredictable and potentially incorrect behavior."
   ],
   "metadata": {
    "collapsed": false
   }
  }
 ],
 "metadata": {
  "kernelspec": {
   "display_name": "Python 3",
   "language": "python",
   "name": "python3"
  },
  "language_info": {
   "codemirror_mode": {
    "name": "ipython",
    "version": 2
   },
   "file_extension": ".py",
   "mimetype": "text/x-python",
   "name": "python",
   "nbconvert_exporter": "python",
   "pygments_lexer": "ipython2",
   "version": "2.7.6"
  }
 },
 "nbformat": 4,
 "nbformat_minor": 0
}
