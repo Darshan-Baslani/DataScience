{
 "cells": [
  {
   "cell_type": "markdown",
   "source": [
    "# Q1. What is multiprocessing in python? Why is it useful?"
   ],
   "metadata": {
    "collapsed": false
   }
  },
  {
   "cell_type": "markdown",
   "source": [
    "Multiprocessing in Python refers to the capability of running multiple processes simultaneously to execute tasks.\n",
    "-> Enables parallel execution of tasks\n",
    "-> Improves performance by utilizing multiple CPU cores or processors\n",
    "-> Optimizes resource utilization on modern computers\n",
    "-> Maintains program responsiveness by offloading time-consuming tasks\n",
    "-> Enhances fault tolerance by isolating processes from each other"
   ],
   "metadata": {
    "collapsed": false
   }
  },
  {
   "cell_type": "markdown",
   "source": [
    "# Q2. What are the differences between multiprocessing and multithreading?"
   ],
   "metadata": {
    "collapsed": false
   }
  },
  {
   "cell_type": "markdown",
   "source": [
    "Multithreading refers to the ability of a processor to execute multiple threads concurrently, where each thread runs a process. Whereas multiprocessing refers to the ability of a system to run multiple processors in parallel, where each processor can run one or more threads."
   ],
   "metadata": {
    "collapsed": false
   }
  },
  {
   "cell_type": "markdown",
   "source": [
    "# Q3. Write a python code to create a process using the multiprocessing module."
   ],
   "metadata": {
    "collapsed": false
   }
  },
  {
   "cell_type": "code",
   "execution_count": null,
   "outputs": [],
   "source": [
    "import logging\n",
    "import multiprocessing\n",
    "\n",
    "def sum(x,y):\n",
    "    print(x+y)\n",
    "\n",
    "if __name__ == '__main__':\n",
    "    logging.basicConfig(filename=\"Q3.log\", level=logging.DEBUG)\n",
    "    try:\n",
    "        process1 = multiprocessing.Process(target=sum, args=(3,4))\n",
    "        process1.start()\n",
    "        logging.info(\"Child process completed.\")\n",
    "        print(\"Parent process completed.\")\n",
    "        logging.info(\"Parent process completed.\")\n",
    "    except Exception as error:\n",
    "        print(f\"You got an error: {error}\")\n",
    "        logging.error(f\"Got an error: {error}\")\n",
    "    else:\n",
    "        process1.join()\n"
   ],
   "metadata": {
    "collapsed": false
   }
  },
  {
   "cell_type": "markdown",
   "source": [
    "# Q4. What is a multiprocessing pool in python? Why is it used?"
   ],
   "metadata": {
    "collapsed": false
   }
  },
  {
   "cell_type": "markdown",
   "source": [
    "A multiprocessing pool in Python is a feature provided by the multiprocessing module that allows for concurrent execution of tasks across multiple processors or cores. The multiprocessing pool is used for achieving parallelism and speeding up the execution of tasks that can be divided into smaller units of work."
   ],
   "metadata": {
    "collapsed": false
   }
  },
  {
   "cell_type": "markdown",
   "source": [
    "# Q5. How can we create a pool of worker processes in python using the multiprocessing module?"
   ],
   "metadata": {
    "collapsed": false
   }
  },
  {
   "cell_type": "code",
   "execution_count": null,
   "outputs": [],
   "source": [
    "import multiprocessing\n",
    "import logging\n",
    "\n",
    "def function(value):\n",
    "    return value*2\n",
    "\n",
    "if __name__ == '__main__':\n",
    "    logging.basicConfig(filename=\"Q5.log\", level=logging.DEBUG)\n",
    "\n",
    "    num_process = multiprocessing.cpu_count()\n",
    "\n",
    "    pool = multiprocessing.Pool(processes=num_process)\n",
    "\n",
    "    data = list(range(1,6))\n",
    "\n",
    "    result = pool.map(function,data)\n",
    "    print(result)\n",
    "    pool.close()\n",
    "    pool.join()"
   ],
   "metadata": {
    "collapsed": false
   }
  },
  {
   "cell_type": "markdown",
   "source": [
    "# Q6. Write a python program to create 4 processes, each process should print a different number using the multiprocessing module in python."
   ],
   "metadata": {
    "collapsed": false
   }
  },
  {
   "cell_type": "code",
   "execution_count": 5,
   "outputs": [],
   "source": [
    "import multiprocessing\n",
    "\n",
    "def prnt(value):\n",
    "    print(value)\n",
    "\n",
    "if __name__ == '__main__':\n",
    "    numbers = [1,2,3,4]\n",
    "    processes = []\n",
    "    for number in numbers:\n",
    "        process = multiprocessing.Process(target=prnt, args=(number,))\n",
    "        processes.append(process)\n",
    "        process.start()\n",
    "\n",
    "    for process in processes:\n",
    "        process.join()"
   ],
   "metadata": {
    "collapsed": false,
    "ExecuteTime": {
     "end_time": "2023-06-16T04:07:17.752254900Z",
     "start_time": "2023-06-16T04:07:17.662629400Z"
    }
   }
  }
 ],
 "metadata": {
  "kernelspec": {
   "display_name": "Python 3",
   "language": "python",
   "name": "python3"
  },
  "language_info": {
   "codemirror_mode": {
    "name": "ipython",
    "version": 2
   },
   "file_extension": ".py",
   "mimetype": "text/x-python",
   "name": "python",
   "nbconvert_exporter": "python",
   "pygments_lexer": "ipython2",
   "version": "2.7.6"
  }
 },
 "nbformat": 4,
 "nbformat_minor": 0
}
