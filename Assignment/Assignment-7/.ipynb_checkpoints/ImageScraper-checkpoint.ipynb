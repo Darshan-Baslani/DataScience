{
 "cells": [
  {
   "cell_type": "markdown",
   "id": "184d02ef-b77f-447f-951e-9fd2fdb14c2b",
   "metadata": {},
   "source": [
    "# Q1. Write a python program to extract the video URL of the first five videos"
   ]
  },
  {
   "cell_type": "code",
   "execution_count": 27,
   "id": "fdbc2709-c962-4535-ae73-760167156881",
   "metadata": {},
   "outputs": [],
   "source": [
    "import requests\n",
    "from urllib.request import urlopen\n",
    "from bs4 import BeautifulSoup as bs\n",
    "import re"
   ]
  },
  {
   "cell_type": "code",
   "execution_count": 28,
   "id": "ef61e612-d7c2-4283-b537-db089a056497",
   "metadata": {},
   "outputs": [],
   "source": [
    "yt_url = 'https://www.youtube.com/@PW-Foundation/videos'\n",
    "headers = {\n",
    "'User-Agent': 'Mozilla/5.0 (Windows NT 10.0; rv:91.0) Gecko/20100101 Firefox/91.0',\n",
    "'Accept-Language': 'en-US,en;q=0.9'\n",
    "}\n",
    "response = requests.get(yt_url, headers=headers)"
   ]
  },
  {
   "cell_type": "code",
   "execution_count": 31,
   "id": "0226022e-977e-4af9-8cf4-efa272f9fb7c",
   "metadata": {},
   "outputs": [],
   "source": [
    "pattern = r'/watch\\?v=[\\w]+'\n",
    "raw_code = response.text"
   ]
  },
  {
   "cell_type": "code",
   "execution_count": 33,
   "id": "e8844c8e-9ad5-472c-9377-074ecf4032ae",
   "metadata": {},
   "outputs": [],
   "source": [
    "url_list = re.findall(pattern, raw_code)"
   ]
  },
  {
   "cell_type": "code",
   "execution_count": 35,
   "id": "36ccb56f-d51c-4ac8-89e1-4abb641e8fd6",
   "metadata": {},
   "outputs": [
    {
     "name": "stdout",
     "output_type": "stream",
     "text": [
      "https://www.youtube.com/watch?v=1izKrQHyx9M\n",
      "https://www.youtube.com/watch?v=jXAb1evxaJc\n",
      "https://www.youtube.com/watch?v=2dn7XMxRtPE\n",
      "https://www.youtube.com/watch?v=Fks4dVnTb5M\n",
      "https://www.youtube.com/watch?v=nIuGXeISbSo\n"
     ]
    }
   ],
   "source": [
    "for index in range(5):\n",
    "    print('https://www.youtube.com'+url_list[index])"
   ]
  }
 ],
 "metadata": {
  "kernelspec": {
   "display_name": "Python 3 (ipykernel)",
   "language": "python",
   "name": "python3"
  },
  "language_info": {
   "codemirror_mode": {
    "name": "ipython",
    "version": 3
   },
   "file_extension": ".py",
   "mimetype": "text/x-python",
   "name": "python",
   "nbconvert_exporter": "python",
   "pygments_lexer": "ipython3",
   "version": "3.10.11"
  }
 },
 "nbformat": 4,
 "nbformat_minor": 5
}
