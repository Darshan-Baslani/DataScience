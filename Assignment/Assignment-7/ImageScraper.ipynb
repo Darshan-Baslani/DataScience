{
 "cells": [
  {
   "cell_type": "markdown",
   "id": "184d02ef-b77f-447f-951e-9fd2fdb14c2b",
   "metadata": {},
   "source": [
    "# Q1. Write a python program to extract the video URL of the first five videos"
   ]
  },
  {
   "cell_type": "code",
   "execution_count": 21,
   "id": "fdbc2709-c962-4535-ae73-760167156881",
   "metadata": {},
   "outputs": [],
   "source": [
    "import requests\n",
    "from urllib.request import urlopen\n",
    "from bs4 import BeautifulSoup as bs\n",
    "import re"
   ]
  },
  {
   "cell_type": "code",
   "execution_count": 22,
   "id": "ef61e612-d7c2-4283-b537-db089a056497",
   "metadata": {},
   "outputs": [],
   "source": [
    "yt_url = 'https://www.youtube.com/@PW-Foundation/videos'\n",
    "headers = {\n",
    "'User-Agent': 'Mozilla/5.0 (Windows NT 10.0; rv:91.0) Gecko/20100101 Firefox/91.0',\n",
    "'Accept-Language': 'en-US,en;q=0.9'\n",
    "}\n",
    "response = requests.get(yt_url, headers=headers)"
   ]
  },
  {
   "cell_type": "code",
   "execution_count": 23,
   "id": "0226022e-977e-4af9-8cf4-efa272f9fb7c",
   "metadata": {},
   "outputs": [],
   "source": [
    "pattern = r'/watch\\?v=[\\w]+'\n",
    "raw_code = response.text"
   ]
  },
  {
   "cell_type": "code",
   "execution_count": 24,
   "id": "e8844c8e-9ad5-472c-9377-074ecf4032ae",
   "metadata": {},
   "outputs": [],
   "source": [
    "url_list = re.findall(pattern, raw_code)"
   ]
  },
  {
   "cell_type": "code",
   "execution_count": 25,
   "id": "36ccb56f-d51c-4ac8-89e1-4abb641e8fd6",
   "metadata": {},
   "outputs": [
    {
     "name": "stdout",
     "output_type": "stream",
     "text": [
      "https://www.youtube.com/watch?v=1izKrQHyx9M\n",
      "https://www.youtube.com/watch?v=jXAb1evxaJc\n",
      "https://www.youtube.com/watch?v=2dn7XMxRtPE\n",
      "https://www.youtube.com/watch?v=Fks4dVnTb5M\n",
      "https://www.youtube.com/watch?v=nIuGXeISbSo\n"
     ]
    }
   ],
   "source": [
    "for index in range(5):\n",
    "    print('https://www.youtube.com'+url_list[index])"
   ]
  },
  {
   "cell_type": "markdown",
   "id": "963b29c9-4668-4ae2-bdf4-768704446bfe",
   "metadata": {},
   "source": [
    "# Q2. Write a python program to extract the URL of the video thumbnails of the first five videos"
   ]
  },
  {
   "cell_type": "code",
   "execution_count": 26,
   "id": "724ecbab-9b72-4f43-b891-37cbbdc7d2a6",
   "metadata": {},
   "outputs": [],
   "source": [
    "pattern = r'https://i.ytimg.com/vi/[\\w-]+/hqdefault.jpg?'"
   ]
  },
  {
   "cell_type": "code",
   "execution_count": 27,
   "id": "ef7014b2-38f2-44e1-b5c4-01a01b9350c2",
   "metadata": {},
   "outputs": [],
   "source": [
    "thumbnail_list = re.findall(pattern, raw_code)"
   ]
  },
  {
   "cell_type": "code",
   "execution_count": 28,
   "id": "0ef0a958-615c-47cf-97cc-2a7952fbd71f",
   "metadata": {},
   "outputs": [
    {
     "name": "stdout",
     "output_type": "stream",
     "text": [
      "https://i.ytimg.com/vi/1izKrQHyx9M/hqdefault.jpg\n",
      "https://i.ytimg.com/vi/jXAb1evxaJc/hqdefault.jpg\n",
      "https://i.ytimg.com/vi/2dn7XMxRtPE/hqdefault.jpg\n",
      "https://i.ytimg.com/vi/Fks4dVnTb5M/hqdefault.jpg\n",
      "https://i.ytimg.com/vi/nIuGXeISbSo/hqdefault.jpg\n"
     ]
    }
   ],
   "source": [
    "for index in range(5):\n",
    "    print(thumbnail_list[index*4])"
   ]
  },
  {
   "cell_type": "markdown",
   "id": "5edf198c-ec73-4afd-b403-e7cebb05007e",
   "metadata": {},
   "source": [
    "# Q3. Write a python program to extract the title of the first five videos."
   ]
  },
  {
   "cell_type": "code",
   "execution_count": 46,
   "id": "1d8e810f-d8cd-4147-9da5-ac5dd0f5012a",
   "metadata": {},
   "outputs": [],
   "source": [
    "vid_titles = re.findall(r'\"title\":{\"runs\":\\[{\"text\":\".*?\"', raw_code)"
   ]
  },
  {
   "cell_type": "code",
   "execution_count": 47,
   "id": "64390986-b341-4a09-99a3-a5ed50381a0f",
   "metadata": {},
   "outputs": [
    {
     "name": "stdout",
     "output_type": "stream",
     "text": [
      "\"⚡Unleashing the Power of PW Internationally⚡| Launching Physics Wallah Gulf\"\n",
      "\"Big Announcement for Gulf Region Aspirants 🔥| Physics Wallah Gulf Channel Trailer🚀\"\n",
      "\"Arjuna JEE v/s Arjuna NEET 🏏- Class 11th Faculties ka Cricket Match 🔥\"\n",
      "\"How to Study Zoology in Class 11th? Ab Saare Doubts Solve Honge !! 🔥\"\n",
      "\"BIGGEST OFFER For Class - 8th ,9th \\u0026 10th Students 🤩 || Grab This Opportunity Now 🔥\"\n"
     ]
    }
   ],
   "source": [
    "i = 0\n",
    "for title in vid_titles:\n",
    "    if i == 5:\n",
    "        break\n",
    "    print(title.split(':')[3])\n",
    "    i += 1"
   ]
  },
  {
   "cell_type": "markdown",
   "id": "463623a5-9722-4263-9672-938801e1d25c",
   "metadata": {},
   "source": [
    "# Q4. Write a python program to extract the number of views of the first five videos. "
   ]
  },
  {
   "cell_type": "code",
   "execution_count": 31,
   "id": "f510b0d4-ba40-4ac4-aa64-17e57826e7aa",
   "metadata": {},
   "outputs": [],
   "source": [
    "vid_views = re.findall(r'\"viewCountText\":{\"simpleText\":\".*?\"', raw_code)"
   ]
  },
  {
   "cell_type": "code",
   "execution_count": 32,
   "id": "426f8db5-1031-4be1-8a15-f39e28928320",
   "metadata": {},
   "outputs": [
    {
     "name": "stdout",
     "output_type": "stream",
     "text": [
      "\"57,565 views\"\n",
      "\"80,981 views\"\n",
      "\"330,250 views\"\n",
      "\"10,242 views\"\n",
      "\"38,920 views\"\n"
     ]
    }
   ],
   "source": [
    "i = 0\n",
    "for view in vid_views:\n",
    "    if i == 5:\n",
    "        break\n",
    "    print(view.split(':')[2])\n",
    "    i += 1"
   ]
  },
  {
   "cell_type": "markdown",
   "id": "68ef5f16-6b41-4204-9418-c3463fedfbe6",
   "metadata": {},
   "source": [
    "# Q5. Write a python program to extract the time of posting of video for the first five videos."
   ]
  },
  {
   "cell_type": "code",
   "execution_count": 33,
   "id": "3bf1450f-16c2-4ac9-8186-0fedc3ef7bb9",
   "metadata": {},
   "outputs": [],
   "source": [
    "vid_upload = re.findall(r'\"publishedTimeText\":{\"simpleText\":\".*?\"', raw_code)"
   ]
  },
  {
   "cell_type": "code",
   "execution_count": 34,
   "id": "cccff797-6e80-4127-b1ba-65d297bfbc09",
   "metadata": {},
   "outputs": [
    {
     "name": "stdout",
     "output_type": "stream",
     "text": [
      "\"10 days ago\"\n",
      "\"2 weeks ago\"\n",
      "\"2 weeks ago\"\n",
      "\"4 weeks ago\"\n",
      "\"4 weeks ago\"\n"
     ]
    }
   ],
   "source": [
    "i = 0\n",
    "for upload in vid_upload:\n",
    "    if i == 5:\n",
    "        break\n",
    "    print(upload.split(':')[2])\n",
    "    i += 1"
   ]
  },
  {
   "cell_type": "markdown",
   "id": "b72b61a2-ec6c-4de6-a73b-acdb5146cf99",
   "metadata": {},
   "source": [
    "////"
   ]
  },
  {
   "cell_type": "code",
   "execution_count": 35,
   "id": "70a8eed9-a4fe-4314-a1d8-bf1410ed7aa7",
   "metadata": {},
   "outputs": [],
   "source": [
    "pattern = r'\"title\":{\"runs\":\\[{\"text\":\".*?\"'\n",
    "titles = re.findall(pattern, raw_code)\n",
    "vid_title = []\n",
    "for title in titles:\n",
    "    temp = title.split(':')[3]\n",
    "    vid_title.append(temp)"
   ]
  },
  {
   "cell_type": "code",
   "execution_count": 39,
   "id": "67f0e6bd-f65a-43f7-ab4c-18243e4a3ee5",
   "metadata": {},
   "outputs": [
    {
     "name": "stdout",
     "output_type": "stream",
     "text": [
      "\"⚡Unleashing the Power of PW Internationally⚡| Launching Physics Wallah Gulf\"\n",
      "\"Big Announcement for Gulf Region Aspirants 🔥| Physics Wallah Gulf Channel Trailer🚀\"\n",
      "\"Arjuna JEE v/s Arjuna NEET 🏏- Class 11th Faculties ka Cricket Match 🔥\"\n",
      "\"How to Study Zoology in Class 11th? Ab Saare Doubts Solve Honge !! 🔥\"\n",
      "\"BIGGEST OFFER For Class - 8th ,9th \\u0026 10th Students 🤩 || Grab This Opportunity Now 🔥\"\n"
     ]
    }
   ],
   "source": [
    "i=0\n",
    "for title in vid_title:\n",
    "    if i == 5:\n",
    "        break\n",
    "    print(title)\n",
    "    i+=1"
   ]
  },
  {
   "cell_type": "code",
   "execution_count": 54,
   "id": "ed452045-bb1c-4b76-bb05-11fb99430ad4",
   "metadata": {},
   "outputs": [],
   "source": [
    "filtered_data = {\n",
    "                'title': [vid_title[index].strip('\"') for index in range(5)],\n",
    "                'url': [url_list[index].strip('\"') for index in range(5)],\n",
    "                'thumbnail': [thumbnail_list[index].strip('\"') for index in range(5)],\n",
    "                'views': [view[index].strip('\"') for index in range(5)],\n",
    "                'posted': [vid_upload[index].strip('\"') for index in range(5)]\n",
    "            }"
   ]
  },
  {
   "cell_type": "code",
   "execution_count": 55,
   "id": "0c04338d-cab6-4a52-a3b6-7204182b07a3",
   "metadata": {},
   "outputs": [
    {
     "data": {
      "text/plain": [
       "{'title': ['⚡Unleashing the Power of PW Internationally⚡| Launching Physics Wallah Gulf',\n",
       "  'Big Announcement for Gulf Region Aspirants 🔥| Physics Wallah Gulf Channel Trailer🚀',\n",
       "  'Arjuna JEE v/s Arjuna NEET 🏏- Class 11th Faculties ka Cricket Match 🔥',\n",
       "  'How to Study Zoology in Class 11th? Ab Saare Doubts Solve Honge !! 🔥',\n",
       "  'BIGGEST OFFER For Class - 8th ,9th \\\\u0026 10th Students 🤩 || Grab This Opportunity Now 🔥'],\n",
       " 'url': ['/watch?v=1izKrQHyx9M',\n",
       "  '/watch?v=jXAb1evxaJc',\n",
       "  '/watch?v=2dn7XMxRtPE',\n",
       "  '/watch?v=Fks4dVnTb5M',\n",
       "  '/watch?v=nIuGXeISbSo'],\n",
       " 'thumbnail': ['https://i.ytimg.com/vi/1izKrQHyx9M/hqdefault.jpg',\n",
       "  'https://i.ytimg.com/vi/1izKrQHyx9M/hqdefault.jpg',\n",
       "  'https://i.ytimg.com/vi/1izKrQHyx9M/hqdefault.jpg',\n",
       "  'https://i.ytimg.com/vi/1izKrQHyx9M/hqdefault.jpg',\n",
       "  'https://i.ytimg.com/vi/jXAb1evxaJc/hqdefault.jpg'],\n",
       " 'views': ['', 'v', 'i', 'e', 'w'],\n",
       " 'posted': ['publishedTimeText\":{\"simpleText\":\"10 days ago',\n",
       "  'publishedTimeText\":{\"simpleText\":\"2 weeks ago',\n",
       "  'publishedTimeText\":{\"simpleText\":\"2 weeks ago',\n",
       "  'publishedTimeText\":{\"simpleText\":\"4 weeks ago',\n",
       "  'publishedTimeText\":{\"simpleText\":\"4 weeks ago']}"
      ]
     },
     "execution_count": 55,
     "metadata": {},
     "output_type": "execute_result"
    }
   ],
   "source": [
    "filtered_data"
   ]
  },
  {
   "cell_type": "code",
   "execution_count": 56,
   "id": "c4137f02-be56-4163-98ae-d3e8b6966e3d",
   "metadata": {},
   "outputs": [
    {
     "data": {
      "text/plain": [
       "[{'title': ['⚡Unleashing the Power of PW Internationally⚡| Launching Physics Wallah Gulf',\n",
       "   'Big Announcement for Gulf Region Aspirants 🔥| Physics Wallah Gulf Channel Trailer🚀',\n",
       "   'Arjuna JEE v/s Arjuna NEET 🏏- Class 11th Faculties ka Cricket Match 🔥',\n",
       "   'How to Study Zoology in Class 11th? Ab Saare Doubts Solve Honge !! 🔥',\n",
       "   'BIGGEST OFFER For Class - 8th ,9th \\\\u0026 10th Students 🤩 || Grab This Opportunity Now 🔥'],\n",
       "  'url': ['/watch?v=1izKrQHyx9M',\n",
       "   '/watch?v=jXAb1evxaJc',\n",
       "   '/watch?v=2dn7XMxRtPE',\n",
       "   '/watch?v=Fks4dVnTb5M',\n",
       "   '/watch?v=nIuGXeISbSo'],\n",
       "  'thumbnail': ['https://i.ytimg.com/vi/1izKrQHyx9M/hqdefault.jpg',\n",
       "   'https://i.ytimg.com/vi/1izKrQHyx9M/hqdefault.jpg',\n",
       "   'https://i.ytimg.com/vi/1izKrQHyx9M/hqdefault.jpg',\n",
       "   'https://i.ytimg.com/vi/1izKrQHyx9M/hqdefault.jpg',\n",
       "   'https://i.ytimg.com/vi/jXAb1evxaJc/hqdefault.jpg'],\n",
       "  'views': ['', 'v', 'i', 'e', 'w'],\n",
       "  'posted': ['publishedTimeText\":{\"simpleText\":\"10 days ago',\n",
       "   'publishedTimeText\":{\"simpleText\":\"2 weeks ago',\n",
       "   'publishedTimeText\":{\"simpleText\":\"2 weeks ago',\n",
       "   'publishedTimeText\":{\"simpleText\":\"4 weeks ago',\n",
       "   'publishedTimeText\":{\"simpleText\":\"4 weeks ago']}]"
      ]
     },
     "execution_count": 56,
     "metadata": {},
     "output_type": "execute_result"
    }
   ],
   "source": [
    "final_data2 = []\n",
    "final_data2.append(filtered_data)\n",
    "final_data2"
   ]
  },
  {
   "cell_type": "code",
   "execution_count": null,
   "id": "c9d4c46f-0a9c-4a34-b6c5-e6b3a48c08e4",
   "metadata": {},
   "outputs": [],
   "source": []
  }
 ],
 "metadata": {
  "kernelspec": {
   "display_name": "Python 3 (ipykernel)",
   "language": "python",
   "name": "python3"
  },
  "language_info": {
   "codemirror_mode": {
    "name": "ipython",
    "version": 3
   },
   "file_extension": ".py",
   "mimetype": "text/x-python",
   "name": "python",
   "nbconvert_exporter": "python",
   "pygments_lexer": "ipython3",
   "version": "3.11.4"
  }
 },
 "nbformat": 4,
 "nbformat_minor": 5
}
