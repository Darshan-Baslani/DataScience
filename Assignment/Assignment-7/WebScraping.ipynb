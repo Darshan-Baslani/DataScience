{
 "cells": [
  {
   "cell_type": "markdown",
   "id": "c52d04c3-6cd0-465c-ab48-2301c56f6783",
   "metadata": {},
   "source": [
    "# Q1. What is Web Scraping? Why is it Used? Give three areas where Web Scraping is used to get data."
   ]
  },
  {
   "cell_type": "markdown",
   "id": "e28a2bef-6aeb-4f78-b0c2-010fb3d8abd9",
   "metadata": {},
   "source": [
    "Web scraping is the process of extracting data from websites. Web scraping is used for Data Collection. Three areas where web scraping is commonly used to gather data are:E-commerce, Financial and Stock Market Analysis, Real Estate."
   ]
  },
  {
   "cell_type": "markdown",
   "id": "42ea5bde-c36c-482e-86f2-7004af9361df",
   "metadata": {},
   "source": [
    "# Q2. What are the different methods used for Web Scraping?"
   ]
  },
  {
   "cell_type": "markdown",
   "id": "a91edb13-5f17-4d8a-92ba-4ab95050eeb4",
   "metadata": {},
   "source": [
    "Here's a list of different methods used for web scraping:\r",
    "1. Manual Copy-Pasting\n",
    "2. Regular Expressions\n",
    "3. XPath and CSS Selectors\n",
    "4. Web Scraping Libraries and Frameworks (e.g., BeautifulSoup, Scrapy, Selenium)\n",
    "5. API-Based Scrapingcraping"
   ]
  },
  {
   "cell_type": "markdown",
   "id": "1eb62af4-9d34-4dc0-a0df-81b0f983124c",
   "metadata": {},
   "source": [
    "# Q3. What is Beautiful Soup? Why is it used?"
   ]
  },
  {
   "cell_type": "markdown",
   "id": "ecf6000f-4d6b-4942-949e-d63566b6a1f9",
   "metadata": {},
   "source": [
    "Beautiful Soup is a Python library used for web scraping and parsing HTML or XML documents. It simplifies data extraction by providing intuitive methods to navigate and extract specific elements from parsed documents. It also offers tools for data cleaning and integrates well with other web scraping libraries."
   ]
  },
  {
   "cell_type": "markdown",
   "id": "8704a274-e931-4d5b-b7cc-d62bc39d941b",
   "metadata": {},
   "source": [
    "# Q4. Why is flask used in this Web Scraping project?"
   ]
  },
  {
   "cell_type": "markdown",
   "id": "00d1f751-d47f-4844-a488-6d8909dba92b",
   "metadata": {},
   "source": [
    "Flask is used in this Web Scraping project because it is a lightweight and flexible web framework in Python. It allows developers to easily create and deploy web applications. In the context of a Web Scraping project, Flask can be used to build a simple and responsive user interface to interact with the scraped data. It provides a way to display the results, handle user requests, and serve the scraped data in a user-friendly manner."
   ]
  },
  {
   "cell_type": "markdown",
   "id": "9e702d76-4955-4bb6-8231-55d227116534",
   "metadata": {},
   "source": [
    "# Q5. Write the names of AWS services used in this project. Also, explain the use of each service"
   ]
  },
  {
   "cell_type": "markdown",
   "id": "b8d6975a-9c6a-4301-abaf-01bafe344ce6",
   "metadata": {},
   "source": [
    "Code pipeline and Elastic Beanstack were used in this project. AWS CodePipeline is a service for automating software release processes and creating CI/CD workflows, while AWS Elastic Beanstalk simplifies application deployment and management by handling infrastructure provisioning and providing scalability and platform flexibility."
   ]
  }
 ],
 "metadata": {
  "kernelspec": {
   "display_name": "Python 3 (ipykernel)",
   "language": "python",
   "name": "python3"
  },
  "language_info": {
   "codemirror_mode": {
    "name": "ipython",
    "version": 3
   },
   "file_extension": ".py",
   "mimetype": "text/x-python",
   "name": "python",
   "nbconvert_exporter": "python",
   "pygments_lexer": "ipython3",
   "version": "3.10.11"
  }
 },
 "nbformat": 4,
 "nbformat_minor": 5
}
