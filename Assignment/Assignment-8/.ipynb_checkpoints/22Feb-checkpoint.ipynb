{
 "cells": [
  {
   "cell_type": "markdown",
   "id": "bd2aab13-2d04-49a1-a000-7c0dc032481d",
   "metadata": {},
   "source": [
    "# Q1. Create a Pandas Series that contains the following data: 4, 8, 15, 16, 23, and 42. Then, print the series."
   ]
  },
  {
   "cell_type": "code",
   "execution_count": 1,
   "id": "c42eb2b0-9d47-4aa4-8867-2fab135bb772",
   "metadata": {},
   "outputs": [],
   "source": [
    "import pandas as pd"
   ]
  },
  {
   "cell_type": "code",
   "execution_count": 3,
   "id": "b970f2d2-71ef-405d-aee0-91aef4480a16",
   "metadata": {},
   "outputs": [
    {
     "data": {
      "text/plain": [
       "0     4\n",
       "1     8\n",
       "2    15\n",
       "3    16\n",
       "4    23\n",
       "5    42\n",
       "dtype: int64"
      ]
     },
     "execution_count": 3,
     "metadata": {},
     "output_type": "execute_result"
    }
   ],
   "source": [
    "nos = pd.Series([4,8,15,16,23,42])\n",
    "nos"
   ]
  },
  {
   "cell_type": "markdown",
   "id": "6bd5ca30-e67a-416c-a6f7-ce6863decf7d",
   "metadata": {},
   "source": [
    "# Q2. Create a variable of list type containing 10 elements in it, and apply pandas. Series function on the variable print it"
   ]
  },
  {
   "cell_type": "code",
   "execution_count": 4,
   "id": "fefdda0e-07c6-4d13-8b76-993811a470d1",
   "metadata": {},
   "outputs": [
    {
     "data": {
      "text/plain": [
       "0     1\n",
       "1     2\n",
       "2     3\n",
       "3     4\n",
       "4     5\n",
       "5     6\n",
       "6     7\n",
       "7     8\n",
       "8     9\n",
       "9    10\n",
       "dtype: int64"
      ]
     },
     "execution_count": 4,
     "metadata": {},
     "output_type": "execute_result"
    }
   ],
   "source": [
    "ls = [1,2,3,4,5,6,7,8,9,10]\n",
    "nos2 = pd.Series(ls)\n",
    "nos2"
   ]
  },
  {
   "cell_type": "markdown",
   "id": "a96d5f8e-aeae-4ebf-9b53-dbf1069d809c",
   "metadata": {},
   "source": [
    "# Q3. Create a Pandas DataFrame that contains the following data: ... Then, print the DataFrame."
   ]
  },
  {
   "cell_type": "code",
   "execution_count": 5,
   "id": "0e844cb3-34ec-4bd3-9cc3-2542da66a911",
   "metadata": {},
   "outputs": [
    {
     "data": {
      "text/html": [
       "<div>\n",
       "<style scoped>\n",
       "    .dataframe tbody tr th:only-of-type {\n",
       "        vertical-align: middle;\n",
       "    }\n",
       "\n",
       "    .dataframe tbody tr th {\n",
       "        vertical-align: top;\n",
       "    }\n",
       "\n",
       "    .dataframe thead th {\n",
       "        text-align: right;\n",
       "    }\n",
       "</style>\n",
       "<table border=\"1\" class=\"dataframe\">\n",
       "  <thead>\n",
       "    <tr style=\"text-align: right;\">\n",
       "      <th></th>\n",
       "      <th>Name</th>\n",
       "      <th>Age</th>\n",
       "      <th>Gender</th>\n",
       "    </tr>\n",
       "  </thead>\n",
       "  <tbody>\n",
       "    <tr>\n",
       "      <th>0</th>\n",
       "      <td>Alice</td>\n",
       "      <td>25</td>\n",
       "      <td>Felmale</td>\n",
       "    </tr>\n",
       "    <tr>\n",
       "      <th>1</th>\n",
       "      <td>Bob</td>\n",
       "      <td>30</td>\n",
       "      <td>Male</td>\n",
       "    </tr>\n",
       "    <tr>\n",
       "      <th>2</th>\n",
       "      <td>Claire</td>\n",
       "      <td>27</td>\n",
       "      <td>Felmale</td>\n",
       "    </tr>\n",
       "  </tbody>\n",
       "</table>\n",
       "</div>"
      ],
      "text/plain": [
       "     Name  Age   Gender\n",
       "0   Alice   25  Felmale\n",
       "1     Bob   30     Male\n",
       "2  Claire   27  Felmale"
      ]
     },
     "execution_count": 5,
     "metadata": {},
     "output_type": "execute_result"
    }
   ],
   "source": [
    "data = {'Name' : ['Alice', 'Bob', 'Claire'],\n",
    "        'Age': [25, 30, 27],\n",
    "        'Gender' : ['Felmale', 'Male', 'Felmale']}\n",
    "data_pandas = pd.DataFrame(data)\n",
    "data_pandas"
   ]
  },
  {
   "cell_type": "markdown",
   "id": "e0323160-463d-4fb9-88e4-b697db049427",
   "metadata": {},
   "source": [
    "# Q4. What is ‘DataFrame’ in pandas and how is it different from pandas.series? Explain with an example."
   ]
  },
  {
   "cell_type": "markdown",
   "id": "892c18c8-917f-4692-8dc2-636f3d559620",
   "metadata": {},
   "source": [
    "A DataFrame can be thought of as a table or a spreadsheet, where the data is organized in rows and columns. On the other hand, a pandas Series is a one-dimensional labeled array that can also hold data of different types.\r\n"
   ]
  },
  {
   "cell_type": "code",
   "execution_count": 9,
   "id": "eaeec3f7-58ca-4bf1-9c49-fcf18511b9ba",
   "metadata": {},
   "outputs": [
    {
     "data": {
      "text/html": [
       "<div>\n",
       "<style scoped>\n",
       "    .dataframe tbody tr th:only-of-type {\n",
       "        vertical-align: middle;\n",
       "    }\n",
       "\n",
       "    .dataframe tbody tr th {\n",
       "        vertical-align: top;\n",
       "    }\n",
       "\n",
       "    .dataframe thead th {\n",
       "        text-align: right;\n",
       "    }\n",
       "</style>\n",
       "<table border=\"1\" class=\"dataframe\">\n",
       "  <thead>\n",
       "    <tr style=\"text-align: right;\">\n",
       "      <th></th>\n",
       "      <th>Name</th>\n",
       "      <th>Age</th>\n",
       "      <th>Gender</th>\n",
       "    </tr>\n",
       "  </thead>\n",
       "  <tbody>\n",
       "    <tr>\n",
       "      <th>0</th>\n",
       "      <td>Alice</td>\n",
       "      <td>25</td>\n",
       "      <td>Felmale</td>\n",
       "    </tr>\n",
       "    <tr>\n",
       "      <th>1</th>\n",
       "      <td>Bob</td>\n",
       "      <td>30</td>\n",
       "      <td>Male</td>\n",
       "    </tr>\n",
       "    <tr>\n",
       "      <th>2</th>\n",
       "      <td>Claire</td>\n",
       "      <td>27</td>\n",
       "      <td>Felmale</td>\n",
       "    </tr>\n",
       "  </tbody>\n",
       "</table>\n",
       "</div>"
      ],
      "text/plain": [
       "     Name  Age   Gender\n",
       "0   Alice   25  Felmale\n",
       "1     Bob   30     Male\n",
       "2  Claire   27  Felmale"
      ]
     },
     "execution_count": 9,
     "metadata": {},
     "output_type": "execute_result"
    }
   ],
   "source": [
    "# DataFrame:\n",
    "data_pandas"
   ]
  },
  {
   "cell_type": "code",
   "execution_count": 10,
   "id": "4cd44f06-aa16-4f39-8be8-ce18e5211d10",
   "metadata": {},
   "outputs": [
    {
     "data": {
      "text/plain": [
       "0     Alice\n",
       "1       Bob\n",
       "2    Claire\n",
       "Name: Name, dtype: object"
      ]
     },
     "execution_count": 10,
     "metadata": {},
     "output_type": "execute_result"
    }
   ],
   "source": [
    "# Series:\n",
    "data_pandas['Name']"
   ]
  },
  {
   "cell_type": "markdown",
   "id": "ba354eaa-cd4c-4b0c-95e5-05a5591a60a5",
   "metadata": {},
   "source": [
    "# Q5. What are some common functions you can use to manipulate data in a Pandas DataFrame? Can you give an example of when you might use one of these functions?"
   ]
  },
  {
   "cell_type": "markdown",
   "id": "980a4736-63b6-4905-97e2-eb094e38ab19",
   "metadata": {},
   "source": [
    "`head()` and `tail()`: These functions allow you to view the first few rows (head()) or the last few rows (tail()) of a DataFrame. They are useful for inspecting the data and understanding its structure."
   ]
  },
  {
   "cell_type": "markdown",
   "id": "426d71c4-7c00-420a-89a1-e15e0194a53b",
   "metadata": {},
   "source": [
    "data = {'Name': ['John', 'Emily', 'Michael', 'Jessica', 'Eric'],\n",
    "        'Age': [25, 30, 35, 28, 32],\n",
    "        'City': ['New York', 'London', 'Paris', 'Sydney', 'Tokyo']}\n",
    "\n",
    "df = pd.DataFrame(data)\n",
    "# View the first 3 rows\n",
    "print(df.head(3))"
   ]
  },
  {
   "cell_type": "code",
   "execution_count": 14,
   "id": "c4af0ae9-6ecd-4272-ae3c-9cf727f68bb5",
   "metadata": {},
   "outputs": [
    {
     "name": "stdout",
     "output_type": "stream",
     "text": [
      "      Name  Age    City\n",
      "3  Jessica   28  Sydney\n",
      "4     Eric   32   Tokyo\n"
     ]
    }
   ],
   "source": [
    "# View the last 2 rows\n",
    "print(df.tail(2))"
   ]
  },
  {
   "cell_type": "markdown",
   "id": "ae3ab92b-a28e-4db9-8f16-44805192ade0",
   "metadata": {},
   "source": [
    "# Q6. Which of the following is mutable in nature Series, DataFrame, Panel?"
   ]
  },
  {
   "cell_type": "markdown",
   "id": "b3372cf9-dcaf-4bb2-a803-5c74bde313ca",
   "metadata": {},
   "source": [
    "Among the options provided, both Series and DataFrame are mutable in nature, while Panel is not mutable."
   ]
  },
  {
   "cell_type": "markdown",
   "id": "9eefb8c9-e8f2-4fe5-8624-6cd9bec279bc",
   "metadata": {},
   "source": [
    "# Q7. Create a DataFrame using multiple Series. Explain with an example"
   ]
  },
  {
   "cell_type": "markdown",
   "id": "bc45b7e9-b2c1-4b3b-9537-6c74df4d573c",
   "metadata": {},
   "source": [
    "To create a DataFrame using multiple Series, you can combine the Series objects using the pd.concat() function or by passing them as a dictionary to the pd.DataFrame() constructor."
   ]
  },
  {
   "cell_type": "code",
   "execution_count": 16,
   "id": "0914ee9d-2930-40a3-a095-8f89279f0350",
   "metadata": {},
   "outputs": [
    {
     "name": "stdout",
     "output_type": "stream",
     "text": [
      "DataFrame using pd.concat():\n",
      "         0   1         2\n",
      "0     John  25  New York\n",
      "1    Emily  30    London\n",
      "2  Michael  35     Paris\n"
     ]
    }
   ],
   "source": [
    "# Create Series objects\n",
    "name_series = pd.Series(['John', 'Emily', 'Michael'])\n",
    "age_series = pd.Series([25, 30, 35])\n",
    "city_series = pd.Series(['New York', 'London', 'Paris'])\n",
    "\n",
    "# Combine Series using pd.concat()\n",
    "df_concat = pd.concat([name_series, age_series, city_series], axis=1)\n",
    "print(\"DataFrame using pd.concat():\")\n",
    "print(df_concat)"
   ]
  },
  {
   "cell_type": "code",
   "execution_count": 17,
   "id": "a51fbf9f-d106-4bc9-b7d9-72a17d96a9e0",
   "metadata": {},
   "outputs": [
    {
     "name": "stdout",
     "output_type": "stream",
     "text": [
      "\n",
      "DataFrame using dictionary:\n",
      "      Name  Age      City\n",
      "0     John   25  New York\n",
      "1    Emily   30    London\n",
      "2  Michael   35     Paris\n"
     ]
    }
   ],
   "source": [
    "# Create DataFrame using dictionary\n",
    "data = {'Name': name_series, 'Age': age_series, 'City': city_series}\n",
    "df_dict = pd.DataFrame(data)\n",
    "print(\"\\nDataFrame using dictionary:\")\n",
    "print(df_dict)"
   ]
  }
 ],
 "metadata": {
  "kernelspec": {
   "display_name": "Python 3 (ipykernel)",
   "language": "python",
   "name": "python3"
  },
  "language_info": {
   "codemirror_mode": {
    "name": "ipython",
    "version": 3
   },
   "file_extension": ".py",
   "mimetype": "text/x-python",
   "name": "python",
   "nbconvert_exporter": "python",
   "pygments_lexer": "ipython3",
   "version": "3.10.11"
  }
 },
 "nbformat": 4,
 "nbformat_minor": 5
}
