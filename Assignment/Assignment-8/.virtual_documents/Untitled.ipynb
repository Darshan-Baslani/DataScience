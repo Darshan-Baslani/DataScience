





import pandas as pd
titanic = pd.read_csv('titanic.csv')





titanic.head()





titanic.describe()





age = titanic.groupby(['Age', 'Fare'])





age = pd.DataFrame(age)
age.to_csv('age.csv')





data = {'Name' : ['Darshan Baslani', 'Keval Thakar', 'Rushi Thesiya'],
       'Age': [18,18,19]}
df = pd.DataFrame(data, index=['A','B','C'])


df


def rename_cols(df):
    df = df.reset_index(drop=True)
    print(df)


rename_cols(df)





data = {'fruits': ['mango', 'banana', 'apple', 'kiwi', 'watermelon'],
        'quantity': [40, 30, 10, 20, 25]}
fruits = pd.DataFrame(data)

def calculate_sum(fruits):
    values = fruits['quantity']
    ans = sum(values[:3])
    print(ans)

calculate_sum(fruits)






