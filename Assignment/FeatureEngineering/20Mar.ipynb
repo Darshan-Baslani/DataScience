{
 "cells": [
  {
   "cell_type": "markdown",
   "id": "204ef0f2-661f-48b5-8947-976720d131ae",
   "metadata": {},
   "source": [
    "# Q1. What is data encoding? How is it useful in data science?"
   ]
  },
  {
   "cell_type": "markdown",
   "id": "2719b535-42ed-4d76-9eb1-84410f6abedc",
   "metadata": {},
   "source": [
    "Data encoding is converting data into a format that computers can understand, which is crucial in data science for handling different types of data, like turning categories into numbers for machine learning and improving memory usage."
   ]
  },
  {
   "cell_type": "markdown",
   "id": "7d86873b-a3c7-47eb-8173-0549008b9e00",
   "metadata": {},
   "source": [
    "# Q2. What is nominal encoding? Provide an example of how you would use it in a real-world scenario."
   ]
  },
  {
   "cell_type": "markdown",
   "id": "1e729cd4-f67d-40aa-98b2-fd07413cdb0c",
   "metadata": {},
   "source": [
    "Nominal encoding is a type of data encoding used to convert categorical data into numerical values without assigning any specific order or ranking to the categories.\n",
    "\n",
    "In a real-world scenario, let's say you're working on a marketing analysis for an e-commerce company. One of the features in your dataset is \"Product Category,\" which includes categories like \"Electronics,\" \"Clothing,\" and \"Books.\" Since these categories don't have a specific order, you would use nominal encoding to convert them into numerical values for machine learning algorithms. This allows the algorithms to process and analyze the data effectively while preserving the categorical nature of the feature."
   ]
  },
  {
   "cell_type": "markdown",
   "id": "dfe6e53b-2de7-4d59-afe0-b5706599b400",
   "metadata": {},
   "source": [
    "# Q3. In what situations is nominal encoding preferred over one-hot encoding? Provide a practical example."
   ]
  },
  {
   "cell_type": "markdown",
   "id": "43e3dc97-50d7-42f7-be57-f20f3d9fedc1",
   "metadata": {},
   "source": [
    "Nominal encoding is preferred over one-hot encoding in situations where the categorical feature has a high cardinality (many unique categories) or when there is no meaningful order or hierarchy among the categories. One-hot encoding can lead to a significant increase in the dimensionality of the dataset, which might not be practical, especially when dealing with a large number of categories.\n",
    "\n",
    "Practical Example:\n",
    "Let's consider a scenario where you're analyzing customer reviews for a product. The dataset includes a \"Keywords\" column indicating the keywords mentioned in the reviews. These keywords can be quite diverse and numerous, including terms like \"Quality,\" \"Price,\" \"Shipping,\" \"Customer Service,\" and more.\n",
    "\n",
    "Using one-hot encoding for this \"Keywords\" column would create a binary column for each keyword, leading to a large number of new features. This could result in a sparse matrix, increased computation time, and potentially overfitting due to the high dimensionality.\n",
    "\n",
    "Instead, using nominal encoding for the \"Keywords\" column assigns a unique numerical value to each keyword while avoiding the exponential increase in dimensions. This approach helps maintain a manageable dataset size and allows the machine learning algorithm to learn patterns from the keywords without creating an excessively complex model."
   ]
  },
  {
   "cell_type": "markdown",
   "id": "57356182-d268-40fc-b15c-03e7de989117",
   "metadata": {},
   "source": [
    "# Q4. Suppose you have a dataset containing categorical data with 5 unique values. Which encoding technique would you use to transform this data into a format suitable for machine learning algorithms? Explain why you made this choice."
   ]
  },
  {
   "cell_type": "markdown",
   "id": "78b8b19f-2f10-40c1-8ffe-521fbeaa4fd5",
   "metadata": {},
   "source": [
    "Given a dataset with 5 unique categorical values, one suitable encoding technique is one-hot encoding as, there are not many features."
   ]
  },
  {
   "cell_type": "markdown",
   "id": "e0f9de50-864f-453c-ba37-594f2d9f9506",
   "metadata": {},
   "source": [
    "# Q5. In a machine learning project, you have a dataset with 1000 rows and 5 columns. Two of the columns are categorical, and the remaining three columns are numerical. If you were to use nominal encoding to transform the categorical data, how many new columns would be created? Show your calculations."
   ]
  },
  {
   "cell_type": "markdown",
   "id": "3fe2c88a-a844-4081-b030-02e250939739",
   "metadata": {},
   "source": [
    "For nominal encoding, each unique category within a categorical column is assigned a unique numerical value. Given that two columns are categorical in the dataset, let's calculate the number of new columns that would be created:\n",
    "\n",
    "Assuming the first categorical column has n unique categories and the second categorical column has m unique categories:\n",
    "\n",
    "Number of new columns = Number of unique categories in the first column + Number of unique categories in the second column\n",
    "= n + m"
   ]
  },
  {
   "cell_type": "markdown",
   "id": "a1aa6993-28d1-426e-9520-1ce39ece30da",
   "metadata": {},
   "source": [
    "# Q6. You are working with a dataset containing information about different types of animals, including their species, habitat, and diet. Which encoding technique would you use to transform the categorical data into a format suitable for machine learning algorithms? Justify your answer."
   ]
  },
  {
   "cell_type": "markdown",
   "id": "4e3daf6a-6827-424b-8ef4-1c2873375885",
   "metadata": {},
   "source": [
    "I would use nominal encoding, as the number of unique values would be high. One Hot Encoding is not suitable for high features as it would cerate sparse matrix."
   ]
  },
  {
   "cell_type": "markdown",
   "id": "514af468-6444-42dc-a25b-509b2d94f47b",
   "metadata": {},
   "source": [
    "# Q7.You are working on a project that involves predicting customer churn for a telecommunications company. You have a dataset with 5 features, including the customer's gender, age, contract type, monthly charges, and tenure. Which encoding technique(s) would you use to transform the categorical data into numerical data? Provide a step-by-step explanation of how you would implement the encoding."
   ]
  },
  {
   "cell_type": "markdown",
   "id": "de606d49-24f0-45da-a4ff-6bba5bdc99ce",
   "metadata": {},
   "source": [
    "I would use One Hot Encoding as there aren't many unique values in features."
   ]
  },
  {
   "cell_type": "code",
   "execution_count": 39,
   "id": "a971d575-a4a0-4ead-af4d-8e6dddb5a5b1",
   "metadata": {},
   "outputs": [],
   "source": [
    "# Import the Libraries\n",
    "import pandas as pd\n",
    "from sklearn.preprocessing import LabelEncoder"
   ]
  },
  {
   "cell_type": "code",
   "execution_count": 40,
   "id": "781897cf-f1c8-4fae-a3b5-e5115c251de5",
   "metadata": {},
   "outputs": [
    {
     "data": {
      "text/html": [
       "<div>\n",
       "<style scoped>\n",
       "    .dataframe tbody tr th:only-of-type {\n",
       "        vertical-align: middle;\n",
       "    }\n",
       "\n",
       "    .dataframe tbody tr th {\n",
       "        vertical-align: top;\n",
       "    }\n",
       "\n",
       "    .dataframe thead th {\n",
       "        text-align: right;\n",
       "    }\n",
       "</style>\n",
       "<table border=\"1\" class=\"dataframe\">\n",
       "  <thead>\n",
       "    <tr style=\"text-align: right;\">\n",
       "      <th></th>\n",
       "      <th>gender</th>\n",
       "      <th>contract_type</th>\n",
       "      <th>age</th>\n",
       "      <th>monthly_charges</th>\n",
       "      <th>tenure</th>\n",
       "    </tr>\n",
       "  </thead>\n",
       "  <tbody>\n",
       "    <tr>\n",
       "      <th>0</th>\n",
       "      <td>Male</td>\n",
       "      <td>Monthly</td>\n",
       "      <td>25</td>\n",
       "      <td>50</td>\n",
       "      <td>12</td>\n",
       "    </tr>\n",
       "    <tr>\n",
       "      <th>1</th>\n",
       "      <td>Female</td>\n",
       "      <td>Yearly</td>\n",
       "      <td>30</td>\n",
       "      <td>80</td>\n",
       "      <td>24</td>\n",
       "    </tr>\n",
       "    <tr>\n",
       "      <th>2</th>\n",
       "      <td>Male</td>\n",
       "      <td>Monthly</td>\n",
       "      <td>22</td>\n",
       "      <td>60</td>\n",
       "      <td>6</td>\n",
       "    </tr>\n",
       "    <tr>\n",
       "      <th>3</th>\n",
       "      <td>Female</td>\n",
       "      <td>Monthly</td>\n",
       "      <td>35</td>\n",
       "      <td>75</td>\n",
       "      <td>18</td>\n",
       "    </tr>\n",
       "    <tr>\n",
       "      <th>4</th>\n",
       "      <td>Male</td>\n",
       "      <td>Yearly</td>\n",
       "      <td>28</td>\n",
       "      <td>65</td>\n",
       "      <td>10</td>\n",
       "    </tr>\n",
       "  </tbody>\n",
       "</table>\n",
       "</div>"
      ],
      "text/plain": [
       "   gender contract_type  age  monthly_charges  tenure\n",
       "0    Male       Monthly   25               50      12\n",
       "1  Female        Yearly   30               80      24\n",
       "2    Male       Monthly   22               60       6\n",
       "3  Female       Monthly   35               75      18\n",
       "4    Male        Yearly   28               65      10"
      ]
     },
     "execution_count": 40,
     "metadata": {},
     "output_type": "execute_result"
    }
   ],
   "source": [
    "# Create a sample dataset\n",
    "data = {\n",
    "    'gender': ['Male', 'Female', 'Male', 'Female', 'Male'],\n",
    "    'contract_type': ['Monthly', 'Yearly', 'Monthly', 'Monthly', 'Yearly'],\n",
    "    'age': [25, 30, 22, 35, 28],\n",
    "    'monthly_charges': [50, 80, 60, 75, 65],\n",
    "    'tenure': [12, 24, 6, 18, 10]\n",
    "}\n",
    "\n",
    "df = pd.DataFrame(data)\n",
    "df"
   ]
  },
  {
   "cell_type": "code",
   "execution_count": 41,
   "id": "62fd765e-c98f-41e1-ac3c-247972205156",
   "metadata": {},
   "outputs": [
    {
     "data": {
      "text/plain": [
       "['gender', 'contract_type']"
      ]
     },
     "execution_count": 41,
     "metadata": {},
     "output_type": "execute_result"
    }
   ],
   "source": [
    "# Indentify the categorical features\n",
    "categorical_features = ['gender', 'contract_type']\n",
    "categorical_features"
   ]
  },
  {
   "cell_type": "code",
   "execution_count": 51,
   "id": "42717ef7-527b-4d18-b9c8-c19b20530a7f",
   "metadata": {},
   "outputs": [],
   "source": [
    "# Creating an instance of LabelEncoder\n",
    "encoder = LabelEncoder()"
   ]
  },
  {
   "cell_type": "code",
   "execution_count": 52,
   "id": "fcff5503-462b-4e96-b00c-e0237e0fe22c",
   "metadata": {},
   "outputs": [
    {
     "data": {
      "text/html": [
       "<div>\n",
       "<style scoped>\n",
       "    .dataframe tbody tr th:only-of-type {\n",
       "        vertical-align: middle;\n",
       "    }\n",
       "\n",
       "    .dataframe tbody tr th {\n",
       "        vertical-align: top;\n",
       "    }\n",
       "\n",
       "    .dataframe thead th {\n",
       "        text-align: right;\n",
       "    }\n",
       "</style>\n",
       "<table border=\"1\" class=\"dataframe\">\n",
       "  <thead>\n",
       "    <tr style=\"text-align: right;\">\n",
       "      <th></th>\n",
       "      <th>gender</th>\n",
       "      <th>contract_type</th>\n",
       "      <th>age</th>\n",
       "      <th>monthly_charges</th>\n",
       "      <th>tenure</th>\n",
       "    </tr>\n",
       "  </thead>\n",
       "  <tbody>\n",
       "    <tr>\n",
       "      <th>0</th>\n",
       "      <td>1</td>\n",
       "      <td>0</td>\n",
       "      <td>25</td>\n",
       "      <td>50</td>\n",
       "      <td>12</td>\n",
       "    </tr>\n",
       "    <tr>\n",
       "      <th>1</th>\n",
       "      <td>0</td>\n",
       "      <td>1</td>\n",
       "      <td>30</td>\n",
       "      <td>80</td>\n",
       "      <td>24</td>\n",
       "    </tr>\n",
       "    <tr>\n",
       "      <th>2</th>\n",
       "      <td>1</td>\n",
       "      <td>0</td>\n",
       "      <td>22</td>\n",
       "      <td>60</td>\n",
       "      <td>6</td>\n",
       "    </tr>\n",
       "    <tr>\n",
       "      <th>3</th>\n",
       "      <td>0</td>\n",
       "      <td>0</td>\n",
       "      <td>35</td>\n",
       "      <td>75</td>\n",
       "      <td>18</td>\n",
       "    </tr>\n",
       "    <tr>\n",
       "      <th>4</th>\n",
       "      <td>1</td>\n",
       "      <td>1</td>\n",
       "      <td>28</td>\n",
       "      <td>65</td>\n",
       "      <td>10</td>\n",
       "    </tr>\n",
       "  </tbody>\n",
       "</table>\n",
       "</div>"
      ],
      "text/plain": [
       "   gender  contract_type  age  monthly_charges  tenure\n",
       "0       1              0   25               50      12\n",
       "1       0              1   30               80      24\n",
       "2       1              0   22               60       6\n",
       "3       0              0   35               75      18\n",
       "4       1              1   28               65      10"
      ]
     },
     "execution_count": 52,
     "metadata": {},
     "output_type": "execute_result"
    }
   ],
   "source": [
    "# Transforming df\n",
    "for feature in categorical_features:\n",
    "    df[feature] = encoder.fit_transform(df[feature])\n",
    "df"
   ]
  },
  {
   "cell_type": "code",
   "execution_count": null,
   "id": "5001b3cf-433c-4e66-8885-8bbbc15f597d",
   "metadata": {},
   "outputs": [],
   "source": []
  }
 ],
 "metadata": {
  "kernelspec": {
   "display_name": "Python 3 (ipykernel)",
   "language": "python",
   "name": "python3"
  },
  "language_info": {
   "codemirror_mode": {
    "name": "ipython",
    "version": 3
   },
   "file_extension": ".py",
   "mimetype": "text/x-python",
   "name": "python",
   "nbconvert_exporter": "python",
   "pygments_lexer": "ipython3",
   "version": "3.11.4"
  }
 },
 "nbformat": 4,
 "nbformat_minor": 5
}
