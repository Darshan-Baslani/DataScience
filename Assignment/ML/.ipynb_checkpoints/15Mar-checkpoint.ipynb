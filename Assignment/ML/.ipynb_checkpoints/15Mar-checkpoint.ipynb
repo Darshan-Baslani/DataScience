{
 "cells": [
  {
   "cell_type": "markdown",
   "id": "c7e0d1a0-82c2-4055-8080-7969d8928833",
   "metadata": {},
   "source": [
    "# Q1: Explain the Following with example\n",
    "# 1. Artificial Intelligence\n",
    "# 2. Machine Learning\n",
    "# 3. Deep Learning"
   ]
  },
  {
   "cell_type": "markdown",
   "id": "871c614f-f73b-42a7-8339-05c4449079fa",
   "metadata": {},
   "source": [
    "**Artificial Intelligence (AI)**: AI refers to the simulation of human intelligence in computers to perform tasks that typically require human intelligence. It involves creating algorithms and systems that can perceive their environment, reason about it, and make decisions to achieve specific goals. For example, a virtual personal assistant like Siri or Google Assistant uses AI to understand and respond to spoken language, helping users with tasks like setting reminders, sending messages, or providing information.\n",
    "\n",
    "**Machine Learning (ML)**: Machine Learning is a subset of AI that involves training algorithms to learn patterns from data and make predictions or decisions without being explicitly programmed. It focuses on developing algorithms that can improve their performance over time through experience. An example of machine learning is email filtering. Instead of writing explicit rules for classifying spam emails, a machine learning model can be trained on a dataset of labeled emails to automatically identify and filter out spam from legitimate emails.\n",
    "\n",
    "**Deep Learning**: Deep Learning is a subset of machine learning that utilizes artificial neural networks to model and process complex patterns in data. These neural networks consist of layers of interconnected nodes that simulate the structure of human brain neurons. Deep Learning has proven particularly effective for tasks like image and speech recognition. For instance, a deep learning model called Convolutional Neural Network (CNN) can be trained to identify objects in images, allowing applications like self-driving cars to recognize pedestrians, signs, and other vehicles on the road."
   ]
  },
  {
   "cell_type": "markdown",
   "id": "763f19c5-c7d2-4be1-b07b-229598174f87",
   "metadata": {},
   "source": [
    "# Q2- What is supervised learning? List some examples of supervised learning."
   ]
  },
  {
   "cell_type": "markdown",
   "id": "4e82bd96-c9e6-4c1f-bee0-a787fce56906",
   "metadata": {},
   "source": [
    "**Supervised Learning** is a type of machine learning where the algorithm learns from labeled examples to make predictions on new data. It involves tasks like classifying emails as spam or not spam, predicting house prices, sentiment analysis in text, and recognizing handwritten characters. The algorithm learns patterns from known data and uses them to make accurate predictions for new, unseen data."
   ]
  },
  {
   "cell_type": "markdown",
   "id": "e2f05850-0113-43bf-96b9-cf6d30327ad1",
   "metadata": {},
   "source": [
    "# Q3- What is unsupervised learning? List some examples of unsupervised learning."
   ]
  },
  {
   "cell_type": "markdown",
   "id": "57033185-5b09-4e74-aaa4-904c4fe0ea12",
   "metadata": {},
   "source": [
    "**Unsupervised Learning** involves training algorithms on unlabeled data to uncover patterns, clusters, and relationships without specific output labels. Examples include clustering similar data points, reducing data dimensionality, detecting anomalies, and finding common topics in text. The goal is to extract valuable insights and organization from data without predefined outcomes."
   ]
  },
  {
   "cell_type": "markdown",
   "id": "ea3e9ede-ef42-4725-a5c9-dfaa55dffe4b",
   "metadata": {},
   "source": [
    "# Q4- What is the difference between AI, ML, DL, and DS?"
   ]
  },
  {
   "cell_type": "markdown",
   "id": "e6771438-ded4-488d-8ffc-a6148eb2255c",
   "metadata": {},
   "source": [
    "**AI (Artificial Intelligence)**: Simulating human-like intelligence in machines to perform tasks, make decisions, and learn from experience.\n",
    "\n",
    "**ML (Machine Learning)**: Subfield of AI that enables machines to learn patterns from data and improve their performance over time without being explicitly programmed.\n",
    "\n",
    "**DL (Deep Learning)**: Subset of ML using neural networks to process complex patterns; excels in tasks like image and speech recognition.\n",
    "\n",
    "**DS (Data Science)**: Interdisciplinary field focusing on extracting insights and knowledge from data using techniques from statistics, ML, and domain expertise."
   ]
  },
  {
   "cell_type": "markdown",
   "id": "069bc411-7c4e-406a-aab5-54851163a3be",
   "metadata": {},
   "source": [
    "# Q5- What are the main differences between supervised, unsupervised, and semi-supervised learning?"
   ]
  },
  {
   "cell_type": "markdown",
   "id": "7eb640ea-3a0b-4762-835b-9055e332a519",
   "metadata": {},
   "source": [
    "**Supervised Learning**: Uses labeled data to predict outcomes. <br>\n",
    "**Unsupervised Learning**: Finds patterns in unlabeled data for insights. <br>\n",
    "**Semi-Supervised Learning**: Uses both labeled and unlabeled data for improved learning. <br>"
   ]
  },
  {
   "cell_type": "markdown",
   "id": "d524e1d9-c19c-4cd9-8621-8a8335940de4",
   "metadata": {},
   "source": [
    "# Q6- What is train, test and validation split? Explain the importance of each term"
   ]
  },
  {
   "cell_type": "markdown",
   "id": "52926073-84d5-44c4-85fd-cb5aeb1c9ff3",
   "metadata": {},
   "source": [
    "**Training Set**:\n",
    "\n",
    "Role: The largest subset used to train the machine learning model. <br>\n",
    "Importance: The model learns from this data by adjusting its parameters to minimize the difference between predicted and actual values. A well-trained model generalizes from the patterns in this set to make accurate predictions on new data.<br><br>\n",
    "**Validation Set**:<br>\n",
    "\n",
    "Role: A smaller subset used to fine-tune the model's hyperparameters and assess its performance during training.<br>\n",
    "Importance: It helps prevent overfitting (a model that's too complex and fits noise in the training data) by providing an independent sample for performance evaluation. The validation set aids in making decisions about model architecture, regularization, and optimization.<br><br>\n",
    "**Test Set**:<br>\n",
    "\n",
    "Role: A completely independent subset used to evaluate the final model's performance after training and validation.<br>\n",
    "Importance: It provides an unbiased estimate of the model's generalization performance on unseen data. Evaluating on this set helps assess how well the model is likely to perform in real-world scenarios."
   ]
  },
  {
   "cell_type": "markdown",
   "id": "6065ab87-5a06-4d07-9522-7363905008ef",
   "metadata": {},
   "source": [
    "# Q7- How can unsupervised learning be used in anomaly detection?"
   ]
  },
  {
   "cell_type": "markdown",
   "id": "7dc5342d-4394-4533-8472-2952cb9cb01e",
   "metadata": {},
   "source": [
    "**Unsupervised learning** in anomaly detection involves using techniques like clustering, density-based methods, autoencoders, and more to identify data points that deviate from the expected normal patterns. These methods help detect anomalies without relying on labeled anomaly data, making them useful for scenarios with limited labeled examples or evolving anomalies."
   ]
  },
  {
   "cell_type": "markdown",
   "id": "6f0ed446-111b-4966-adce-cfe32ec3a3c9",
   "metadata": {},
   "source": [
    "# Q8- List down some commonly used supervised learning algorithms and unsupervised learning algorithms"
   ]
  },
  {
   "cell_type": "markdown",
   "id": "1c670d34-eb38-423f-98e9-cee6ecc1384c",
   "metadata": {},
   "source": [
    "**Supervised Learning Algorithms:**\n",
    "<br>\n",
    "Linear Regression<br>\n",
    "Logistic Regression<br>\n",
    "Decision Trees<br>\n",
    "Random Forest<br>\n",
    "Support Vector Machines (SVM)<br>\n",
    "K-Nearest Neighbors (KNN)<br>\n",
    "Naive Bayes<br>\n",
    "Gradient Boosting<br>\n",
    "Neural Networks<br>\n",
    "<br>\n",
    "**Unsupervised Learning Algorithms:** \n",
    "<br>\n",
    "K-Means Clustering <br>\n",
    "Hierarchical Clustering<br>\n",
    "DBSCAN<br>\n",
    "PCA (Principal Component Analysis)<br>\n",
    "Autoencoders<br>\n",
    "Isolation Forest<br>\n",
    "Gaussian Mixture Models (GMM)<br>\n",
    "Self-Organizing Maps (SOM)<br>\n",
    "t-SNE (t-Distributed Stochastic Neighbor Embedding)<br>"
   ]
  }
 ],
 "metadata": {
  "kernelspec": {
   "display_name": "Python 3 (ipykernel)",
   "language": "python",
   "name": "python3"
  },
  "language_info": {
   "codemirror_mode": {
    "name": "ipython",
    "version": 3
   },
   "file_extension": ".py",
   "mimetype": "text/x-python",
   "name": "python",
   "nbconvert_exporter": "python",
   "pygments_lexer": "ipython3",
   "version": "3.10.11"
  }
 },
 "nbformat": 4,
 "nbformat_minor": 5
}
