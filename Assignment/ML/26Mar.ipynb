{
 "cells": [
  {
   "cell_type": "markdown",
   "id": "8094582f-bb3f-45e6-a0aa-18f61cc6d167",
   "metadata": {},
   "source": [
    "# Q1. Explain the difference between simple linear regression and multiple linear regression. Provide an example of each."
   ]
  },
  {
   "cell_type": "markdown",
   "id": "53e96281-b68d-4069-8cea-24e48ab9703f",
   "metadata": {},
   "source": [
    "**Linear Regression** <br>\n",
    "Simple linear regression is a statistical method used to model the relationship between two variables: one independent variable (predictor) and one dependent variable (response).\n",
    "- Ex: Suppose you want to predict a person's weight (Y) based on their height (X). In this case, height (X) is the independent variable, and weight (Y) is the dependent variable.\n",
    "\n",
    "**Multiple Linear Regression** <br>\n",
    "Multiple linear regression is an extension of simple linear regression that allows you to model the relationship between a dependent variable and multiple independent variables.\n",
    "- Ex: Suppose you want to predict a house's price (Y) based on multiple factors, such as square footage (X1), number of bedrooms (X2), and neighborhood crime rate (X3). In this case, there are three independent variables (X1, X2, and X3) used to predict the house price (Y)."
   ]
  },
  {
   "cell_type": "markdown",
   "id": "4d95f326-7d0a-4f4e-b2af-2a07b6a58062",
   "metadata": {},
   "source": [
    "# Q2. Discuss the assumptions of linear regression. How can you check whether these assumptions hold in a given dataset??"
   ]
  },
  {
   "cell_type": "code",
   "execution_count": null,
   "id": "10972b8d-c802-4094-bfe4-4ae2f4afc850",
   "metadata": {},
   "outputs": [],
   "source": []
  }
 ],
 "metadata": {
  "kernelspec": {
   "display_name": "Python 3 (ipykernel)",
   "language": "python",
   "name": "python3"
  },
  "language_info": {
   "codemirror_mode": {
    "name": "ipython",
    "version": 3
   },
   "file_extension": ".py",
   "mimetype": "text/x-python",
   "name": "python",
   "nbconvert_exporter": "python",
   "pygments_lexer": "ipython3",
   "version": "3.10.11"
  }
 },
 "nbformat": 4,
 "nbformat_minor": 5
}
