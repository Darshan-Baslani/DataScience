{
 "cells": [
  {
   "cell_type": "markdown",
   "id": "7fca94d0-9c80-4826-816a-70382f925587",
   "metadata": {},
   "source": [
    "# Q1: What is Estimation Statistics? Explain point estimate and interval estimate."
   ]
  },
  {
   "cell_type": "markdown",
   "id": "76df32e5-6f90-4207-819e-0eb62d89a8e0",
   "metadata": {},
   "source": [
    "**Estimation Statistics** is a branch of statistics that deals with estimating population parameters based on sample data.\r\n",
    "**\r\n",
    "Point Estima**te: A single value that serves as the best estimate for a population parameter, typically obtained from sample data. For example, the sample mean is a point estimate of the population mean.**\r\n",
    "\r\n",
    "Interval Esti**mate: A range of values that is likely to contain the true population parameter with a certain level of confidence. It includes a lower and upper bound. For example, a 95% confidence interval for the population mean provides a range within which we are 95% confident that the true population mean lies."
   ]
  },
  {
   "cell_type": "markdown",
   "id": "ea96d7dc-17da-4333-9453-4cdf45c49a44",
   "metadata": {},
   "source": [
    "# Q2. Write a Python function to estimate the population mean using a sample mean and standard deviation"
   ]
  },
  {
   "cell_type": "code",
   "execution_count": 1,
   "id": "2b264b82-6fb6-46be-adae-432af5450456",
   "metadata": {},
   "outputs": [],
   "source": [
    "from scipy.stats import norm\n",
    "from scipy import stats\n",
    "import numpy as np\n",
    "from PIL import Image"
   ]
  },
  {
   "cell_type": "code",
   "execution_count": 2,
   "id": "11b336c3-bb01-4414-b913-ecfc9646fe14",
   "metadata": {},
   "outputs": [],
   "source": [
    "def estimate_population_mean(sample_mean, sample_sd, size, confidence_level) :\n",
    "    # Calculating Standard Error\n",
    "    se = sample_sd / (size ** 0.5)\n",
    "    # Calculating Z Score\n",
    "    z_score = norm.ppf((1 + confidence_level) / 2)\n",
    "    # Calculating Upper Bound and Lower Bound\n",
    "    lower = sample_mean - z_score * se\n",
    "    upper = sample_mean + z_score * se\n",
    "    return lower, upper"
   ]
  },
  {
   "cell_type": "code",
   "execution_count": 3,
   "id": "743f9dce-49da-4d9e-b4c3-b496f4b0da0b",
   "metadata": {},
   "outputs": [
    {
     "name": "stdout",
     "output_type": "stream",
     "text": [
      "The Estiamted Population Mean is 5.0, the Population Mean should be between 4.41 to 5.59\n"
     ]
    }
   ],
   "source": [
    "sample_mean = 5\n",
    "sample_sd = 3\n",
    "size = 100\n",
    "confidence_level = 0.95\n",
    "lower, upper = estimate_population_mean(sample_mean, sample_sd, size, confidence_level)\n",
    "print(f\"The Estiamted Population Mean is {(lower + upper) / 2}, the Population Mean should be between {lower:.2f} to {upper:.2f}\")"
   ]
  },
  {
   "cell_type": "markdown",
   "id": "2ba23099-beaf-4f49-81e3-5477beb3eee5",
   "metadata": {},
   "source": [
    "# Q3: What is Hypothesis testing? Why is it used? State the importance of Hypothesis testing"
   ]
  },
  {
   "cell_type": "markdown",
   "id": "7cdc5bd4-189a-4faf-859f-9dde9aa86559",
   "metadata": {},
   "source": [
    "Hypothesis testing is a statistical method for drawing conclusions from sample data about populations. It's essential for scientific research, data-driven decision-making, and maintaining quality control. It provides an objective approach to decision-making."
   ]
  },
  {
   "cell_type": "markdown",
   "id": "49a207f4-eecd-45b6-969b-8ac566d9dbbb",
   "metadata": {},
   "source": [
    "Hypothesis testing is essential because it offers an objective approach to draw conclusions from samples, supports scientific research, enables data-driven decision-making, ensures quality control, and helps in estimating population parameters and measuring process performance."
   ]
  },
  {
   "cell_type": "markdown",
   "id": "dca4ce4a-fab6-44e1-8762-3fefc966ba70",
   "metadata": {},
   "source": [
    "# Q4. Create a hypothesis that states whether the average weight of male college students is greater than the average weight of female college students.."
   ]
  },
  {
   "cell_type": "markdown",
   "id": "8b56a1ff-dc71-4468-8256-8e163e0f547d",
   "metadata": {},
   "source": [
    "**H0:**  Average Weight of Male College Students is greater than Female collegee students.\n",
    "**H1:**  Average Weight of Female College Students is greater than Male collegee students."
   ]
  },
  {
   "cell_type": "markdown",
   "id": "a7833dee-97f7-4971-b875-b1958e6b66d8",
   "metadata": {},
   "source": [
    "# Q5. Write a Python script to conduct a hypothesis test on the difference between two population means, given a sample from each population.."
   ]
  },
  {
   "cell_type": "code",
   "execution_count": 4,
   "id": "adaef8b8-eb76-4308-a871-fb7241a38d95",
   "metadata": {},
   "outputs": [
    {
     "name": "stdout",
     "output_type": "stream",
     "text": [
      "Given T Stat = 0.6042393419554865 and p_val = 0.5463762494994219, We fail to reject the null hypothesis (No significant difference).\n"
     ]
    }
   ],
   "source": [
    "sample1 = np.random.normal(50, 3, 100)\n",
    "sample2 = np.random.normal(50, 3, 100)\n",
    "\n",
    "t_stat, p_val = stats.ttest_ind(a = sample1, b = sample2)\n",
    "\n",
    "print(f\"Given T Stat = {t_stat} and p_val = {p_val}, \",end=\"\") \n",
    "if p_val > 0.05:\n",
    "    print(\"We fail to reject the null hypothesis (No significant difference).\")\n",
    "else:\n",
    "    print(\"We reject the null hypothesis (Significant difference exists).\")"
   ]
  },
  {
   "cell_type": "markdown",
   "id": "3088f2d4-5f54-4b13-8f29-ae55cafbd9a0",
   "metadata": {},
   "source": [
    "# Q6: What is a null and alternative hypothesis? Give some examples"
   ]
  },
  {
   "cell_type": "markdown",
   "id": "7efba673-78cb-439e-bcb2-b13e705179f2",
   "metadata": {},
   "source": [
    "The null hypothesis (\r\n",
    ") states that there is no significant difference between two populations or variables. It is often the default or conventional position and is tested against the alternative hypothesis.\r\n",
    "It is the claim that researchers aim to reject or fail to reject based on the evidence from the data.\r\n",
    "\r\n",
    "The alternative hypothesis (\r\n",
    ") is the complement of the null hypothesis and states that there is a significant difference between two populations or variables.\r\n",
    "It represents the claim that researchers seek to support or prove based on the evidence from the data.\r\n",
    "\r\n",
    "Examples:\r\n",
    "\r\n",
    "Null hypothesis: The average IQ scores of two groups of students are equal.\r\n",
    "Alternative hypothesis: The average IQ score of one group of students is significantly different from the other group.\r\n",
    "\r\n",
    "Null hypothesis: The new drug has no effect on curing a disease.\r\n",
    "Alternative hypothesis: The new drug is significantly more effective in curing the disease than the current drug."
   ]
  },
  {
   "cell_type": "markdown",
   "id": "ae079dae-4cf4-4a54-96f3-0cef682b5286",
   "metadata": {},
   "source": [
    "# Q7: Write down the steps involved in hypothesis testing"
   ]
  },
  {
   "cell_type": "markdown",
   "id": "d49d5c8e-4f43-49b2-a074-10b56c143f58",
   "metadata": {},
   "source": [
    "State the null hypothesis (H0) and alternative hypothesis (H1): The null hypothesis is a statement of no effect or no difference, while the alternative hypothesis is a statement that contradicts the null hypothesis and represents the effect or difference we are trying to find evidence for.\r\n",
    "\r\n",
    "Choose a significance level (alpha, α): The significance level is the threshold for determining the level of evidence required to reject the null hypothesis. It is typically set at 0.05 (5%), but it can be adjusted depending on the specific study and its requirements.\r\n",
    "\r\n",
    "Select an appropriate test statistic: The test statistic is a numerical summary of the data that helps us decide whether to reject the null hypothesis. The choice of test statistic depends on the type of data and the research question.\r\n",
    "\r\n",
    "Collect and analyze the data: Gather the sample data and perform the necessary calculations to compute the test statistic.\r\n",
    "\r\n",
    "Calculate the p-value: The p-value is the probability of obtaining a test statistic as extreme or more extreme than the one observed under the assumption that the null hypothesis is true. It measures the strength of the evidence against the null hypothesis.\r\n",
    "\r\n",
    "Compare the p-value to the significance level: If the p-value is less than or equal to the significance level (α), we reject the null hypothesis in favor of the alternative hypothesis. If the p-value is greater than α, we fail to reject the null hypothesis.\r\n",
    "\r\n",
    "Draw conclusions: Based on the result of the hypothesis test, make a decision about whether there is sufficient evidence to support the alternative hypothesis or whether the data is inconclusive.\r\n",
    "\r\n",
    "Interpretation: Interpret the findings in the context of the problem and the significance level chosen. Be cautious about generalizing the results beyond the scope of the study."
   ]
  },
  {
   "cell_type": "markdown",
   "id": "5844e87f-6ef9-4a5f-82b5-a4aced7326cd",
   "metadata": {},
   "source": [
    "# Q8. Define p-value and explain its significance in hypothesis testing"
   ]
  },
  {
   "cell_type": "markdown",
   "id": "fdbffb8b-182c-4b1a-aa16-5a2a2c641792",
   "metadata": {},
   "source": [
    "The p-value, short for \"probability value,\" is a crucial concept in hypothesis testing. It quantifies the strength of the evidence against the null hypothesis (H0) based on the observed sample data. It measures the probability of obtaining a test statistic as extreme or more extreme than the one observed, assuming that the null hypothesis is true.\n",
    "\n",
    "The significance of the p-value in hypothesis testing lies in its role in the decision-making process. Typically, a predetermined significance level (alpha, α) is chosen before conducting the hypothesis test. Commonly used significance levels are 0.05 (5%) and 0.01 (1%), but the choice can vary based on the study's requirements and the level of certainty desired."
   ]
  },
  {
   "cell_type": "markdown",
   "id": "d4b67ca7-5455-4aaa-a851-66d7b9efd42f",
   "metadata": {},
   "source": [
    "# Q9. Generate a Student's t-distribution plot using Python's matplotlib library, with the degrees of freedom parameter set to 100"
   ]
  },
  {
   "cell_type": "code",
   "execution_count": 5,
   "id": "996a1d94-61d0-4f1c-963f-4fce5dc59512",
   "metadata": {},
   "outputs": [
    {
     "data": {
      "image/png": "[encoded data removed]",
      "text/plain": [
       "<Figure size 640x480 with 1 Axes>"
      ]
     },
     "metadata": {},
     "output_type": "display_data"
    }
   ],
   "source": [
    "from scipy.stats import t\n",
    "import matplotlib.pyplot as plt\n",
    "\n",
    "# Generating random samples\n",
    "t_values = np.linspace(-5, 5, 1000)\n",
    "df = 100\n",
    "\n",
    "# Creating pdf values\n",
    "pdf_values = t.pdf(t_values, df)\n",
    "\n",
    "plt.plot(t_values, pdf_values, label='t-distribution (df=100)')\n",
    "plt.xlabel('t-value')\n",
    "plt.ylabel('Probability Density')\n",
    "plt.title(\"Student's t-distribution (df=100)\")\n",
    "plt.legend()\n",
    "plt.grid(True)\n",
    "plt.show()"
   ]
  },
  {
   "cell_type": "markdown",
   "id": "95f1979e-8727-4778-abe3-30a91a3f33a6",
   "metadata": {},
   "source": [
    "# Q10. Write a Python program to calculate the two-sample t-test for independent samples, given two random samples of equal size and a null hypothesis that the population means are equall"
   ]
  },
  {
   "cell_type": "code",
   "execution_count": 6,
   "id": "9943b37e-fe37-4257-9f2e-fdb8a9b231df",
   "metadata": {},
   "outputs": [
    {
     "name": "stdout",
     "output_type": "stream",
     "text": [
      "T-Stat = -5.532996752947338\n",
      "P-Value = 9.891176687811051e-08\n",
      "We Reject the Null Hypothesis\n"
     ]
    }
   ],
   "source": [
    "sample1 = np.random.normal(50, 3, 100)\n",
    "sample2 = np.random.normal(52, 5, 100) \n",
    "\n",
    "t_stat, p_value = stats.ttest_ind(sample1, sample2)\n",
    "\n",
    "print(f'T-Stat = {t_stat}')\n",
    "print(f'P-Value = {p_value}')\n",
    "\n",
    "if p_value < 0.05:\n",
    "    print('We Reject the Null Hypothesis')\n",
    "else:\n",
    "    print('We Fail to Reject the Null Hypothesis')"
   ]
  },
  {
   "cell_type": "markdown",
   "id": "d15253d4-b37c-4a67-835c-73c2639660e8",
   "metadata": {},
   "source": [
    "# Q11: What is Student’s t distribution? When to use the t-Distribution"
   ]
  },
  {
   "cell_type": "markdown",
   "id": "7d06ec1e-09eb-472e-88e2-5a3393c3b822",
   "metadata": {},
   "source": [
    "**Student's t distribution** is a probability distribution that is used in hypothesis testing when the sample size is small and the population standard deviation is unknown.\n",
    "It is similar to the standard normal distribution (z-distribution), but has heavier tails, which means it has more probability in the tails and less in the center compared to the standard normal distribution. The shape of the t-distribution depends on the sample size, with smaller sample sizes resulting in a more spread-out distribution.\n",
    "\n",
    "The **t-distribution is used** in situations where the population standard deviation is unknown and must be estimated from the sample data.\n",
    "It is also used when the sample size is small (typically less than 30) and the population is normally distributed. The t-distribution allows for greater uncertainty in the estimate of the population standard deviation due to the smaller sample size."
   ]
  },
  {
   "cell_type": "markdown",
   "id": "34b98f22-cb13-4183-b898-50a1de2b3ba5",
   "metadata": {},
   "source": [
    "# Q12: What is t-statistic? State the formula for t-statistic."
   ]
  },
  {
   "attachments": {},
   "cell_type": "markdown",
   "id": "cc872e15-331c-4b8d-88ea-c1b06a9c88fe",
   "metadata": {},
   "source": [
    "The t-statistic, also known as the Student's t-statistic, is a measure used in hypothesis testing to assess the difference between sample means and to compare sample means to a known value or to each other. It indicates how many standard errors the sample mean is away from the hypothesized population mean.\r\n"
   ]
  },
  {
   "cell_type": "code",
   "execution_count": 7,
   "id": "b217d5da-1885-48d1-ad50-6bae0a15082d",
   "metadata": {},
   "outputs": [
    {
     "data": {
      "text/plain": [
       "<matplotlib.image.AxesImage at 0x1b564c6f040>"
      ]
     },
     "execution_count": 7,
     "metadata": {},
     "output_type": "execute_result"
    },
    {
     "data": {
      "image/png": "[encoded data removed]",
      "text/plain": [
       "<Figure size 640x480 with 1 Axes>"
      ]
     },
     "metadata": {},
     "output_type": "display_data"
    }
   ],
   "source": [
    "# Formula for T-Test\n",
    "formula = Image.open('t-test-formula-1623066056.jpeg')\n",
    "formula_array = np.array(formula)\n",
    "plt.imshow(formula)"
   ]
  },
  {
   "cell_type": "markdown",
   "id": "025f1483-c6d5-426c-9751-d208a7708134",
   "metadata": {},
   "source": [
    "# Q13. A coffee shop owner wants to estimate the average daily revenue for their shop. They take a random sample of 50 days and find the sample mean revenue to be \\\\$500 with a standard deviation of \\\\$50. Estimate the population mean revenue with a 95% confidence interval"
   ]
  },
  {
   "cell_type": "markdown",
   "id": "c4f425d7-8ff8-4ab5-b1e2-fb87045817f9",
   "metadata": {},
   "source": [
    "To estimate the population mean revenue with a 95% confidence interval, we can use the formula for the confidence interval of a sample mean. Since the sample size is large (n >= 30), we can use the Z-score for a 95% confidence level, which is approximately 1.96.\n",
    "\n",
    "The formula for the confidence interval is:\n",
    "\n",
    "Confidence Interval = Sample Mean ± (Z * Standard Error)\n",
    "\n",
    "Where:\n",
    "Sample Mean = $500 (mean revenue from the sample)\n",
    "Z = 1.96 (Z-score for a 95% confidence level)\n",
    "Standard Error = Standard Deviation / √(Sample Size)\n",
    "\n",
    "Given:\n",
    "Standard Deviation = $50\n",
    "Sample Size (n) = 50\n",
    "\n",
    "Let's calculate the confidence interval:\n",
    "\n",
    "Standard Error = $50 / √(50) ≈ $50 / 7.07 ≈ $7.07\n",
    "\n",
    "Confidence Interval = $500 ± (1.96 * $7.07)\n",
    "\n",
    "Lower Bound = $500 - $13.86 ≈ $486.14\n",
    "Upper Bound = $500 + $13.86 ≈ $513.86\n",
    "\n",
    "The 95% confidence interval for the population mean revenue is approximately $486.14 to $513.86. This means we can be 95% confident that the true average daily revenue for the coffee shop falls within this range based on the sample data."
   ]
  },
  {
   "cell_type": "code",
   "execution_count": 8,
   "id": "14d56f01-ca89-4ebd-92ae-6547fb511590",
   "metadata": {},
   "outputs": [
    {
     "data": {
      "text/plain": [
       "(485.79015724388137, 514.2098427561186)"
      ]
     },
     "execution_count": 8,
     "metadata": {},
     "output_type": "execute_result"
    }
   ],
   "source": [
    "sample_size = 50\n",
    "sample_mean = 500\n",
    "sample_sd = 50\n",
    "standard_error = sample_sd / (sample_size ** 0.5)\n",
    "\n",
    "\n",
    "stats.t.interval(confidence=0.95, loc=sample_mean, scale=standard_error, df=sample_size-1)"
   ]
  },
  {
   "cell_type": "markdown",
   "id": "0b28b9e7-9824-48f4-8611-d81d88e8f958",
   "metadata": {},
   "source": [
    "# Q14. A researcher hypothesizes that a new drug will decrease blood pressure by 10 mmHg. They conduct a clinical trial with 100 patients and find that the sample mean decrease in blood pressure is 8 mmHg with a standard deviation of 3 mmHg. Test the hypothesis with a significance level of 0.05"
   ]
  },
  {
   "cell_type": "code",
   "execution_count": 9,
   "id": "ebe83a40-a7b1-4a10-a5eb-3e61cf0370ed",
   "metadata": {},
   "outputs": [
    {
     "name": "stdout",
     "output_type": "stream",
     "text": [
      "We reject the Null Hypothesis\n"
     ]
    }
   ],
   "source": [
    "sample_size = 100\n",
    "sample_mean = 8\n",
    "population_mean = 10\n",
    "sample_sd = 3\n",
    "significance_level = 0.05\n",
    "df = sample_size - 1\n",
    "\n",
    "t_stat = (sample_mean - population_mean) / (sample_sd / (sample_size ** 0.5))\n",
    "\n",
    "critical_val = t.ppf(significance_level, df)\n",
    "\n",
    "if t_stat < critical_val:\n",
    "    print('We reject the Null Hypothesis')\n",
    "else:\n",
    "    print('We fail to reject the Null Hypothesis')"
   ]
  },
  {
   "cell_type": "markdown",
   "id": "64e32bdd-a952-495e-ad13-2fba7f5d3bf4",
   "metadata": {},
   "source": [
    "# Q15. An electronics company produces a certain type of product with a mean weight of 5 pounds and a standard deviation of 0.5 pounds. A random sample of 25 products is taken, and the sample mean weight is found to be 4.8 pounds. Test the hypothesis that the true mean weight of the products is less than 5 pounds with a significance level of 0.01"
   ]
  },
  {
   "cell_type": "markdown",
   "id": "6393c339-06de-461f-8b4a-d9a3d22303ee",
   "metadata": {},
   "source": [
    "The following values are given in the question:\r\n",
    "\r\n",
    "Population Mean = 5\r\n",
    "Sample Size = n = 25\r\n",
    "Sample Mean = 4.8\r\n",
    "Standard Deviation = 0.5\r\n",
    "Significance Level = 0.01\r\n",
    "Confidence Interval = 0.99\r\n",
    "\r\n",
    "My null and alternate hypothesis are as follows:\r\n",
    "\r\n",
    " => Population Mean = 5\r\n",
    " => Population Mean < 5\r\n",
    "\r\n",
    "I got the following value:\r\n",
    "\r\n",
    "-2\r\n",
    "\r\n",
    "From utilizing z-table I obtained values for z-score of -2 is 0.02275.\r\n",
    "\r\n",
    "Which also becomes my p-value 0.02275.\r\n",
    "\r\n",
    "Then i checked whether p-value < significance value\r\n",
    "\r\n",
    "0.02775 < 0.01 False\r\n",
    "\r\n",
    "So my final conclusion was: Failed to reject null hypothesiso groups are equal"
   ]
  },
  {
   "cell_type": "code",
   "execution_count": 10,
   "id": "a5bd02d3-6b05-4efd-a7a6-abeadb984f43",
   "metadata": {},
   "outputs": [
    {
     "name": "stdout",
     "output_type": "stream",
     "text": [
      "We fail to reject the Null Hypothesis\n"
     ]
    }
   ],
   "source": [
    "population_mean = 5\n",
    "sample_mean = 4.8\n",
    "sample_sd = 0.5\n",
    "sample_size = 25\n",
    "significance_level = 0.01\n",
    "df = sample_size - 1\n",
    "\n",
    "t_stat = (sample_mean - population_mean) / (sample_sd / (sample_size ** 0.5))\n",
    "\n",
    "critical_val = t.ppf(significance_level, df)\n",
    "\n",
    "if t_stat < critical_val:\n",
    "    print('We reject the Null Hypothesis')\n",
    "else:\n",
    "    print('We fail to reject the Null Hypothesis')"
   ]
  },
  {
   "cell_type": "markdown",
   "id": "7b746ecb-7ab6-4610-823f-dc4e0f5d4d5d",
   "metadata": {},
   "source": [
    "# Q16. Two groups of students are given different study materials to prepare for a test. The first group (n1 = 30) has a mean score of 80 with astandard deviation of 10, and the second group (n2 = 40) has a mean score of 75 with a standard deviation of 8. Test the hypothesis that the population means for the two groups are equal with a significance level of 0.01"
   ]
  },
  {
   "cell_type": "markdown",
   "id": "afdfd731-bf87-48af-b2f8-baf7429c1cd3",
   "metadata": {},
   "source": [
    "My null and alternate hypothesis are as follows:\r\n",
    "\r",
    "H0\n",
    " => Population Mean of Group 1 = Population Mean of Group 2H1\r\n",
    " => Population Mean of Group 1 != Population Mean of Group 2\r\n",
    "\r\n",
    "I got the value of t as t = 2.37.\r\n",
    "\r\n",
    "Then I utilized t-table to look for the value of t for the following parameters:\r\n",
    "\r\n",
    "Degrees of Freedom = 68\r\n",
    "Significance Value = 0.01\r\n",
    "\r\n",
    "I got the following value of t format the table t = ± 2.638.\r\n",
    "\r\n",
    "Since 2.37 lies in the region ±2.638 so, the final conclusion was:\r\n",
    "\r\n",
    "Failed to reject null hypothesis\r\n",
    "\r\n",
    "Population mean for two groups are equal"
   ]
  },
  {
   "cell_type": "code",
   "execution_count": 11,
   "id": "65158243-f3bb-4a9f-889c-560298cdf084",
   "metadata": {},
   "outputs": [
    {
     "name": "stdout",
     "output_type": "stream",
     "text": [
      "We fail to reject the Null Hypothesis\n"
     ]
    }
   ],
   "source": [
    "n1_mean = 80\n",
    "n1_sd = 10\n",
    "n1_size = 30\n",
    "\n",
    "n2_mean = 75\n",
    "n2_sd = 8\n",
    "n2_size = 40\n",
    "\n",
    "significance_level = 0.01\n",
    "dof = (n1_size + n2_size) - 2 \n",
    "\n",
    "t_stat = (n1_mean - n2_mean) / (((n1_sd ** 2) / n1_size + (n2_sd ** 2) / n2_size) * 0.5)\n",
    "\n",
    "critical_val = t.ppf(significance_level, dof)\n",
    "\n",
    "if t_stat < critical_val:\n",
    "    print('We reject the Null Hypothesis')\n",
    "else:\n",
    "    print('We fail to reject the Null Hypothesis')"
   ]
  },
  {
   "cell_type": "markdown",
   "id": "68da63f5-484c-4b90-839f-fa0bff1e6686",
   "metadata": {},
   "source": [
    "# Q17. A marketing company wants to estimate the average number of ads watched by viewers during a TV program. They take a random sample of 50 viewers and find that the sample mean is 4 with a standard deviation of 1.5. Estimate the population mean with a 99% confidence interval."
   ]
  },
  {
   "cell_type": "markdown",
   "id": "e9290ba1-a22d-4e61-b271-ac5913705a1c",
   "metadata": {},
   "source": [
    "To estimate the population mean with a 99% confidence interval, we can use the following formula:\r\n",
    "\r\n",
    "Where:\r\n",
    "\r\n",
    " = sample mean (4)\r\n",
    " = z-score corresponding to the confidence level (99%)\r\n",
    " = population standard deviation (1.5)\r\n",
    " = sample size (50)\r\n",
    "\r\n",
    "To find the z-score, we can use a standard normal distribution table. For a 99% confidence level, the z-score is 2.576.\r\n",
    "\r\n",
    "Plugging in the values, we get:\r\n",
    "\r\n",
    "CI = 4 ± 2.576*(1.5/√50)\r\n",
    "CI = 4 ± 0.665\r\n",
    "\r\n",
    "Therefore, the 99% confidence interval for the population mean of the number of ads watched by viewers during a TV program is (3.335, 4.665). We are 99% confident that the true population mean falls within this interval"
   ]
  },
  {
   "cell_type": "code",
   "execution_count": 12,
   "id": "715f26f8-3bdb-4117-9469-1c83d7baae62",
   "metadata": {},
   "outputs": [
    {
     "data": {
      "text/plain": [
       "(3.4314963358572577, 4.568503664142742)"
      ]
     },
     "execution_count": 12,
     "metadata": {},
     "output_type": "execute_result"
    }
   ],
   "source": [
    "sample_size = 50\n",
    "sample_mean = 4\n",
    "sample_sd = 1.5\n",
    "confidence_level = 0.99\n",
    "\n",
    "df = sample_size - 1\n",
    "\n",
    "t.interval(confidence_level, df, loc=sample_mean, scale=sample_sd/np.sqrt(sample_size))"
   ]
  }
 ],
 "metadata": {
  "kernelspec": {
   "display_name": "Python 3 (ipykernel)",
   "language": "python",
   "name": "python3"
  },
  "language_info": {
   "codemirror_mode": {
    "name": "ipython",
    "version": 3
   },
   "file_extension": ".py",
   "mimetype": "text/x-python",
   "name": "python",
   "nbconvert_exporter": "python",
   "pygments_lexer": "ipython3",
   "version": "3.10.11"
  }
 },
 "nbformat": 4,
 "nbformat_minor": 5
}
