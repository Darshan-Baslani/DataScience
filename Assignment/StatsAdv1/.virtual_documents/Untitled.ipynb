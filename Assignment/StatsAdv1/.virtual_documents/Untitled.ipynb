








from scipy.stats import norm
from scipy import stats
import numpy as np


def estimate_population_mean(sample_mean, sample_sd, size, confidence_level) :
    # Calculating Standard Error
    se = sample_sd / (size ** 0.5)
    # Calculating Z Score
    z_score = norm.ppf((1 + confidence_level) / 2)
    # Calculating Upper Bound and Lower Bound
    lower = sample_mean - z_score * se
    upper = sample_mean + z_score * se
    return lower, upper


sample_mean = 5
sample_sd = 3
size = 100
confidence_level = 0.95
lower, upper = estimate_population_mean(sample_mean, sample_sd, size, confidence_level)
print(f"The Estiamted Population Mean is {(lower + upper) / 2}, the Population Mean should be between {lower:.2f} to {upper:.2f}")




















sample1 = np.random.normal(50, 3, 100)
sample2 = np.random.normal(50, 3, 100)

t_stat, p_val = stats.ttest_ind(a = sample1, b = sample2)

print(f"Given T Stat = {t_stat} and p_val = {p_val}, ",end="") 
if t_stat > 0.95:
    print("We fail to reject the null hypothesis")
else:
    print("We reject the null hypothesis")






