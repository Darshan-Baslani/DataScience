{
 "cells": [
  {
   "cell_type": "markdown",
   "id": "442689cf-d159-4e92-ae7a-1c52008df182",
   "metadata": {},
   "source": [
    "# Q1: What is the difference between a t-test and a z-test? Provide an example scenario where you would use each type of test.."
   ]
  },
  {
   "cell_type": "markdown",
   "id": "467ad5db-14da-4332-a90c-819126c9dd90",
   "metadata": {},
   "source": [
    "Both t-tests and z-tests are statistical tests used to compare means of two groups or to test whether a sample mean differs significantly from a known population mean. \n",
    "When population standard deviation is unknown and sample size is less than 30, t-test is used.\n",
    "When population standard deviation is known and sample size is greater than 30, z-test is used."
   ]
  },
  {
   "cell_type": "markdown",
   "id": "1b46d1af-1a9b-4d8a-a3bf-8e50f72a7cd5",
   "metadata": {},
   "source": [
    "# Q2: Differentiate between one-tailed and two-tailed tests"
   ]
  },
  {
   "cell_type": "markdown",
   "id": "a0492070-2e12-440d-af08-fc7f347c6412",
   "metadata": {},
   "source": [
    "**One-tailed test:**\n",
    "\n",
    "Used to test a specific direction of the effect. <br>\n",
    "Null hypothesis (H0) states no difference or no effect. <br>\n",
    "Alternative hypothesis (Ha) specifies the direction of the effect. <br>\n",
    "Critical region is in one tail.<br>\n",
    "Example: Testing if a new marketing strategy increases website traffic by at least 20%. <br>\n",
    "<br>\n",
    "**Two-tailed test:**\n",
    "<br>\n",
    "Used to test for a difference in any direction.<br>\n",
    "Null hypothesis (H0) states no difference.<br>\n",
    "Alternative hypothesis (Ha) specifies a difference without direction.<br>\n",
    "Critical region is split between both tails.<br>\n",
    "Example: Testing if there is a significant difference in the average heights between males and females.<br>"
   ]
  },
  {
   "cell_type": "markdown",
   "id": "74d88362-36e2-4bbb-87f8-91cbd9fa1257",
   "metadata": {},
   "source": [
    "# Q3: Explain the concept of Type 1 and Type 2 errors in hypothesis testing. Provide an example scenario for each type of error."
   ]
  },
  {
   "cell_type": "markdown",
   "id": "65b1634d-bfba-44ef-a449-d6f4ca1be094",
   "metadata": {},
   "source": [
    "A **Type 1** error occurs when the null hypothesis (H0) is true, but we incorrectly reject it in favor of the alternative hypothesis (Ha). <br>\n",
    "**Example scenario**: <br>\n",
    "Let's say a pharmaceutical company is testing a new drug to see if it's more effective than a placebo in treating a specific condition. The null hypothesis (H0) would be \"The new drug is not more effective than the placebo,\" and the alternative hypothesis (Ha) would be \"The new drug is more effective than the placebo.\" If, after conducting the study, the company wrongly concludes that the new drug is more effective when, in reality, it isn't, this would be a Type 1 error. <br> <br>\n",
    "\n",
    "A **Type 2** error occurs when the null hypothesis (H0) is false, but we fail to reject it and accept the null hypothesis instead of the alternative hypothesis (Ha). <br>\n",
    "**Example scenario**: <br>\n",
    "Continuing with the pharmaceutical company example, suppose the new drug is indeed more effective than the placebo, but after conducting the study, the company fails to find sufficient evidence to support this claim and concludes that the drug is not more effective. In this case, the company has committed a Type 2 error."
   ]
  },
  {
   "cell_type": "markdown",
   "id": "2cb3e32f-8be8-410c-9ca2-2d8e4990b134",
   "metadata": {},
   "source": [
    "# Q4:  Explain Bayes's theorem with an example."
   ]
  },
  {
   "cell_type": "markdown",
   "id": "db168b06-5097-408c-9a76-e3566aceebe6",
   "metadata": {},
   "source": [
    "Bayes's theorem is a fundamental concept in probability theory that allows us to update the probability of an event based on new evidence. It involves revising the probability of an event using prior knowledge and new data. The formula for Bayes's theorem is as follows:\n",
    "\n",
    "P(A∣B)= P(B∣A)⋅P(A) / P(B)\n",
    "<br>​\n",
    "Where:\n",
    "<br>\n",
    "P(A∣B) is the conditional probability of event A occurring given that event B has occurred. <br>\n",
    "P(B∣A) is the conditional probability of event B occurring given that event A has occurred. <br>\n",
    "P(A) is the prior probability of event A occurring before considering any new evidence. <br>\n",
    "P(B) is the prior probability of event B occurring before considering any new evidence. <br>\n",
    "Let's illustrate Bayes's theorem with a classic example called the \"medical test example\": 0.001 <br>\n",
    "P(A)=0.001). There is a diagnostic test for this disease, and the test's accuracy is as follows: <br>\n",
    " <br>\n",
    "If a person has the disease, the test correctly identifies it 99% of the time (0.99 <br>\n",
    "P(B∣A)=0.99).<br>\n",
    "If a person does not have the disease, the test gives a false positive 5% of the time (<br>\n",
    "\n",
    "0.05\n",
    "P(B∣¬A)=0.05).\n",
    "Now, let's say a person from the population takes the test and tests positive (\n",
    "\n",
    "B). We want to find the probability that this person actually has the disease (\n",
    "\n",
    "A).\n",
    "\n",
    "We can use Bayes's theorem to calculate this:\n",
    "\n",
    "P(A∣B)= \n",
    "P(B)\n",
    "P(B∣A)⋅P(A)\n",
    "​\n",
    " \n",
    "\n",
    "To find \n",
    "\n",
    "P(B), we can use the law of total probability:\n",
    "\n",
    "P(B)=P(B∣A)⋅P(A)+P(B∣¬A)⋅P(¬A)\n",
    "\n",
    "\n",
    "0.001\n",
    "\n",
    "0.999\n",
    "P(¬A)=1−P(A)=1−0.001=0.999.\n",
    "\n",
    "Now, plug in the values:\n",
    "\n",
    "=\n",
    "0.99\n",
    "⋅\n",
    "0.001\n",
    "+\n",
    "0.05\n",
    "⋅\n",
    "0.999\n",
    "≈\n",
    "0.05094\n",
    "P(B)=0.99⋅0.001+0.05⋅0.999≈0.05094\n",
    "\n",
    "Now, we can calculate \n",
    "\n",
    "P(A∣B):\n",
    "\n",
    "0.99\n",
    "⋅\n",
    "0.001\n",
    "0.05094\n",
    "≈\n",
    "0.019\n",
    "P(A∣B)= \n",
    "0.05094\n",
    "0.99⋅0.001\n",
    "​\n",
    " ≈0.019\n",
    "\n",
    "So, even if the test comes back positive, there is only a 1.9% chance that the person actually has the disease. This example demonstrates how Bayes's theorem allows us to update our beliefs based on new evidence and prior probabilities."
   ]
  },
  {
   "cell_type": "markdown",
   "id": "26404553-5574-4db4-ba89-ca8350505e9e",
   "metadata": {},
   "source": [
    "# Q5: What is a confidence interval? How to calculate the confidence interval, explain with an example"
   ]
  },
  {
   "cell_type": "markdown",
   "id": "b5e2e550-f398-4cb0-8ef8-9c9e26dee6f6",
   "metadata": {},
   "source": [
    "The confidence interval is the range of values that you expect your estimate to fall between a certain percentage of the time if you run your experiment again or re-sample the population in the same way.\n",
    "\n",
    "**Example:**\n",
    "A retail company wants to rate the quality of a product by using results from a customer satisfaction survey. In the survey, the company asks respondents to rate the quality on a scale of one to five, with one being the poorest quality and five being the highest quality.\r\n",
    "\r\n",
    "The sample size is 25, the sample mean is 4.5 and the standard deviation is 2.5. The company calculates the confidence interval assuming a 97% confidence level:\r\n",
    "\r\n",
    "Confidence interval = 4.5 ± 0.97(2.5 ÷ √25) = 4.5 ± 0.97(2.5 ÷ 5) = 4.5 ± 0.97(0.5) = 4.5 ± 0.485 = 4.985, 4.015\r\n",
    "\r\n",
    "The confidence interval ranges between 4.985 and 4.015, which means the customers in the sample rate the product quality between four and five. The company's confidence level of 97% represents the likelihood that these results are the same within the entire population of customers."
   ]
  },
  {
   "cell_type": "markdown",
   "id": "077b1686-889f-4400-8fdc-c05c5c978d6c",
   "metadata": {},
   "source": [
    "# Q6. Use Bayes' Theorem to calculate the probability of an event occurring given prior knowledge of the event's probability and new evidence. Provide a sample problem and solution"
   ]
  },
  {
   "cell_type": "markdown",
   "id": "f12e3e44-6112-46ac-ac07-3df11b72fad6",
   "metadata": {},
   "source": [
    "Imagine there is a drug test that is 98% accurate, meaning that 98% of the time, it shows a true positive result for someone using the drug, and 98% of the time, it shows a true negative result for nonusers of the drug.\n",
    "\n",
    "Next, assume 0.5% of people use the drug. If a person selected at random tests positive for the drug, the following calculation can be made to determine the probability the person is actually a user of the drug.\n",
    "\n",
    "$$ (0.98 x 0.005) / \\\\[(0.98 x 0.005) + ((1 - 0.98) x (1 - 0.005))] = 0.0049 / (0.0049 + 0.0199) = 19.76% $$ <br>\n",
    "Bayes' Theorem shows that even if a person tested positive in this scenario, there is a roughly 80% chance the person does not take the drug."
   ]
  },
  {
   "cell_type": "markdown",
   "id": "a2f50879-1d71-46f9-b2e0-ebfe68346c04",
   "metadata": {},
   "source": [
    "# Q7. Calculate the 95% confidence interval for a sample of data with a mean of 50 and a standard deviation of 5. Interpret the resultss"
   ]
  },
  {
   "cell_type": "code",
   "execution_count": 34,
   "id": "0d8e4f59-fb46-47b6-84d1-7e07de595179",
   "metadata": {},
   "outputs": [],
   "source": [
    "import numpy as np\n",
    "import scipy.stats as stats"
   ]
  },
  {
   "cell_type": "code",
   "execution_count": 35,
   "id": "9f8141bf-6fdf-4476-9e7e-f801587b9d8f",
   "metadata": {},
   "outputs": [
    {
     "name": "stdout",
     "output_type": "stream",
     "text": [
      "The sample size lies between 49.02001800772997 to 50.97998199227003\n"
     ]
    }
   ],
   "source": [
    "data = np.random.normal(loc=50, scale=5, size=100)\n",
    "confidence_interval = 0.95\n",
    "z_score = stats.norm.ppf((1 + confidence_interval) / 2)\n",
    "lower_bound = 50 - z_score * (5 / (100 ** 0.5))\n",
    "upper_bound = 50 + z_score * (5 / (100 ** 0.5))\n",
    "print(f'The sample size lies between {lower_bound} to {upper_bound}')"
   ]
  },
  {
   "cell_type": "markdown",
   "id": "7fbcc30d-54a9-42dc-8aea-db48ff0f5031",
   "metadata": {},
   "source": [
    "# Q8. What is the margin of error in a confidence interval? How does sample size affect the margin of error? Provide an example of a scenario where a larger sample size would result in a smaller margin of error"
   ]
  },
  {
   "cell_type": "markdown",
   "id": "78c62690-bdf6-4987-82bc-70f0f36c0a84",
   "metadata": {},
   "source": [
    "The margin of error in a confidence interval is the range around the point estimate that indicates the uncertainty of the estimate. It quantifies the degree of confidence that the true population parameter lies within the interval.\r\n",
    "\r\n",
    "Sample size and margin of error have an inverse relationship. As the sample size increases, the margin of error decreases, meaning the estimate becomes more precise and accurate.\r\n",
    "\r\n",
    "Example: Suppose we want to estimate the average height of students in a school. If we take a small sample of 20 students, the margin of error will be relatively large, and the interval may be quite wide, let's say +/- 4 inches. On the other hand, if we take a larger sample of 200 students, the margin of error will decrease, resulting in a narrower interval, such as +/- 1 inch. The larger sample provides more data points, which helps to reduce the uncertainty and produces a more reliable estimate of the true population average height."
   ]
  },
  {
   "cell_type": "markdown",
   "id": "01873242-fb98-4c45-972e-49df87053e7c",
   "metadata": {},
   "source": [
    "# Q9. Calculate the z-score for a data point with a value of 75, a population mean of 70, and a population standard deviation of 5. Interpret the results."
   ]
  },
  {
   "cell_type": "code",
   "execution_count": 36,
   "id": "caf7934f-34b2-45fe-afb6-4739a2925ed0",
   "metadata": {},
   "outputs": [
    {
     "data": {
      "text/plain": [
       "1.0"
      ]
     },
     "execution_count": 36,
     "metadata": {},
     "output_type": "execute_result"
    }
   ],
   "source": [
    "x_point = 75\n",
    "sd = 5\n",
    "mean = 70\n",
    "\n",
    "z_score = (x_point - mean) / sd\n",
    "z_score"
   ]
  },
  {
   "cell_type": "markdown",
   "id": "a5f978d0-986e-46f6-9900-b37ce5e735ce",
   "metadata": {},
   "source": [
    "**Interpretation:**\r\n",
    "A z-score of 1.0 indicates that the data point with a value of 75 is one standard deviation above the population mean (70). In other words, the data point is higher than the average value of the population by the amount of one standard deviation."
   ]
  },
  {
   "cell_type": "markdown",
   "id": "59888810-6605-4682-a494-f11e8e379d97",
   "metadata": {},
   "source": [
    "# Q10. In a study of the effectiveness of a new weight loss drug, a sample of 50 participants lost an average of 6 pounds with a standard deviation of 2.5 pounds. Conduct a hypothesis test to determine if the drug is significantly effective at a 95% confidence level using a t-test."
   ]
  },
  {
   "cell_type": "code",
   "execution_count": 37,
   "id": "1ccc1a05-a07a-42c7-ac5e-a525b054c120",
   "metadata": {},
   "outputs": [
    {
     "name": "stdout",
     "output_type": "stream",
     "text": [
      "Reject the Null Hypothesis\n"
     ]
    }
   ],
   "source": [
    "sample_mean = 6\n",
    "sample_sd = 2.5\n",
    "sample_size = 50\n",
    "null_hypothesis_mean = 0\n",
    "\n",
    "df = sample_size - 1\n",
    "confidence_level = 0.95\n",
    "\n",
    "critical_val = stats.t.ppf(q = confidence_level, df = df)\n",
    "t_test = (sample_mean - null_hypothesis_mean) / (sample_sd / np.sqrt(sample_size))\n",
    "\n",
    "if(t_test > critical_val):\n",
    "    print('Reject the Null Hypothesis')\n",
    "else: \n",
    "    print('Fail to Reject the Null Hypothesis')"
   ]
  },
  {
   "cell_type": "markdown",
   "id": "266d691e-5b96-403c-96d9-de6ea6c143e4",
   "metadata": {},
   "source": [
    "# Q11. In a survey of 500 people, 65% reported being satisfied with their current job. Calculate the 95% confidence interval for the true proportion of people who are satisfied with their job"
   ]
  },
  {
   "cell_type": "code",
   "execution_count": 52,
   "id": "642b7524-055c-42d0-9922-d87f70035324",
   "metadata": {},
   "outputs": [
    {
     "name": "stdout",
     "output_type": "stream",
     "text": [
      "The 95% confidence interval for the proportion is: (0.6082, 0.6918)\n"
     ]
    }
   ],
   "source": [
    "sample_size = 500\n",
    "p = 0.65\n",
    "confidence_level = 0.95\n",
    "\n",
    "z_score = stats.norm.ppf((1 + confidence_level) / 2)\n",
    "\n",
    "lower_bound = p - z_score * (((p * (1 - p)) / sample_size) ** 0.5)\n",
    "upper_bound = p + z_score * (((p * (1 - p)) / sample_size) ** 0.5)\n",
    "\n",
    "print(f\"The 95% confidence interval for the proportion is: ({lower_bound:.4f}, {upper_bound:.4f})\")"
   ]
  },
  {
   "cell_type": "markdown",
   "id": "f3ac733f-db7d-4aca-9a0c-01166feca660",
   "metadata": {},
   "source": [
    "# Q12. A researcher is testing the effectiveness of two different teaching methods on student performance. Sample A has a mean score of 85 with a standard deviation of 6, while sample B has a mean score of 82 with a standard deviation of 5. Conduct a hypothesis test to determine if the two teaching methods have a significant difference in student performance using a t-test with a significance level of 0.01."
   ]
  },
  {
   "cell_type": "markdown",
   "id": "245d9649-285a-41bb-a300-9f300a4cb212",
   "metadata": {},
   "source": [
    "To conduct hypothesis testing sample size should be provided. As the sample size is not provided, hypothesis testing using t-test could not be done."
   ]
  },
  {
   "cell_type": "markdown",
   "id": "092868d8-42fb-42f5-95b6-fef4a61a2a4a",
   "metadata": {},
   "source": [
    "# Q13. A population has a mean of 60 and a standard deviation of 8. A sample of 50 observations has a mean of 65. Calculate the 90% confidence interval for the true population mean."
   ]
  },
  {
   "cell_type": "code",
   "execution_count": 59,
   "id": "ac76d9c0-ca1d-43e9-b7cc-ae0afe6e166e",
   "metadata": {},
   "outputs": [
    {
     "name": "stdout",
     "output_type": "stream",
     "text": [
      "90% Confidence Interval for the True Population Mean:\n",
      "Lower bound: 63.13906055411732\n",
      "Upper bound: 66.86093944588268\n"
     ]
    }
   ],
   "source": [
    "population_mean = 60\n",
    "population_sd = 8\n",
    "sample_size = 50\n",
    "sample_mean = 65\n",
    "confidence_interval = 0.9\n",
    "\n",
    "critical_val = stats.norm.ppf((1 + confidence_interval) / 2)\n",
    "\n",
    "upper_bound = sample_mean + critical_val * (population_sd / np.sqrt(sample_size))\n",
    "lower_bound = sample_mean - critical_val * (population_sd / np.sqrt(sample_size))\n",
    "\n",
    "\n",
    "print(\"90% Confidence Interval for the True Population Mean:\")\n",
    "print(\"Lower bound:\", lower_bound)\n",
    "print(\"Upper bound:\", upper_bound)"
   ]
  },
  {
   "cell_type": "markdown",
   "id": "eab71186-d099-4f4c-8d74-61a3d3050dac",
   "metadata": {},
   "source": [
    "# Q14. In a study of the effects of caffeine on reaction time, a sample of 30 participants had an average reaction time of 0.25 seconds with a standard deviation of 0.05 seconds. Conduct a hypothesis test to determine if the caffeine has a significant effect on reaction time at a 90% confidence level using a t-test."
   ]
  },
  {
   "cell_type": "code",
   "execution_count": 69,
   "id": "df0efaf4-9d2b-4220-8e7e-e9c8df40f2dd",
   "metadata": {},
   "outputs": [
    {
     "name": "stdout",
     "output_type": "stream",
     "text": [
      "We fail to Reject the Null Hypothesis\n"
     ]
    }
   ],
   "source": [
    "sample_size = 30\n",
    "sample_mean = 0.25\n",
    "sample_sd = 0.05\n",
    "population_mean = 0.25 # assuming no effect of caffeine\n",
    "\n",
    "# H0 : Caffine has no significance effect on reaction time\n",
    "# H1 : Caffince has significance effect on reaction time\n",
    "\n",
    "significance_level = 0.9\n",
    "df = sample_size - 1\n",
    "\n",
    "critical_val = stats.t.ppf(q = significance_level, df = df)\n",
    "\n",
    "t_test = (sample_mean - population_mean) / (sample_sd / np.sqrt(sample_size))\n",
    "\n",
    "if critical_val < t_test:\n",
    "    print('We fail the Null Hypothesis')\n",
    "else:\n",
    "    print('We fail to Reject the Null Hypothesis')"
   ]
  }
 ],
 "metadata": {
  "kernelspec": {
   "display_name": "Python 3 (ipykernel)",
   "language": "python",
   "name": "python3"
  },
  "language_info": {
   "codemirror_mode": {
    "name": "ipython",
    "version": 3
   },
   "file_extension": ".py",
   "mimetype": "text/x-python",
   "name": "python",
   "nbconvert_exporter": "python",
   "pygments_lexer": "ipython3",
   "version": "3.10.11"
  }
 },
 "nbformat": 4,
 "nbformat_minor": 5
}
