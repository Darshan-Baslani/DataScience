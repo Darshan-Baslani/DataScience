{
 "cells": [
  {
   "cell_type": "markdown",
   "id": "2448cab4-1eff-4687-a2d4-e9f0199573be",
   "metadata": {},
   "source": [
    "* Common activation functions used for Perceptrons are (with threshold at 0)-\n",
    "\n",
    "$$step(z)\\ or\\ heaviside(z) = \\left\\{\\begin{matrix}\n",
    "0 & z<0\\\\\n",
    "1 & z\\geq 0\n",
    "\\end{matrix}\\right.$$\n",
    "\n",
    "* Perceptron learning Rule:\n",
    "$$w_{i,j} \\leftarrow w_{i,j} + \\eta(y_j - \\hat{y_j})x_i$$\n",
    "where,\n",
    "  * $w_{i,j}$ : connection weight between $i^{th}$ input neuron and $j^{th}$ output neuron\n",
    "  * $x_i$ : $i^{th}$ input value.\n",
    "  * $\\hat{y_j}$ : output of $j^{th}$ output neuron\n",
    "  * $y_j$ : target output of $j^{th}$ output neuron\n",
    "  * $\\eta$ : learning rate\n",
    " \n",
    "$\\mathbf{z'} = w_0 x_0 + w_1 x_1 + w_2 x_2 + ... + w_n x_n$\n",
    "\n",
    "and\n",
    "\n",
    "$\\phi(z) = \\begin{cases}\n",
    "+1 & \\text{ if } z \\geq 0\\\\\n",
    "-1 & \\text{ if } z < 0\n",
    "\\end{cases}$\n",
    "\n",
    "here $w_0 x_0$ is usually known as bias unit"
   ]
  },
  {
   "cell_type": "code",
   "execution_count": 15,
   "id": "12561985-d66d-420f-a138-3f4330d779a3",
   "metadata": {},
   "outputs": [
    {
     "name": "stderr",
     "output_type": "stream",
     "text": [
      "/home/darshan/.local/lib/python3.11/site-packages/pandas/core/arrays/masked.py:60: UserWarning: Pandas requires version '1.3.6' or newer of 'bottleneck' (version '1.3.5' currently installed).\n",
      "  from pandas.core import (\n"
     ]
    }
   ],
   "source": [
    "import numpy as np\n",
    "import pandas as pd"
   ]
  },
  {
   "cell_type": "code",
   "execution_count": 51,
   "id": "9e638fe3-422e-4a11-844d-27dce9bebb7b",
   "metadata": {},
   "outputs": [],
   "source": [
    "\n",
    "class Perceptron:\n",
    "    def __init__(self, epochs, eta):\n",
    "        self.epochs = epochs\n",
    "        self.eta = eta\n",
    "        self.weights = np.random.randn(3) * 1e-4\n",
    "        print(f\"Weights : {self.weights}\")\n",
    "        \n",
    "    def activation_function(self, inputs, weights):\n",
    "        z = np.dot(inputs, weights)\n",
    "        return np.where(z>0, 1, 0)\n",
    "\n",
    "    def fit(self, X, y):\n",
    "        self.X = X\n",
    "        self.y = y\n",
    "        X_with_bias = np.c_[X, -np.ones( (len(X),1) )]\n",
    "        print(f\"X with bias : {X_with_bias}\")\n",
    "        for epoch in range(self.epochs):\n",
    "            print(f\"\\nEpoch : {epoch}\")\n",
    "            y_hat = self.activation_function(X_with_bias, self.weights)\n",
    "            print(f\"Y hat : {y_hat}\")\n",
    "            error = self.y - y_hat\n",
    "            print(f\"Error : {error}\")\n",
    "            self.weights = self.weights + (self.eta * np.dot(X_with_bias.T, error))\n",
    "\n",
    "    def predict(self, X):\n",
    "        X_with_bias = np.c_[X, -np.ones( (len(X), 1) )]\n",
    "        return self.activation_function(X_with_bias, self.weights)"
   ]
  },
  {
   "cell_type": "code",
   "execution_count": 52,
   "id": "305c8c19-18f1-48d9-87d8-e68543b1baf4",
   "metadata": {},
   "outputs": [
    {
     "data": {
      "text/html": [
       "<div>\n",
       "<style scoped>\n",
       "    .dataframe tbody tr th:only-of-type {\n",
       "        vertical-align: middle;\n",
       "    }\n",
       "\n",
       "    .dataframe tbody tr th {\n",
       "        vertical-align: top;\n",
       "    }\n",
       "\n",
       "    .dataframe thead th {\n",
       "        text-align: right;\n",
       "    }\n",
       "</style>\n",
       "<table border=\"1\" class=\"dataframe\">\n",
       "  <thead>\n",
       "    <tr style=\"text-align: right;\">\n",
       "      <th></th>\n",
       "      <th>y</th>\n",
       "    </tr>\n",
       "  </thead>\n",
       "  <tbody>\n",
       "    <tr>\n",
       "      <th>0</th>\n",
       "      <td>0</td>\n",
       "    </tr>\n",
       "    <tr>\n",
       "      <th>1</th>\n",
       "      <td>0</td>\n",
       "    </tr>\n",
       "    <tr>\n",
       "      <th>2</th>\n",
       "      <td>0</td>\n",
       "    </tr>\n",
       "    <tr>\n",
       "      <th>3</th>\n",
       "      <td>1</td>\n",
       "    </tr>\n",
       "  </tbody>\n",
       "</table>\n",
       "</div>"
      ],
      "text/plain": [
       "   y\n",
       "0  0\n",
       "1  0\n",
       "2  0\n",
       "3  1"
      ]
     },
     "execution_count": 52,
     "metadata": {},
     "output_type": "execute_result"
    }
   ],
   "source": [
    "data = {\"x1\": [0,0,1,1], \"x2\": [0,1,0,1], \"y\": [0,0,0,1]}\n",
    "\n",
    "AND = pd.DataFrame(data)\n",
    "X = AND.drop(\"y\", axis=1)\n",
    "y = AND['y']\n",
    "y.to_frame()"
   ]
  },
  {
   "cell_type": "code",
   "execution_count": 53,
   "id": "bde44972-feac-42a9-aca0-94911f480a2f",
   "metadata": {},
   "outputs": [
    {
     "name": "stdout",
     "output_type": "stream",
     "text": [
      "Weights : [-2.93026232e-05  1.64487380e-04 -7.27060492e-05]\n",
      "X with bias : [[ 0.  0. -1.]\n",
      " [ 0.  1. -1.]\n",
      " [ 1.  0. -1.]\n",
      " [ 1.  1. -1.]]\n",
      "\n",
      "Epoch : 0\n",
      "Y hat : [1 1 1 1]\n",
      "Error : 0   -1\n",
      "1   -1\n",
      "2   -1\n",
      "3    0\n",
      "Name: y, dtype: int64\n",
      "\n",
      "Epoch : 1\n",
      "Y hat : [0 0 0 0]\n",
      "Error : 0    0\n",
      "1    0\n",
      "2    0\n",
      "3    1\n",
      "Name: y, dtype: int64\n",
      "\n",
      "Epoch : 2\n",
      "Y hat : [0 0 0 0]\n",
      "Error : 0    0\n",
      "1    0\n",
      "2    0\n",
      "3    1\n",
      "Name: y, dtype: int64\n",
      "\n",
      "Epoch : 3\n",
      "Y hat : [0 1 1 1]\n",
      "Error : 0    0\n",
      "1   -1\n",
      "2   -1\n",
      "3    0\n",
      "Name: y, dtype: int64\n",
      "\n",
      "Epoch : 4\n",
      "Y hat : [0 0 0 0]\n",
      "Error : 0    0\n",
      "1    0\n",
      "2    0\n",
      "3    1\n",
      "Name: y, dtype: int64\n",
      "\n",
      "Epoch : 5\n",
      "Y hat : [0 0 0 1]\n",
      "Error : 0    0\n",
      "1    0\n",
      "2    0\n",
      "3    0\n",
      "Name: y, dtype: int64\n",
      "\n",
      "Epoch : 6\n",
      "Y hat : [0 0 0 1]\n",
      "Error : 0    0\n",
      "1    0\n",
      "2    0\n",
      "3    0\n",
      "Name: y, dtype: int64\n",
      "\n",
      "Epoch : 7\n",
      "Y hat : [0 0 0 1]\n",
      "Error : 0    0\n",
      "1    0\n",
      "2    0\n",
      "3    0\n",
      "Name: y, dtype: int64\n",
      "\n",
      "Epoch : 8\n",
      "Y hat : [0 0 0 1]\n",
      "Error : 0    0\n",
      "1    0\n",
      "2    0\n",
      "3    0\n",
      "Name: y, dtype: int64\n",
      "\n",
      "Epoch : 9\n",
      "Y hat : [0 0 0 1]\n",
      "Error : 0    0\n",
      "1    0\n",
      "2    0\n",
      "3    0\n",
      "Name: y, dtype: int64\n"
     ]
    }
   ],
   "source": [
    "model = Perceptron(eta = 0.5, epochs=10)\n",
    "model.fit(X,y)"
   ]
  },
  {
   "cell_type": "code",
   "execution_count": 54,
   "id": "924c314c-68e2-47da-bde8-d53229c41b29",
   "metadata": {},
   "outputs": [
    {
     "data": {
      "text/plain": [
       "array([0, 0, 0, 1])"
      ]
     },
     "execution_count": 54,
     "metadata": {},
     "output_type": "execute_result"
    }
   ],
   "source": [
    "model.predict(X)"
   ]
  },
  {
   "cell_type": "code",
   "execution_count": 56,
   "id": "be5c358a-8cff-4ec4-b5a5-e58519d7e796",
   "metadata": {},
   "outputs": [
    {
     "data": {
      "text/plain": [
       "array([0.4999707 , 0.50016449, 0.99992729])"
      ]
     },
     "execution_count": 56,
     "metadata": {},
     "output_type": "execute_result"
    }
   ],
   "source": [
    "model.weights"
   ]
  }
 ],
 "metadata": {
  "kernelspec": {
   "display_name": "Python 3 (ipykernel)",
   "language": "python",
   "name": "python3"
  },
  "language_info": {
   "codemirror_mode": {
    "name": "ipython",
    "version": 3
   },
   "file_extension": ".py",
   "mimetype": "text/x-python",
   "name": "python",
   "nbconvert_exporter": "python",
   "pygments_lexer": "ipython3",
   "version": "3.11.4"
  }
 },
 "nbformat": 4,
 "nbformat_minor": 5
}
