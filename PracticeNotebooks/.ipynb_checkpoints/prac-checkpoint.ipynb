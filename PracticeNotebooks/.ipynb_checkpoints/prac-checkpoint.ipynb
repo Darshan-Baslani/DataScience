{
 "cells": [
  {
   "cell_type": "code",
   "execution_count": 1,
   "id": "ecc8cce7-bd19-4956-a2b8-70dde7d39636",
   "metadata": {},
   "outputs": [],
   "source": [
    "a_s = [1,2,3]\n",
    "b_s = [1,2,3]\n",
    "c_s = [1,2,3]"
   ]
  },
  {
   "cell_type": "code",
   "execution_count": 2,
   "id": "124ce7dd-c1f9-4994-af98-1bf1ba8e0b9e",
   "metadata": {},
   "outputs": [
    {
     "name": "stdout",
     "output_type": "stream",
     "text": [
      "1 2 3\n",
      "1 2 3\n",
      "1 2 3\n"
     ]
    }
   ],
   "source": [
    "for a, b, c in (a_s, b_s, c_s):\n",
    "    print(a, b, c)"
   ]
  },
  {
   "cell_type": "code",
   "execution_count": 3,
   "id": "3f60a540-7092-4c3c-bda4-ad5ab58e6213",
   "metadata": {},
   "outputs": [
    {
     "name": "stdout",
     "output_type": "stream",
     "text": [
      "1 1 1\n",
      "2 2 2\n",
      "3 3 3\n"
     ]
    }
   ],
   "source": [
    "for a, b, c in zip(a_s, b_s, c_s):\n",
    "    print(a, b, c)"
   ]
  },
  {
   "cell_type": "code",
   "execution_count": 4,
   "id": "e1b74ab0-79f7-4818-9d2e-46191ee82ac2",
   "metadata": {},
   "outputs": [
    {
     "data": {
      "text/plain": [
       "[1, 2]"
      ]
     },
     "execution_count": 4,
     "metadata": {},
     "output_type": "execute_result"
    }
   ],
   "source": [
    "a_s[:-1]"
   ]
  },
  {
   "cell_type": "code",
   "execution_count": 5,
   "id": "ad775236-3fff-4062-862e-dbb0dd0df3e5",
   "metadata": {},
   "outputs": [
    {
     "data": {
      "text/plain": [
       "3"
      ]
     },
     "execution_count": 5,
     "metadata": {},
     "output_type": "execute_result"
    }
   ],
   "source": [
    "a_s[-1]"
   ]
  },
  {
   "cell_type": "code",
   "execution_count": 6,
   "id": "6fcdd706-f4c9-4bcf-9667-74c3facbd4da",
   "metadata": {},
   "outputs": [
    {
     "data": {
      "text/plain": [
       "[1]"
      ]
     },
     "execution_count": 6,
     "metadata": {},
     "output_type": "execute_result"
    }
   ],
   "source": [
    "a_s[:1]"
   ]
  },
  {
   "cell_type": "code",
   "execution_count": 7,
   "id": "69f622df-f1e5-4f19-864d-8f983c040152",
   "metadata": {},
   "outputs": [
    {
     "data": {
      "text/plain": [
       "[2, 3]"
      ]
     },
     "execution_count": 7,
     "metadata": {},
     "output_type": "execute_result"
    }
   ],
   "source": [
    "a_s[1:]"
   ]
  },
  {
   "cell_type": "code",
   "execution_count": 9,
   "id": "d576e1b3-fbdb-473e-aac9-15a9160a9780",
   "metadata": {},
   "outputs": [
    {
     "data": {
      "text/plain": [
       "[3, 6, 9]"
      ]
     },
     "execution_count": 9,
     "metadata": {},
     "output_type": "execute_result"
    }
   ],
   "source": [
    "l1 = [[1,2,3], [4,5,6], [7,8,9]]\n",
    "[max(inner_list) for inner_list in l1]"
   ]
  },
  {
   "cell_type": "code",
   "execution_count": 12,
   "id": "4a13104b-afe6-429c-bfab-3ec1de81f2d3",
   "metadata": {},
   "outputs": [
    {
     "data": {
      "text/plain": [
       "(set, {1, 2, 3})"
      ]
     },
     "execution_count": 12,
     "metadata": {},
     "output_type": "execute_result"
    }
   ],
   "source": [
    "a = set((2,3,1))\n",
    "type(a), a"
   ]
  },
  {
   "cell_type": "code",
   "execution_count": 6,
   "id": "a2b8f18a-c271-4644-85df-81da11d28886",
   "metadata": {},
   "outputs": [
    {
     "name": "stderr",
     "output_type": "stream",
     "text": [
      "Processing item 90: 100%|████████████████████████████████████████████| 100/100 [00:01<00:00, 94.52it/s]"
     ]
    },
    {
     "name": "stdout",
     "output_type": "stream",
     "text": [
      "Processing complete!\n",
      "First few results: [0, 2, 4, 6, 8]\n"
     ]
    },
    {
     "name": "stderr",
     "output_type": "stream",
     "text": [
      "\n"
     ]
    }
   ],
   "source": [
    "from tqdm import trange\n",
    "import time\n",
    "\n",
    "def process_item(item):\n",
    "    # Simulating some time-consuming process\n",
    "    time.sleep(0.01)\n",
    "    return item * 2\n",
    "\n",
    "# Using the loop structure you asked about\n",
    "results = []\n",
    "for i in (t := trange(100)):\n",
    "    result = process_item(i)\n",
    "    results.append(result)\n",
    "    \n",
    "    # You can use 't' to update the progress bar description\n",
    "    if i % 10 == 0:\n",
    "        t.set_description(f\"Processing item {i}\")\n",
    "\n",
    "print(\"Processing complete!\")\n",
    "print(f\"First few results: {results[:5]}\")\n"
   ]
  },
  {
   "cell_type": "code",
   "execution_count": null,
   "id": "6a84f456-0aa9-4284-a9b5-254deaed108f",
   "metadata": {},
   "outputs": [],
   "source": []
  }
 ],
 "metadata": {
  "kernelspec": {
   "display_name": "Python 3 (ipykernel)",
   "language": "python",
   "name": "python3"
  },
  "language_info": {
   "codemirror_mode": {
    "name": "ipython",
    "version": 3
   },
   "file_extension": ".py",
   "mimetype": "text/x-python",
   "name": "python",
   "nbconvert_exporter": "python",
   "pygments_lexer": "ipython3",
   "version": "3.12.4"
  }
 },
 "nbformat": 4,
 "nbformat_minor": 5
}
