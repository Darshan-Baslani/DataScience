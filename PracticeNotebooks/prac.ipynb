{
 "cells": [
  {
   "cell_type": "code",
   "execution_count": 1,
   "id": "ecc8cce7-bd19-4956-a2b8-70dde7d39636",
   "metadata": {},
   "outputs": [],
   "source": [
    "a_s = [1,2,3]\n",
    "b_s = [1,2,3]\n",
    "c_s = [1,2,3]"
   ]
  },
  {
   "cell_type": "code",
   "execution_count": 2,
   "id": "124ce7dd-c1f9-4994-af98-1bf1ba8e0b9e",
   "metadata": {},
   "outputs": [
    {
     "name": "stdout",
     "output_type": "stream",
     "text": [
      "1 2 3\n",
      "1 2 3\n",
      "1 2 3\n"
     ]
    }
   ],
   "source": [
    "for a, b, c in (a_s, b_s, c_s):\n",
    "    print(a, b, c)"
   ]
  },
  {
   "cell_type": "code",
   "execution_count": 3,
   "id": "3f60a540-7092-4c3c-bda4-ad5ab58e6213",
   "metadata": {},
   "outputs": [
    {
     "name": "stdout",
     "output_type": "stream",
     "text": [
      "1 1 1\n",
      "2 2 2\n",
      "3 3 3\n"
     ]
    }
   ],
   "source": [
    "for a, b, c in zip(a_s, b_s, c_s):\n",
    "    print(a, b, c)"
   ]
  },
  {
   "cell_type": "code",
   "execution_count": 4,
   "id": "e1b74ab0-79f7-4818-9d2e-46191ee82ac2",
   "metadata": {},
   "outputs": [
    {
     "data": {
      "text/plain": [
       "[1, 2]"
      ]
     },
     "execution_count": 4,
     "metadata": {},
     "output_type": "execute_result"
    }
   ],
   "source": [
    "a_s[:-1]"
   ]
  },
  {
   "cell_type": "code",
   "execution_count": 5,
   "id": "ad775236-3fff-4062-862e-dbb0dd0df3e5",
   "metadata": {},
   "outputs": [
    {
     "data": {
      "text/plain": [
       "3"
      ]
     },
     "execution_count": 5,
     "metadata": {},
     "output_type": "execute_result"
    }
   ],
   "source": [
    "a_s[-1]"
   ]
  },
  {
   "cell_type": "code",
   "execution_count": 6,
   "id": "6fcdd706-f4c9-4bcf-9667-74c3facbd4da",
   "metadata": {},
   "outputs": [
    {
     "data": {
      "text/plain": [
       "[1]"
      ]
     },
     "execution_count": 6,
     "metadata": {},
     "output_type": "execute_result"
    }
   ],
   "source": [
    "a_s[:1]"
   ]
  },
  {
   "cell_type": "code",
   "execution_count": 7,
   "id": "69f622df-f1e5-4f19-864d-8f983c040152",
   "metadata": {},
   "outputs": [
    {
     "data": {
      "text/plain": [
       "[2, 3]"
      ]
     },
     "execution_count": 7,
     "metadata": {},
     "output_type": "execute_result"
    }
   ],
   "source": [
    "a_s[1:]"
   ]
  },
  {
   "cell_type": "code",
   "execution_count": 8,
   "id": "d576e1b3-fbdb-473e-aac9-15a9160a9780",
   "metadata": {},
   "outputs": [
    {
     "data": {
      "text/plain": [
       "[3, 6, 9]"
      ]
     },
     "execution_count": 8,
     "metadata": {},
     "output_type": "execute_result"
    }
   ],
   "source": [
    "l1 = [[1,2,3], [4,5,6], [7,8,9]]\n",
    "[max(inner_list) for inner_list in l1]"
   ]
  },
  {
   "cell_type": "code",
   "execution_count": 9,
   "id": "4a13104b-afe6-429c-bfab-3ec1de81f2d3",
   "metadata": {},
   "outputs": [
    {
     "data": {
      "text/plain": [
       "(set, {1, 2, 3})"
      ]
     },
     "execution_count": 9,
     "metadata": {},
     "output_type": "execute_result"
    }
   ],
   "source": [
    "a = set((2,3,1))\n",
    "type(a), a"
   ]
  },
  {
   "cell_type": "code",
   "execution_count": 10,
   "id": "a2b8f18a-c271-4644-85df-81da11d28886",
   "metadata": {},
   "outputs": [
    {
     "name": "stderr",
     "output_type": "stream",
     "text": [
      "Processing item 90: 100%|███████████████████████████████████████████████| 100/100 [00:01<00:00, 94.69it/s]"
     ]
    },
    {
     "name": "stdout",
     "output_type": "stream",
     "text": [
      "Processing complete!\n",
      "First few results: [0, 2, 4, 6, 8]\n"
     ]
    },
    {
     "name": "stderr",
     "output_type": "stream",
     "text": [
      "\n"
     ]
    }
   ],
   "source": [
    "from tqdm import trange\n",
    "import time\n",
    "\n",
    "def process_item(item):\n",
    "    # Simulating some time-consuming process\n",
    "    time.sleep(0.01)\n",
    "    return item * 2\n",
    "\n",
    "# Using the loop structure you asked about\n",
    "results = []\n",
    "for i in (t := trange(100)):\n",
    "    result = process_item(i)\n",
    "    results.append(result)\n",
    "    \n",
    "    # You can use 't' to update the progress bar description\n",
    "    if i % 10 == 0:\n",
    "        t.set_description(f\"Processing item {i}\")\n",
    "\n",
    "print(\"Processing complete!\")\n",
    "print(f\"First few results: {results[:5]}\")\n"
   ]
  },
  {
   "cell_type": "code",
   "execution_count": 11,
   "id": "6a84f456-0aa9-4284-a9b5-254deaed108f",
   "metadata": {},
   "outputs": [
    {
     "name": "stdout",
     "output_type": "stream",
     "text": [
      "[1, 4, 9, 16]\n"
     ]
    }
   ],
   "source": [
    "def square(num):\n",
    "    return num ** 2\n",
    "\n",
    "numbers = [1, 2, 3, 4]\n",
    "squared_numbers = map(square, numbers)\n",
    "print(list(squared_numbers))"
   ]
  },
  {
   "cell_type": "code",
   "execution_count": 12,
   "id": "0b006ef0-030a-46c5-9e48-f3993a3b90c1",
   "metadata": {},
   "outputs": [
    {
     "name": "stdout",
     "output_type": "stream",
     "text": [
      "[1, 4, 9, 16]\n"
     ]
    }
   ],
   "source": [
    "numbers = [1, 2, 3, 4]\n",
    "squared_numbers = map(lambda x: x ** 2, numbers)\n",
    "\n",
    "print(list(squared_numbers))\n"
   ]
  },
  {
   "cell_type": "code",
   "execution_count": 13,
   "id": "2c917ce0-1422-49f6-b560-5a6ab2ec4bea",
   "metadata": {},
   "outputs": [
    {
     "data": {
      "text/plain": [
       "[[1, 2, 3], [7, 8, 9]]"
      ]
     },
     "execution_count": 13,
     "metadata": {},
     "output_type": "execute_result"
    }
   ],
   "source": [
    "a = [[1,2,3],\n",
    "    [4,5,6],\n",
    "    [7,8,9],\n",
    "    [10,11,12]]\n",
    "a[:][0::2]"
   ]
  },
  {
   "cell_type": "code",
   "execution_count": 14,
   "id": "f77167a0-2a60-4420-b6b5-a2e771af03d5",
   "metadata": {},
   "outputs": [
    {
     "data": {
      "text/plain": [
       "[[1, 2, 3], [7, 8, 9]]"
      ]
     },
     "execution_count": 14,
     "metadata": {},
     "output_type": "execute_result"
    }
   ],
   "source": [
    "a[0::2][:]"
   ]
  },
  {
   "cell_type": "code",
   "execution_count": 15,
   "id": "31fb4b5b-fa5f-488d-acb6-df1040e24025",
   "metadata": {},
   "outputs": [],
   "source": [
    "import torch\n",
    "a = torch.Tensor(a)"
   ]
  },
  {
   "cell_type": "code",
   "execution_count": 16,
   "id": "28127569-f6c6-4ac4-91c2-0d8fd0c66e97",
   "metadata": {},
   "outputs": [
    {
     "data": {
      "text/plain": [
       "tensor([[ 1.,  3.],\n",
       "        [ 4.,  6.],\n",
       "        [ 7.,  9.],\n",
       "        [10., 12.]])"
      ]
     },
     "execution_count": 16,
     "metadata": {},
     "output_type": "execute_result"
    }
   ],
   "source": [
    "a[:, 0::2]"
   ]
  },
  {
   "cell_type": "code",
   "execution_count": 17,
   "id": "10d01981-9559-4452-bca8-65deed993734",
   "metadata": {},
   "outputs": [
    {
     "data": {
      "text/plain": [
       "tensor([[1., 2., 3.],\n",
       "        [7., 8., 9.]])"
      ]
     },
     "execution_count": 17,
     "metadata": {},
     "output_type": "execute_result"
    }
   ],
   "source": [
    "a[0::2, :]"
   ]
  },
  {
   "cell_type": "code",
   "execution_count": 18,
   "id": "b46e18be-315d-4341-818a-7e8f81e712ac",
   "metadata": {},
   "outputs": [
    {
     "data": {
      "text/plain": [
       "(tensor([[[ 1.,  2.,  3.]],\n",
       " \n",
       "         [[ 4.,  5.,  6.]],\n",
       " \n",
       "         [[ 7.,  8.,  9.]],\n",
       " \n",
       "         [[10., 11., 12.]]]),\n",
       " tensor([[ 1.,  2.,  3.],\n",
       "         [ 4.,  5.,  6.],\n",
       "         [ 7.,  8.,  9.],\n",
       "         [10., 11., 12.]]))"
      ]
     },
     "execution_count": 18,
     "metadata": {},
     "output_type": "execute_result"
    }
   ],
   "source": [
    "b = a.unsqueeze(1)\n",
    "b, a"
   ]
  },
  {
   "cell_type": "code",
   "execution_count": 19,
   "id": "520da76a-e412-4f0d-8a4f-be264d69525f",
   "metadata": {},
   "outputs": [
    {
     "data": {
      "text/plain": [
       "tensor([[ 1.,  2.,  3.],\n",
       "        [ 4.,  5.,  6.],\n",
       "        [ 7.,  8.,  9.],\n",
       "        [10., 11., 12.]])"
      ]
     },
     "execution_count": 19,
     "metadata": {},
     "output_type": "execute_result"
    }
   ],
   "source": [
    "b.squeeze(1)"
   ]
  },
  {
   "cell_type": "code",
   "execution_count": 20,
   "id": "d7b974f9-9f28-405e-8f8e-5766c7a4871f",
   "metadata": {},
   "outputs": [
    {
     "data": {
      "text/plain": [
       "(0.1, 0.1)"
      ]
     },
     "execution_count": 20,
     "metadata": {},
     "output_type": "execute_result"
    }
   ],
   "source": [
    "10**-1, 1e-1"
   ]
  },
  {
   "cell_type": "code",
   "execution_count": 21,
   "id": "325cda07-fc97-4aa4-a308-be09e57c81f9",
   "metadata": {},
   "outputs": [
    {
     "data": {
      "text/plain": [
       "tensor([[0.],\n",
       "        [2.],\n",
       "        [4.],\n",
       "        [6.],\n",
       "        [8.]])"
      ]
     },
     "execution_count": 21,
     "metadata": {},
     "output_type": "execute_result"
    }
   ],
   "source": [
    "torch.arange(0,10,2).float().unsqueeze(1)"
   ]
  },
  {
   "cell_type": "code",
   "execution_count": 22,
   "id": "1554c013-e803-437b-af72-40a910da0e29",
   "metadata": {},
   "outputs": [
    {
     "data": {
      "text/plain": [
       "tensor(2.7183)"
      ]
     },
     "execution_count": 22,
     "metadata": {},
     "output_type": "execute_result"
    }
   ],
   "source": [
    "torch.exp(torch.tensor(1))"
   ]
  },
  {
   "cell_type": "code",
   "execution_count": 23,
   "id": "e98b6514-2326-4f9a-86db-4bbacea141e9",
   "metadata": {},
   "outputs": [
    {
     "data": {
      "text/plain": [
       "(tensor([ 2.,  5.,  8., 11.]),\n",
       " tensor([[ 1.,  2.,  3.],\n",
       "         [ 4.,  5.,  6.],\n",
       "         [ 7.,  8.,  9.],\n",
       "         [10., 11., 12.]]))"
      ]
     },
     "execution_count": 23,
     "metadata": {},
     "output_type": "execute_result"
    }
   ],
   "source": [
    "a.mean(-1), a"
   ]
  },
  {
   "cell_type": "code",
   "execution_count": 24,
   "id": "5b0a5098-281b-48c7-806a-8430c6e2b868",
   "metadata": {},
   "outputs": [
    {
     "data": {
      "text/plain": [
       "(0.75, 0)"
      ]
     },
     "execution_count": 24,
     "metadata": {},
     "output_type": "execute_result"
    }
   ],
   "source": [
    "3/4, 3//4"
   ]
  },
  {
   "cell_type": "code",
   "execution_count": 38,
   "id": "5c6be456-10e8-4809-8e95-1d1f467bb71d",
   "metadata": {},
   "outputs": [
    {
     "data": {
      "text/plain": [
       "[[[0, 1, 2], [0, 1, 2], [0, 1, 2]],\n",
       " [[0, 1, 2], [0, 1, 2], [0, 1, 2]],\n",
       " [[0, 1, 2], [0, 1, 2], [0, 1, 2]],\n",
       " [[0, 1, 2], [0, 1, 2], [0, 1, 2]],\n",
       " [[0, 1, 2], [0, 1, 2], [0, 1, 2]],\n",
       " [[0, 1, 2], [0, 1, 2], [0, 1, 2]],\n",
       " [[0, 1, 2], [0, 1, 2], [0, 1, 2]],\n",
       " [[0, 1, 2], [0, 1, 2], [0, 1, 2]],\n",
       " [[0, 1, 2], [0, 1, 2], [0, 1, 2]]]"
      ]
     },
     "execution_count": 38,
     "metadata": {},
     "output_type": "execute_result"
    }
   ],
   "source": [
    "b = [[[i for i in range(3)] for i in range(3,6)] for i in range(6,9) for i in range(6,9)]\n",
    "b"
   ]
  },
  {
   "cell_type": "code",
   "execution_count": 43,
   "id": "e30994e4-2f23-4af0-9b6d-b2102c9e5b31",
   "metadata": {},
   "outputs": [
    {
     "name": "stderr",
     "output_type": "stream",
     "text": [
      "/tmp/ipykernel_3624/3723956176.py:1: UserWarning: To copy construct from a tensor, it is recommended to use sourceTensor.clone().detach() or sourceTensor.clone().detach().requires_grad_(True), rather than torch.tensor(sourceTensor).\n",
      "  b = torch.tensor(b)\n"
     ]
    },
    {
     "data": {
      "text/plain": [
       "torch.Size([9, 3, 3, 1])"
      ]
     },
     "execution_count": 43,
     "metadata": {},
     "output_type": "execute_result"
    }
   ],
   "source": [
    "b = torch.tensor(b)\n",
    "b.view(b.shape[0], b.shape[1], 3, 1).shape"
   ]
  },
  {
   "cell_type": "code",
   "execution_count": 40,
   "id": "fe7e66a9-5150-4b57-bf08-19c2737ade96",
   "metadata": {},
   "outputs": [
    {
     "data": {
      "text/plain": [
       "torch.Size([9, 3, 3])"
      ]
     },
     "execution_count": 40,
     "metadata": {},
     "output_type": "execute_result"
    }
   ],
   "source": [
    "b.shape"
   ]
  },
  {
   "cell_type": "code",
   "execution_count": 44,
   "id": "64f78c42-6b0c-4f5e-86b7-ad47af7305a3",
   "metadata": {},
   "outputs": [
    {
     "data": {
      "text/plain": [
       "(tensor([[ 1.,  2.,  3.],\n",
       "         [ 4.,  5.,  6.],\n",
       "         [ 7.,  8.,  9.],\n",
       "         [10., 11., 12.]]),\n",
       " torch.Size([4, 3]))"
      ]
     },
     "execution_count": 44,
     "metadata": {},
     "output_type": "execute_result"
    }
   ],
   "source": [
    "a, a.shape"
   ]
  },
  {
   "cell_type": "code",
   "execution_count": 51,
   "id": "7927b19b-8541-4627-9af8-ecf1b3b2768e",
   "metadata": {},
   "outputs": [
    {
     "data": {
      "text/plain": [
       "(tensor([[[ 1.,  4.],\n",
       "          [ 2.,  5.],\n",
       "          [ 3.,  6.]],\n",
       " \n",
       "         [[ 7., 10.],\n",
       "          [ 8., 11.],\n",
       "          [ 9., 12.]]]),\n",
       " tensor([[[ 1.,  2.,  3.],\n",
       "          [ 4.,  5.,  6.]],\n",
       " \n",
       "         [[ 7.,  8.,  9.],\n",
       "          [10., 11., 12.]]]))"
      ]
     },
     "execution_count": 51,
     "metadata": {},
     "output_type": "execute_result"
    }
   ],
   "source": [
    "a.view(2,2,3).transpose(1, 2), a.view(2,2,3)"
   ]
  },
  {
   "cell_type": "code",
   "execution_count": null,
   "id": "19509539-253a-47db-bda8-deea4d8fc4c7",
   "metadata": {},
   "outputs": [],
   "source": []
  }
 ],
 "metadata": {
  "kernelspec": {
   "display_name": "Python 3 (ipykernel)",
   "language": "python",
   "name": "python3"
  },
  "language_info": {
   "codemirror_mode": {
    "name": "ipython",
    "version": 3
   },
   "file_extension": ".py",
   "mimetype": "text/x-python",
   "name": "python",
   "nbconvert_exporter": "python",
   "pygments_lexer": "ipython3",
   "version": "3.12.4"
  }
 },
 "nbformat": 4,
 "nbformat_minor": 5
}
