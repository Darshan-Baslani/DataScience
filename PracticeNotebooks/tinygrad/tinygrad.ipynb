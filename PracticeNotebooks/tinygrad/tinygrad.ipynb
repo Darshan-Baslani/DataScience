{
 "cells": [
  {
   "cell_type": "code",
   "execution_count": 1,
   "id": "8c29d611-524f-481f-bbf0-1e304c17b2d8",
   "metadata": {},
   "outputs": [],
   "source": [
    "import tinygrad\n",
    "from tinygrad import Tensor"
   ]
  },
  {
   "cell_type": "code",
   "execution_count": 2,
   "id": "4a4ad27d-5a0b-4775-b8f8-77cd7a616e03",
   "metadata": {},
   "outputs": [],
   "source": [
    "import torch"
   ]
  },
  {
   "cell_type": "code",
   "execution_count": 3,
   "id": "3628f01e-e1a9-484f-bc6e-54cf513d146a",
   "metadata": {},
   "outputs": [],
   "source": [
    "t1 = Tensor([1, 2, 3, 4, 5])\n",
    "t2 = torch.Tensor([1, 2, 3, 4, 5])"
   ]
  },
  {
   "cell_type": "code",
   "execution_count": 4,
   "id": "c49e4c56-5766-46c2-a6bf-309c57630fff",
   "metadata": {},
   "outputs": [
    {
     "data": {
      "text/plain": [
       "(5,)"
      ]
     },
     "execution_count": 4,
     "metadata": {},
     "output_type": "execute_result"
    }
   ],
   "source": [
    "t1.shape"
   ]
  },
  {
   "cell_type": "code",
   "execution_count": 5,
   "id": "ebf731f2-7cfb-4905-bf18-80d63394959f",
   "metadata": {},
   "outputs": [
    {
     "name": "stdout",
     "output_type": "stream",
     "text": [
      "[<Tensor <LB CLANG (2,) int ShapeTracker(views=(View(shape=(2,), strides=(0,), offset=0, mask=None, contiguous=False),))> on CLANG with grad None>, <Tensor <LB CLANG (2,) int ShapeTracker(views=(View(shape=(2,), strides=(0,), offset=0, mask=None, contiguous=False),))> on CLANG with grad None>]\n",
      "[[5 5]\n",
      " [5 5]]\n"
     ]
    }
   ],
   "source": [
    "print(list(Tensor.full((2,2), 5)))\n",
    "print(Tensor.full((2,2), 5).numpy())"
   ]
  },
  {
   "cell_type": "code",
   "execution_count": 6,
   "id": "e6e9c1e2-b1de-44be-a9c8-50b4d0118ff0",
   "metadata": {},
   "outputs": [
    {
     "data": {
      "text/plain": [
       "(<Tensor <LB CLANG (5,) int (<MetaOps.COPY: 3>, None)> on CLANG with grad None>,\n",
       " tensor([1., 2., 3., 4., 5.]))"
      ]
     },
     "execution_count": 6,
     "metadata": {},
     "output_type": "execute_result"
    }
   ],
   "source": [
    "t1, t2"
   ]
  },
  {
   "cell_type": "code",
   "execution_count": 7,
   "id": "08d529ca-d731-4af9-8b75-6229eb8e83cf",
   "metadata": {},
   "outputs": [
    {
     "data": {
      "text/plain": [
       "<Tensor <LB CLANG (5,) int (<BinaryOps.ADD: 1>, None)> on CLANG with grad None>"
      ]
     },
     "execution_count": 7,
     "metadata": {},
     "output_type": "execute_result"
    }
   ],
   "source": [
    "t1 + 1"
   ]
  },
  {
   "cell_type": "code",
   "execution_count": 8,
   "id": "38bc717b-bd7f-4bb8-873d-da0062a5577c",
   "metadata": {},
   "outputs": [
    {
     "data": {
      "text/plain": [
       "array([1, 2, 3, 4, 5], dtype=int32)"
      ]
     },
     "execution_count": 8,
     "metadata": {},
     "output_type": "execute_result"
    }
   ],
   "source": [
    "t1.numpy()"
   ]
  },
  {
   "cell_type": "code",
   "execution_count": 9,
   "id": "a40bd74e-3f6c-4b8d-8018-9c5e0c485557",
   "metadata": {},
   "outputs": [],
   "source": [
    "import tinygrad.nn as nn"
   ]
  },
  {
   "cell_type": "code",
   "execution_count": 10,
   "id": "dd10ba9b-f04a-4ecc-b736-c373de140089",
   "metadata": {},
   "outputs": [],
   "source": [
    "class TinyNet:\n",
    "    def __init__(self):\n",
    "        self.layer1 = nn.Linear(784, 128)\n",
    "        self.layer2 = nn.Linear(128, 10)\n",
    "    def __call__(self, X:Tensor):\n",
    "        X = self.layer1(X).leakyrelu()\n",
    "        X = self.layer2(X).log_softmax()\n",
    "        return X"
   ]
  },
  {
   "cell_type": "code",
   "execution_count": 11,
   "id": "06ca0bfc-3f2e-41ea-8942-11c339f1d566",
   "metadata": {},
   "outputs": [
    {
     "data": {
      "text/plain": [
       "<__main__.TinyNet at 0x77e0e3ca7dc0>"
      ]
     },
     "execution_count": 11,
     "metadata": {},
     "output_type": "execute_result"
    }
   ],
   "source": [
    "net = TinyNet()\n",
    "net"
   ]
  },
  {
   "cell_type": "code",
   "execution_count": 12,
   "id": "b40f8303-e9ed-4aef-8fcb-2360621b886a",
   "metadata": {},
   "outputs": [
    {
     "data": {
      "text/plain": [
       "[<Tensor <LB CLANG (128, 784) float (<BinaryOps.ADD: 1>, None)> on CLANG with grad None>,\n",
       " <Tensor <LB CLANG (128,) float (<BinaryOps.ADD: 1>, None)> on CLANG with grad None>,\n",
       " <Tensor <LB CLANG (10, 128) float (<BinaryOps.ADD: 1>, None)> on CLANG with grad None>,\n",
       " <Tensor <LB CLANG (10,) float (<BinaryOps.ADD: 1>, None)> on CLANG with grad None>]"
      ]
     },
     "execution_count": 12,
     "metadata": {},
     "output_type": "execute_result"
    }
   ],
   "source": [
    "from tinygrad.nn.state import get_parameters\n",
    "get_parameters(net)"
   ]
  },
  {
   "cell_type": "code",
   "execution_count": 13,
   "id": "3f6b3a91-84ba-4fb3-a046-67439a000676",
   "metadata": {},
   "outputs": [
    {
     "ename": "ModuleNotFoundError",
     "evalue": "No module named 'extra'",
     "output_type": "error",
     "traceback": [
      "\u001b[0;31m---------------------------------------------------------------------------\u001b[0m",
      "\u001b[0;31mModuleNotFoundError\u001b[0m                       Traceback (most recent call last)",
      "Cell \u001b[0;32mIn[13], line 1\u001b[0m\n\u001b[0;32m----> 1\u001b[0m \u001b[38;5;28;01mfrom\u001b[39;00m \u001b[38;5;21;01mextra\u001b[39;00m\u001b[38;5;21;01m.\u001b[39;00m\u001b[38;5;21;01mdatasets\u001b[39;00m \u001b[38;5;28;01mimport\u001b[39;00m fetch_mnist\n\u001b[1;32m      2\u001b[0m \u001b[38;5;28;01mimport\u001b[39;00m \u001b[38;5;21;01mnumpy\u001b[39;00m \u001b[38;5;28;01mas\u001b[39;00m \u001b[38;5;21;01mnp\u001b[39;00m\n",
      "\u001b[0;31mModuleNotFoundError\u001b[0m: No module named 'extra'"
     ]
    }
   ],
   "source": [
    "from extra.datasets import fetch_mnist\n",
    "import numpy as np"
   ]
  },
  {
   "cell_type": "code",
   "execution_count": null,
   "id": "a8503120-8a7e-405f-a2b7-136533a6ecf5",
   "metadata": {},
   "outputs": [],
   "source": [
    "X_train, Y_train, X_test, Y_test = fetch_mnist()"
   ]
  },
  {
   "cell_type": "code",
   "execution_count": null,
   "id": "ff950b8d-5d54-490f-a73d-8a9ebbe7c4d9",
   "metadata": {},
   "outputs": [],
   "source": [
    "from tinygrad.nn.optim import SGD\n",
    "opt = SGD(get_parameters(net), lr=3e-4)\n",
    "\n",
    "with Tensor.train():\n",
    "  for step in range(100):\n",
    "    # random sample a batch\n",
    "    samp = np.random.randint(0, X_train.shape[0], size=(64))\n",
    "    batch = Tensor(X_train[samp], requires_grad=False)\n",
    "    # get the corresponding labels\n",
    "    labels = Tensor(Y_train[samp])\n",
    "\n",
    "    # forward pass\n",
    "    out = net(batch)\n",
    "\n",
    "    # compute loss\n",
    "    # loss = sparse_categorical_crossentropy(out, labels)\n",
    "    loss = out.sparse_categorical_crossentropy(labels)\n",
    "\n",
    "    # zero gradients\n",
    "    opt.zero_grad()\n",
    "\n",
    "    # backward pass\n",
    "    loss.backward()\n",
    "\n",
    "    # update parameters\n",
    "    opt.step()\n",
    "\n",
    "    # calculate accuracy\n",
    "    pred = out.argmax(axis=-1)\n",
    "    acc = (pred == labels).mean()\n",
    "\n",
    "    if step % 100 == 0:\n",
    "      print(f\"Step {step+1} | Loss: {loss.numpy()} | Accuracy: {acc.numpy()}\")"
   ]
  },
  {
   "cell_type": "code",
   "execution_count": null,
   "id": "3f255671-c3ae-4047-8902-9102d9b400a3",
   "metadata": {},
   "outputs": [],
   "source": [
    "from tinygrad.helpers import Timing\n",
    "with Timing(\"Time: \"):\n",
    "  avg_acc = 0\n",
    "  for step in range(1000):\n",
    "    # random sample a batch\n",
    "    samp = np.random.randint(0, X_test.shape[0], size=(64))\n",
    "    batch = Tensor(X_test[samp], requires_grad=False)\n",
    "    # get the corresponding labels\n",
    "    labels = Y_test[samp]\n",
    "\n",
    "    # forward pass\n",
    "    out = net(batch)\n",
    "\n",
    "    # calculate accuracy\n",
    "    pred = out.argmax(axis=-1).numpy()\n",
    "    avg_acc += (pred == labels).mean()\n",
    "  print(f\"Test Accuracy: {avg_acc / 1000}\")"
   ]
  },
  {
   "cell_type": "code",
   "execution_count": null,
   "id": "228f2498-916d-4264-981a-bb583b206b95",
   "metadata": {},
   "outputs": [],
   "source": [
    "from tinygrad.nn.state import safe_save, safe_load, get_state_dict, load_state_dict\n",
    "\n",
    "# first we need the state dict of our model\n",
    "state_dict = get_state_dict(net)\n",
    "print(state_dict)\n",
    "print(\"-------------------------------------\")\n",
    "\n",
    "# then we can just save it to a file\n",
    "safe_save(state_dict, \"model.safetensors\")\n",
    "\n",
    "# and load it back in\n",
    "state_dict = safe_load(\"model.safetensors\")\n",
    "print(state_dict)\n",
    "print(\"-------------------------------------\")\n",
    "load_state_dict(net, state_dict)"
   ]
  },
  {
   "cell_type": "code",
   "execution_count": null,
   "id": "e76c2331-5163-49d3-82aa-49ed2f20671d",
   "metadata": {},
   "outputs": [],
   "source": [
    "state_dict"
   ]
  },
  {
   "cell_type": "code",
   "execution_count": null,
   "id": "958d8e0e-f5e0-465a-a0a5-595a3671ecf0",
   "metadata": {},
   "outputs": [],
   "source": [
    "t1.dtype.vec(2)"
   ]
  },
  {
   "cell_type": "code",
   "execution_count": null,
   "id": "6c1e11bb-085e-4b20-8f5d-eb5281ad4235",
   "metadata": {},
   "outputs": [],
   "source": [
    "t1.dtype.__repr__(), t1.dtype, t1.dtype.scalar()"
   ]
  },
  {
   "cell_type": "code",
   "execution_count": null,
   "id": "3e3f45f6-3c4c-432c-b20a-28385fc7975f",
   "metadata": {},
   "outputs": [],
   "source": [
    "t1 = t1.float()\n",
    "t1.numpy()"
   ]
  },
  {
   "cell_type": "code",
   "execution_count": null,
   "id": "8b09386b-fe89-4151-b67a-4762f803204a",
   "metadata": {},
   "outputs": [],
   "source": [
    "t1.dtype.vec(5), t1.dtype.scalar()"
   ]
  },
  {
   "cell_type": "code",
   "execution_count": null,
   "id": "ef5bca40-3fc7-4d37-948f-92f5da3e267c",
   "metadata": {},
   "outputs": [],
   "source": [
    "t1.is_floating_point()"
   ]
  },
  {
   "cell_type": "code",
   "execution_count": null,
   "id": "541cf239-f81f-4439-a358-a5216adc8d89",
   "metadata": {},
   "outputs": [],
   "source": [
    "from tinygrad import dtypes"
   ]
  },
  {
   "cell_type": "code",
   "execution_count": null,
   "id": "d0f8d217-a3fb-4fff-a473-a3ef968cf340",
   "metadata": {},
   "outputs": [],
   "source": [
    "t01 = Tensor(1.)\n",
    "dtypes.is_int(t01.dtype)"
   ]
  },
  {
   "cell_type": "code",
   "execution_count": null,
   "id": "13df6ecb-3931-4516-87b0-8d15ffb24623",
   "metadata": {},
   "outputs": [],
   "source": [
    "t01, t01.numpy()"
   ]
  },
  {
   "cell_type": "code",
   "execution_count": null,
   "id": "0713c6a9-222b-45e0-9cce-1ab881b0934d",
   "metadata": {},
   "outputs": [],
   "source": [
    "t1.dtype.scalar()"
   ]
  },
  {
   "cell_type": "code",
   "execution_count": null,
   "id": "45632067-1586-49e0-b3ff-62d1a13c5b5c",
   "metadata": {},
   "outputs": [],
   "source": [
    "dtypes.finfo(t01.dtype)"
   ]
  },
  {
   "cell_type": "markdown",
   "id": "7017b08f-e610-4096-ba96-e36484268b9c",
   "metadata": {},
   "source": [
    "# Broadcasting"
   ]
  },
  {
   "cell_type": "code",
   "execution_count": 14,
   "id": "8ff52d23-9ac9-4379-8c42-defaaeab30cd",
   "metadata": {},
   "outputs": [],
   "source": [
    "import tinygrad\n",
    "from tinygrad import Tensor\n",
    "import torch\n",
    "import numpy as np"
   ]
  },
  {
   "cell_type": "code",
   "execution_count": 15,
   "id": "64d3d561-41b8-405f-8464-4dd05fe74a46",
   "metadata": {},
   "outputs": [],
   "source": [
    "ex1 = [1.,2.,3.]\n",
    "ex2 = [2.]\n",
    "t1 = Tensor(ex1)\n",
    "t2 = Tensor(ex2)\n",
    "t01 = torch.Tensor(ex1)\n",
    "t02 = torch.Tensor(ex2)\n",
    "n1 = np.array(ex1)\n",
    "n2 = np.array(ex2)"
   ]
  },
  {
   "cell_type": "code",
   "execution_count": 16,
   "id": "286d27c8-aadc-4de8-ab06-8f8914cfe646",
   "metadata": {},
   "outputs": [
    {
     "data": {
      "text/plain": [
       "(array([2., 4., 6.], dtype=float32), tensor([2., 4., 6.]), array([2., 4., 6.]))"
      ]
     },
     "execution_count": 16,
     "metadata": {},
     "output_type": "execute_result"
    }
   ],
   "source": [
    "(t1*t2).numpy(), t01*t02, n1*n2"
   ]
  },
  {
   "cell_type": "code",
   "execution_count": 17,
   "id": "89eb704d-585f-4b04-b340-fd9236ce5f41",
   "metadata": {},
   "outputs": [
    {
     "data": {
      "text/plain": [
       "(array([[ 2.,  4.,  6.],\n",
       "        [ 8., 10., 12.],\n",
       "        [14., 16., 18.]], dtype=float32),\n",
       " tensor([[ 2.,  4.,  6.],\n",
       "         [ 8., 10., 12.],\n",
       "         [14., 16., 18.]]),\n",
       " array([[ 2.,  4.,  6.],\n",
       "        [ 8., 10., 12.],\n",
       "        [14., 16., 18.]]))"
      ]
     },
     "execution_count": 17,
     "metadata": {},
     "output_type": "execute_result"
    }
   ],
   "source": [
    "ex1 = [[1.,2.,3.],\n",
    "      [4.,5.,6.],\n",
    "      [7.,8.,9.]]\n",
    "ex2 = [2.]\n",
    "t1 = Tensor(ex1)\n",
    "t2 = Tensor(ex2)\n",
    "t01 = torch.Tensor(ex1)\n",
    "t02 = torch.Tensor(ex2)\n",
    "n1 = np.array(ex1)\n",
    "n2 = np.array(ex2)\n",
    "\n",
    "(t1*t2).numpy(), t01*t02, n1*n2"
   ]
  },
  {
   "cell_type": "code",
   "execution_count": 18,
   "id": "25e44e5f-8088-4f13-add2-1c5168c96e94",
   "metadata": {},
   "outputs": [
    {
     "data": {
      "text/plain": [
       "(array([[ 1.,  4.,  9.],\n",
       "        [ 4., 10., 18.],\n",
       "        [ 7., 16., 27.]], dtype=float32),\n",
       " tensor([[ 1.,  4.,  9.],\n",
       "         [ 4., 10., 18.],\n",
       "         [ 7., 16., 27.]]),\n",
       " array([[ 1.,  4.,  9.],\n",
       "        [ 4., 10., 18.],\n",
       "        [ 7., 16., 27.]]))"
      ]
     },
     "execution_count": 18,
     "metadata": {},
     "output_type": "execute_result"
    }
   ],
   "source": [
    "ex1 = [[1.,2.,3.],\n",
    "      [4.,5.,6.],\n",
    "      [7.,8.,9.]]\n",
    "ex2 = [1.,2.,3.]\n",
    "t1 = Tensor(ex1)\n",
    "t2 = Tensor(ex2)\n",
    "t01 = torch.Tensor(ex1)\n",
    "t02 = torch.Tensor(ex2)\n",
    "n1 = np.array(ex1)\n",
    "n2 = np.array(ex2)\n",
    "\n",
    "(t1*t2).numpy(), t01*t02, n1*n2"
   ]
  },
  {
   "cell_type": "code",
   "execution_count": 19,
   "id": "90f8080f-1e1b-498a-aad7-612cdcd69271",
   "metadata": {},
   "outputs": [
    {
     "data": {
      "text/plain": [
       "(array([[ 4.,  4.,  6.],\n",
       "        [ 8., 10., 12.],\n",
       "        [21., 24., 27.]], dtype=float32),\n",
       " tensor([[ 4.,  4.,  6.],\n",
       "         [ 8., 10., 12.],\n",
       "         [21., 24., 27.]]),\n",
       " array([[ 4.,  4.,  6.],\n",
       "        [ 8., 10., 12.],\n",
       "        [21., 24., 27.]]))"
      ]
     },
     "execution_count": 19,
     "metadata": {},
     "output_type": "execute_result"
    }
   ],
   "source": [
    "ex1 = [[2.,2.,3.],\n",
    "      [4.,5.,6.],\n",
    "      [7.,8.,9.]]\n",
    "ex2 = [[2],\n",
    "      [2],\n",
    "        [3]]\n",
    "t1 = Tensor(ex1)\n",
    "t2 = Tensor(ex2)\n",
    "t01 = torch.Tensor(ex1)\n",
    "t02 = torch.Tensor(ex2)\n",
    "n1 = np.array(ex1)\n",
    "n2 = np.array(ex2)\n",
    "\n",
    "(t1*t2).numpy(), t01*t02, n1*n2"
   ]
  },
  {
   "cell_type": "code",
   "execution_count": 20,
   "id": "2664badb-f054-4b08-b72c-61579c43386c",
   "metadata": {},
   "outputs": [
    {
     "data": {
      "text/plain": [
       "(array([[ 4.,  2.,  3.],\n",
       "        [ 8.,  5.,  6.],\n",
       "        [14.,  8.,  9.]], dtype=float32),\n",
       " tensor([[ 4.,  2.,  3.],\n",
       "         [ 8.,  5.,  6.],\n",
       "         [14.,  8.,  9.]]),\n",
       " array([[ 4.,  2.,  3.],\n",
       "        [ 8.,  5.,  6.],\n",
       "        [14.,  8.,  9.]]))"
      ]
     },
     "execution_count": 20,
     "metadata": {},
     "output_type": "execute_result"
    }
   ],
   "source": [
    "ex1 = [[2.,2.,3.],\n",
    "      [4.,5.,6.],\n",
    "      [7.,8.,9.]]\n",
    "ex2 = [2,1,1]\n",
    "t1 = Tensor(ex1)\n",
    "t2 = Tensor(ex2)\n",
    "t01 = torch.Tensor(ex1)\n",
    "t02 = torch.Tensor(ex2)\n",
    "n1 = np.array(ex1)\n",
    "n2 = np.array(ex2)\n",
    "\n",
    "(t1*t2).numpy(), t01*t02, n1*n2"
   ]
  },
  {
   "cell_type": "code",
   "execution_count": 21,
   "id": "4cab2ead-fb89-431b-b3d6-2b47b90d80cc",
   "metadata": {},
   "outputs": [
    {
     "data": {
      "text/plain": [
       "tensor([[0, 1],\n",
       "        [2, 3]])"
      ]
     },
     "execution_count": 21,
     "metadata": {},
     "output_type": "execute_result"
    }
   ],
   "source": [
    "torch.arange(4).view(-1,2)"
   ]
  },
  {
   "cell_type": "code",
   "execution_count": 22,
   "id": "5faca12b-4737-4ad0-bf87-8c30baaecf4f",
   "metadata": {},
   "outputs": [
    {
     "data": {
      "text/plain": [
       "array([[0, 1],\n",
       "       [2, 3]], dtype=int32)"
      ]
     },
     "execution_count": 22,
     "metadata": {},
     "output_type": "execute_result"
    }
   ],
   "source": [
    "Tensor.arange(4).view(-1,2).numpy()"
   ]
  },
  {
   "cell_type": "code",
   "execution_count": 23,
   "id": "76b633eb-9fb8-42fc-a040-7766ffc4bd96",
   "metadata": {},
   "outputs": [
    {
     "data": {
      "text/plain": [
       "(tensor([[0, 1, 2]]),\n",
       " tensor([[0],\n",
       "         [1]]))"
      ]
     },
     "execution_count": 23,
     "metadata": {},
     "output_type": "execute_result"
    }
   ],
   "source": [
    "tx = torch.arange(3).view(1, 3)\n",
    "ty = torch.arange(2).view(2, 1)\n",
    "tx,ty"
   ]
  },
  {
   "cell_type": "code",
   "execution_count": 24,
   "id": "bef3d4ad-c92c-4106-8043-a8b0b535dc03",
   "metadata": {},
   "outputs": [
    {
     "data": {
      "text/plain": [
       "(tensor([[0, 1, 2],\n",
       "         [0, 1, 2]]),\n",
       " tensor([[0, 0, 0],\n",
       "         [1, 1, 1]]))"
      ]
     },
     "execution_count": 24,
     "metadata": {},
     "output_type": "execute_result"
    }
   ],
   "source": [
    "ta, tb = torch.broadcast_tensors(tx, ty) \n",
    "ta, tb"
   ]
  },
  {
   "cell_type": "code",
   "execution_count": 25,
   "id": "d711bc29-00d8-4b11-873b-3e122687385f",
   "metadata": {},
   "outputs": [
    {
     "data": {
      "text/plain": [
       "array([False])"
      ]
     },
     "execution_count": 25,
     "metadata": {},
     "output_type": "execute_result"
    }
   ],
   "source": [
    "Tensor([False]).numpy()"
   ]
  },
  {
   "cell_type": "markdown",
   "id": "57d2fcd8-869e-4c16-9998-dae7fb586db4",
   "metadata": {},
   "source": [
    "# Kernel fusion: How dot product operations work?"
   ]
  },
  {
   "cell_type": "code",
   "execution_count": 26,
   "id": "51598c37-2bcd-4b39-a6c2-1f8e8aea0fdb",
   "metadata": {},
   "outputs": [
    {
     "name": "stdout",
     "output_type": "stream",
     "text": [
      "env: DEBUG=5\n",
      "env: NOOPT=1\n"
     ]
    }
   ],
   "source": [
    "%set_env DEBUG=5\n",
    "%set_env NOOPT=1"
   ]
  },
  {
   "cell_type": "code",
   "execution_count": 27,
   "id": "b94ccde1-7fc5-4540-a86c-7fcec478dcb0",
   "metadata": {},
   "outputs": [],
   "source": [
    "import tinygrad\n",
    "from tinygrad import Tensor"
   ]
  },
  {
   "cell_type": "code",
   "execution_count": 46,
   "id": "98dad3b7-58cc-4120-91bc-5fb5b66ec23b",
   "metadata": {},
   "outputs": [
    {
     "name": "stdout",
     "output_type": "stream",
     "text": [
      "11\n"
     ]
    }
   ],
   "source": [
    "a = Tensor([1,2])\n",
    "b = Tensor([3,4])\n",
    "at = torch.Tensor(a.numpy())\n",
    "bt = torch.Tensor(b.numpy())\n",
    "res = a.dot(b).numpy()\n",
    "print(res)"
   ]
  },
  {
   "cell_type": "code",
   "execution_count": 32,
   "id": "57f482b5-53d8-462b-97db-05552b2e9165",
   "metadata": {},
   "outputs": [
    {
     "ename": "AttributeError",
     "evalue": "type object 'Tensor' has no attribute 'rearrange'",
     "output_type": "error",
     "traceback": [
      "\u001b[0;31m---------------------------------------------------------------------------\u001b[0m",
      "\u001b[0;31mAttributeError\u001b[0m                            Traceback (most recent call last)",
      "Cell \u001b[0;32mIn[32], line 2\u001b[0m\n\u001b[1;32m      1\u001b[0m x \u001b[38;5;241m=\u001b[39m Tensor([[\u001b[38;5;241m1\u001b[39m, \u001b[38;5;241m2\u001b[39m], [\u001b[38;5;241m3\u001b[39m, \u001b[38;5;241m4\u001b[39m]])\n\u001b[0;32m----> 2\u001b[0m \u001b[38;5;28mprint\u001b[39m(\u001b[43mTensor\u001b[49m\u001b[38;5;241;43m.\u001b[39;49m\u001b[43mrearrange\u001b[49m(x, \u001b[38;5;124m\"\u001b[39m\u001b[38;5;124mbatch channel -> (batch channel)\u001b[39m\u001b[38;5;124m\"\u001b[39m)\u001b[38;5;241m.\u001b[39mnumpy())\n",
      "\u001b[0;31mAttributeError\u001b[0m: type object 'Tensor' has no attribute 'rearrange'"
     ]
    }
   ],
   "source": [
    "x = Tensor([[1, 2], [3, 4]])\n",
    "print(Tensor.rearrange(x, \"batch channel -> (batch channel)\").numpy())"
   ]
  },
  {
   "cell_type": "code",
   "execution_count": 37,
   "id": "4eb67363-881f-4498-8dc4-43b2d972a04f",
   "metadata": {},
   "outputs": [
    {
     "data": {
      "text/plain": [
       "(dtypes.int, dtypes._int3, dtypes.int)"
      ]
     },
     "execution_count": 37,
     "metadata": {},
     "output_type": "execute_result"
    }
   ],
   "source": [
    "a.dtype.scalar(), a.dtype.vec(3), a.dtype"
   ]
  },
  {
   "cell_type": "code",
   "execution_count": 43,
   "id": "9d39f323-b2e7-4cc9-9939-3e24a5c71aec",
   "metadata": {},
   "outputs": [
    {
     "data": {
      "text/plain": [
       "True"
      ]
     },
     "execution_count": 43,
     "metadata": {},
     "output_type": "execute_result"
    }
   ],
   "source": [
    "from tinygrad import dtypes\n",
    "dtypes.int == a.dtype.scalar()"
   ]
  },
  {
   "cell_type": "code",
   "execution_count": 50,
   "id": "24e18090-ccb4-425f-8eb9-224c7ebfa995",
   "metadata": {},
   "outputs": [
    {
     "data": {
      "text/plain": [
       "(1, 1)"
      ]
     },
     "execution_count": 50,
     "metadata": {},
     "output_type": "execute_result"
    }
   ],
   "source": [
    "a = Tensor([2,4])\n",
    "a.dtype.count, b.dtype.count"
   ]
  },
  {
   "cell_type": "code",
   "execution_count": 52,
   "id": "b375b65d-d99a-4e51-bc8f-2dd44d7c91fa",
   "metadata": {},
   "outputs": [
    {
     "data": {
      "text/plain": [
       "'i'"
      ]
     },
     "execution_count": 52,
     "metadata": {},
     "output_type": "execute_result"
    }
   ],
   "source": [
    "a.dtype.fmt"
   ]
  },
  {
   "cell_type": "code",
   "execution_count": null,
   "id": "00046220-3e43-41f5-8852-9c6a3ee0b37c",
   "metadata": {},
   "outputs": [],
   "source": []
  }
 ],
 "metadata": {
  "kernelspec": {
   "display_name": "Python 3 (ipykernel)",
   "language": "python",
   "name": "python3"
  },
  "language_info": {
   "codemirror_mode": {
    "name": "ipython",
    "version": 3
   },
   "file_extension": ".py",
   "mimetype": "text/x-python",
   "name": "python",
   "nbconvert_exporter": "python",
   "pygments_lexer": "ipython3",
   "version": "3.10.14"
  }
 },
 "nbformat": 4,
 "nbformat_minor": 5
}
