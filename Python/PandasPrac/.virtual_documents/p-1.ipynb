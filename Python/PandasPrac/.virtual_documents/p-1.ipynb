import pandas as pd


titanic = pd.read_csv('titanic.csv')
titanic.head()





titanic[['Sex','Age']].groupby('Sex').mean()



