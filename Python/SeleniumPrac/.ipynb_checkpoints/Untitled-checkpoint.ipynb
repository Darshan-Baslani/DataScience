{
 "cells": [
  {
   "cell_type": "markdown",
   "id": "b7949cba-3e0a-4c28-b47a-8587e51cc43f",
   "metadata": {},
   "source": [
    "WhatsApp Bot"
   ]
  },
  {
   "cell_type": "code",
   "execution_count": 58,
   "id": "9bbf9881-fb3c-49f7-8842-bf196677eedb",
   "metadata": {
    "tags": []
   },
   "outputs": [],
   "source": [
    "from selenium import webdriver\n",
    "from selenium.webdriver.common.by import By\n",
    "from selenium.webdriver.common.keys import Keys\n",
    "import time"
   ]
  },
  {
   "cell_type": "code",
   "execution_count": 59,
   "id": "4dff90f6-0d1c-43bf-8d03-1bf5539bf7c9",
   "metadata": {
    "tags": []
   },
   "outputs": [],
   "source": [
    "driver = webdriver.Firefox()"
   ]
  },
  {
   "cell_type": "code",
   "execution_count": 60,
   "id": "2754ab27-174d-4450-99c3-04f160a642ee",
   "metadata": {
    "tags": []
   },
   "outputs": [],
   "source": [
    "driver.get('https://web.whatsapp.com')"
   ]
  },
  {
   "cell_type": "code",
   "execution_count": 68,
   "id": "79dc759b-fc87-49b2-a748-fb38ebeafabe",
   "metadata": {
    "tags": []
   },
   "outputs": [],
   "source": [
    "search = driver.find_element(By.XPATH,'/html/body/div[1]/div/div/div[4]/div/div[1]/div/div/div[2]/div/div[1]')\n",
    "time.sleep(0.5)\n",
    "search.clear()\n",
    "search.send_keys('hippo')\n",
    "time.sleep(0.5)\n",
    "search.send_keys(Keys.ENTER)\n",
    "search.send_keys(Keys.ENTER)"
   ]
  },
  {
   "cell_type": "code",
   "execution_count": null,
   "id": "8c89b774-da80-48ee-b5db-32fade437bbb",
   "metadata": {},
   "outputs": [],
   "source": []
  }
 ],
 "metadata": {
  "kernelspec": {
   "display_name": "Python 3 (ipykernel)",
   "language": "python",
   "name": "python3"
  },
  "language_info": {
   "codemirror_mode": {
    "name": "ipython",
    "version": 3
   },
   "file_extension": ".py",
   "mimetype": "text/x-python",
   "name": "python",
   "nbconvert_exporter": "python",
   "pygments_lexer": "ipython3",
   "version": "3.11.3"
  }
 },
 "nbformat": 4,
 "nbformat_minor": 5
}
