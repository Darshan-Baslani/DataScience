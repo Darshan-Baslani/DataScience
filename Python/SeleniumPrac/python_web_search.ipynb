{
 "cells": [
  {
   "cell_type": "code",
   "execution_count": 1,
   "id": "ba60ae64-66f7-4159-93e8-88d15a287fd9",
   "metadata": {
    "tags": []
   },
   "outputs": [],
   "source": [
    "from selenium import webdriver\n",
    "from selenium.webdriver.common.keys import Keys\n",
    "from selenium.webdriver.common.by import By"
   ]
  },
  {
   "cell_type": "code",
   "execution_count": 2,
   "id": "ca4b4ee0-fcca-410e-9a36-e71813aa9099",
   "metadata": {
    "tags": []
   },
   "outputs": [],
   "source": [
    "obj = webdriver.Firefox()"
   ]
  },
  {
   "cell_type": "code",
   "execution_count": 3,
   "id": "3dab69b1-20f6-4787-bf2b-8322ba9fde09",
   "metadata": {
    "tags": []
   },
   "outputs": [],
   "source": [
    "obj.get('https://www.python.org')"
   ]
  },
  {
   "cell_type": "code",
   "execution_count": 4,
   "id": "e7cb1b26-aa0a-4470-be6c-dceed39d5727",
   "metadata": {
    "tags": []
   },
   "outputs": [],
   "source": [
    "search = obj.find_element(By.NAME, 'q')\n",
    "search.send_keys('Darshan')\n",
    "search.send_keys(Keys.ENTER)"
   ]
  },
  {
   "cell_type": "code",
   "execution_count": null,
   "id": "7d3357ab-a1ad-49a5-a18d-254f2079c8af",
   "metadata": {},
   "outputs": [],
   "source": []
  }
 ],
 "metadata": {
  "kernelspec": {
   "display_name": "Python 3 (ipykernel)",
   "language": "python",
   "name": "python3"
  },
  "language_info": {
   "codemirror_mode": {
    "name": "ipython",
    "version": 3
   },
   "file_extension": ".py",
   "mimetype": "text/x-python",
   "name": "python",
   "nbconvert_exporter": "python",
   "pygments_lexer": "ipython3",
   "version": "3.11.3"
  }
 },
 "nbformat": 4,
 "nbformat_minor": 5
}
