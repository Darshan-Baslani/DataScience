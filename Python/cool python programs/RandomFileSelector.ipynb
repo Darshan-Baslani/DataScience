import random
import os

path = 'E:\Anime\AttackOnTitan'
# changing directory
os.chdir(path)

folder_name = random.choice(os.listdir(path))

season = str(os.path.realpath(folder_name))
os.chdir(season)
episode = random.choice(os.listdir(season))

print('Enjoy!')

#play the file

os.system("start " + episode)
