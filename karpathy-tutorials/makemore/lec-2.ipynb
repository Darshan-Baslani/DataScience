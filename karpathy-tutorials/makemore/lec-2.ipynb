{
 "cells": [
  {
   "cell_type": "code",
   "execution_count": 1,
   "id": "acb908e8-68d8-4a7f-b372-bd9bd186c7c2",
   "metadata": {},
   "outputs": [],
   "source": [
    "# paper : https://www.jmlr.org/papers/volume3/bengio03a/bengio03a.pdf"
   ]
  },
  {
   "cell_type": "code",
   "execution_count": 2,
   "id": "605b97d4-ec85-40b8-8b69-ef296e3e9235",
   "metadata": {},
   "outputs": [],
   "source": [
    "import torch\n",
    "import torch.nn.functional as F\n",
    "import matplotlib.pyplot as plt\n",
    "%matplotlib inline"
   ]
  },
  {
   "cell_type": "code",
   "execution_count": 3,
   "id": "21927b32-86b0-4ed1-9271-08c6f8ae124a",
   "metadata": {},
   "outputs": [
    {
     "data": {
      "text/plain": [
       "['emma', 'olivia', 'ava', 'isabella', 'sophia']"
      ]
     },
     "execution_count": 3,
     "metadata": {},
     "output_type": "execute_result"
    }
   ],
   "source": [
    "words = open(\"names.txt\", \"r\", encoding=\"utf-8\").read().splitlines()\n",
    "words[:5]"
   ]
  },
  {
   "cell_type": "code",
   "execution_count": 4,
   "id": "32286965-3d7d-444a-be6e-cd63b9090e6f",
   "metadata": {},
   "outputs": [
    {
     "data": {
      "text/plain": [
       "32033"
      ]
     },
     "execution_count": 4,
     "metadata": {},
     "output_type": "execute_result"
    }
   ],
   "source": [
    "len(words)"
   ]
  },
  {
   "cell_type": "code",
   "execution_count": 5,
   "id": "f2b67ed7-7cc9-4cb4-8338-07992932e48d",
   "metadata": {},
   "outputs": [
    {
     "name": "stdout",
     "output_type": "stream",
     "text": [
      "{1: 'a', 2: 'b', 3: 'c', 4: 'd', 5: 'e', 6: 'f', 7: 'g', 8: 'h', 9: 'i', 10: 'j', 11: 'k', 12: 'l', 13: 'm', 14: 'n', 15: 'o', 16: 'p', 17: 'q', 18: 'r', 19: 's', 20: 't', 21: 'u', 22: 'v', 23: 'w', 24: 'x', 25: 'y', 26: 'z', 0: '.'}\n"
     ]
    }
   ],
   "source": [
    "chars = sorted(list(set(''.join(words))))\n",
    "stoi = {s:i+1 for i,s in enumerate(chars)}\n",
    "stoi['.'] = 0\n",
    "itos = {i:s for s,i in stoi.items()}\n",
    "print(itos)"
   ]
  },
  {
   "cell_type": "code",
   "execution_count": 6,
   "id": "b9ccb006-64bf-4ba4-b93a-6b505186c238",
   "metadata": {},
   "outputs": [],
   "source": [
    "# building the dataset\n",
    "X = []\n",
    "Y = []\n",
    "block_size = 3 # context length : no. of chars go in at a time to predict next one\n",
    "\n",
    "for word in words:\n",
    "    # print(word)\n",
    "    context = [0] * block_size\n",
    "    for ch in word + '.':\n",
    "        ix = stoi[ch]\n",
    "        X.append(context)\n",
    "        Y.append(ix)\n",
    "        # print(''.join(itos[i] for i in context), '-->', itos[ix])\n",
    "        context = context[1:] + [ix]\n",
    "\n",
    "X = torch.tensor(X)\n",
    "Y = torch.tensor(Y)"
   ]
  },
  {
   "cell_type": "code",
   "execution_count": 7,
   "id": "7bc31455-b236-4599-8a40-f8192ff17a03",
   "metadata": {},
   "outputs": [
    {
     "name": "stdout",
     "output_type": "stream",
     "text": [
      "torch.Size([182625, 3]) torch.Size([182625])\n",
      "torch.Size([22655, 3]) torch.Size([22655])\n",
      "torch.Size([22866, 3]) torch.Size([22866])\n"
     ]
    }
   ],
   "source": [
    "# build the dataset\n",
    "block_size = 3 # context length: how many characters do we take to predict the next one?\n",
    "\n",
    "def build_dataset(words):  \n",
    "  X, Y = [], []\n",
    "  for w in words:\n",
    "\n",
    "    #print(w)\n",
    "    context = [0] * block_size\n",
    "    for ch in w + '.':\n",
    "      ix = stoi[ch]\n",
    "      X.append(context)\n",
    "      Y.append(ix)\n",
    "      #print(''.join(itos[i] for i in context), '--->', itos[ix])\n",
    "      context = context[1:] + [ix] # crop and append\n",
    "\n",
    "  X = torch.tensor(X)\n",
    "  Y = torch.tensor(Y)\n",
    "  print(X.shape, Y.shape)\n",
    "  return X, Y\n",
    "\n",
    "import random\n",
    "random.seed(42)\n",
    "random.shuffle(words)\n",
    "n1 = int(0.8*len(words))\n",
    "n2 = int(0.9*len(words))\n",
    "\n",
    "Xtr, Ytr = build_dataset(words[:n1])\n",
    "Xdev, Ydev = build_dataset(words[n1:n2])\n",
    "Xte, Yte = build_dataset(words[n2:])"
   ]
  },
  {
   "cell_type": "code",
   "execution_count": 8,
   "id": "a845eb2e-9414-4a5b-84a7-d27c3e0078d7",
   "metadata": {},
   "outputs": [
    {
     "data": {
      "text/plain": [
       "(torch.Size([228146, 3]), torch.Size([228146]), torch.int64, torch.int64)"
      ]
     },
     "execution_count": 8,
     "metadata": {},
     "output_type": "execute_result"
    }
   ],
   "source": [
    "X.shape, Y.shape, X.dtype, Y.dtype"
   ]
  },
  {
   "cell_type": "code",
   "execution_count": 9,
   "id": "4ce8face-124a-4fa3-a2dd-01e13bd06cb3",
   "metadata": {},
   "outputs": [
    {
     "name": "stdout",
     "output_type": "stream",
     "text": [
      "tensor([[ 0,  0,  0],\n",
      "        [ 0,  0,  5],\n",
      "        [ 0,  5, 13],\n",
      "        ...,\n",
      "        [26, 26, 25],\n",
      "        [26, 25, 26],\n",
      "        [25, 26, 24]])\n"
     ]
    }
   ],
   "source": [
    "print(X)"
   ]
  },
  {
   "cell_type": "code",
   "execution_count": 10,
   "id": "89db3db5-d3b1-4eaf-ad04-323d0fb88369",
   "metadata": {},
   "outputs": [
    {
     "data": {
      "text/plain": [
       "(torch.Size([228146, 3, 2]), torch.Size([27, 2]), torch.Size([228146, 3]))"
      ]
     },
     "execution_count": 10,
     "metadata": {},
     "output_type": "execute_result"
    }
   ],
   "source": [
    "# creating embeddings\n",
    "C = torch.randn((27,2))\n",
    "# each element in X(i.e 1,2,..27 wil get mapped to C by following operation)\n",
    "emb = C[X] # have to look deeper into this\n",
    "emb.shape, C.shape, X.shape"
   ]
  },
  {
   "cell_type": "code",
   "execution_count": 11,
   "id": "a9a44ee7-778d-475d-b8fe-0a96b51df184",
   "metadata": {},
   "outputs": [
    {
     "data": {
      "text/plain": [
       "tensor([12,  9, 22])"
      ]
     },
     "execution_count": 11,
     "metadata": {},
     "output_type": "execute_result"
    }
   ],
   "source": [
    "X[9]"
   ]
  },
  {
   "cell_type": "code",
   "execution_count": 12,
   "id": "db0ecd24-c956-449d-a852-6552c8545486",
   "metadata": {},
   "outputs": [
    {
     "data": {
      "text/plain": [
       "(tensor([[ 0.5180,  0.7619],\n",
       "         [-0.7660, -0.1527],\n",
       "         [-1.4532,  0.5346],\n",
       "         [ 0.3929, -0.7426],\n",
       "         [ 1.1155, -1.2942],\n",
       "         [ 0.1230,  0.1202],\n",
       "         [ 2.6891,  0.5051],\n",
       "         [-1.4468, -0.2872],\n",
       "         [ 0.2504, -0.3553],\n",
       "         [-0.0805,  0.4510],\n",
       "         [ 0.2424, -1.3988],\n",
       "         [ 0.1719, -1.0280],\n",
       "         [-0.0066, -0.4935],\n",
       "         [ 0.1193,  0.1054],\n",
       "         [ 0.0396,  0.2922],\n",
       "         [-1.0308, -0.4755],\n",
       "         [-0.6562, -0.8151],\n",
       "         [ 0.6963,  1.1134],\n",
       "         [-0.9225, -0.5202],\n",
       "         [-0.3870,  0.2156],\n",
       "         [-0.0205,  1.7891],\n",
       "         [-0.4322,  0.7770],\n",
       "         [-0.6737,  0.0496],\n",
       "         [-0.9988,  0.6579],\n",
       "         [-0.7668,  0.0292],\n",
       "         [-0.0418, -0.0619],\n",
       "         [-1.1571, -0.4720]]),\n",
       " tensor([[-0.0066, -0.4935],\n",
       "         [-0.0805,  0.4510],\n",
       "         [-0.6737,  0.0496]]))"
      ]
     },
     "execution_count": 12,
     "metadata": {},
     "output_type": "execute_result"
    }
   ],
   "source": [
    "# for the 5th word\n",
    "C, emb[9]"
   ]
  },
  {
   "cell_type": "code",
   "execution_count": 13,
   "id": "eff7037d-6008-4005-ade6-57f38cfd6d02",
   "metadata": {},
   "outputs": [],
   "source": [
    "# our neural net will take on 6 values, why? -> emb[x] or look up\n",
    "W1 = torch.randn((6,100))\n",
    "b1 = torch.randn(100)"
   ]
  },
  {
   "cell_type": "code",
   "execution_count": 14,
   "id": "9931241b-143d-40da-b780-4547bf4dd631",
   "metadata": {},
   "outputs": [
    {
     "ename": "RuntimeError",
     "evalue": "mat1 and mat2 shapes cannot be multiplied (684438x2 and 6x100)",
     "output_type": "error",
     "traceback": [
      "\u001b[0;31m---------------------------------------------------------------------------\u001b[0m",
      "\u001b[0;31mRuntimeError\u001b[0m                              Traceback (most recent call last)",
      "Cell \u001b[0;32mIn[14], line 1\u001b[0m\n\u001b[0;32m----> 1\u001b[0m \u001b[43memb\u001b[49m\u001b[43m \u001b[49m\u001b[38;5;241;43m@\u001b[39;49m\u001b[43m \u001b[49m\u001b[43mW1\u001b[49m \u001b[38;5;241m+\u001b[39m b1\n",
      "\u001b[0;31mRuntimeError\u001b[0m: mat1 and mat2 shapes cannot be multiplied (684438x2 and 6x100)"
     ]
    }
   ],
   "source": [
    "emb @ W1 + b1"
   ]
  },
  {
   "cell_type": "code",
   "execution_count": 21,
   "id": "ee33c299-dc29-4d70-a851-0556e4fdef1e",
   "metadata": {},
   "outputs": [
    {
     "data": {
      "text/plain": [
       "tensor([[ 1.7757,  0.1086,  0.1695,  ...,  5.2078,  0.0576, -3.6471],\n",
       "        [ 1.7710, -0.2541,  1.2587,  ...,  3.9832,  0.1624, -2.7899],\n",
       "        [ 1.3498,  0.9215,  0.9537,  ...,  1.9975,  0.0509, -1.2906],\n",
       "        ...,\n",
       "        [-2.8550,  4.3762, -3.1155,  ..., -3.7247,  0.4099,  3.0122],\n",
       "        [-1.2282,  3.0251,  0.0493,  ..., -3.8696,  0.6428,  2.2624],\n",
       "        [-2.9430,  2.5492,  0.2341,  ..., -4.1112, -0.7236,  2.2522]])"
      ]
     },
     "execution_count": 21,
     "metadata": {},
     "output_type": "execute_result"
    }
   ],
   "source": [
    "# emb.view((32, 6)) @ W1\n",
    "# or we can go like: (to not take static values in parameters)\n",
    "emb.view((-1, 6)) @ W1 + b1"
   ]
  },
  {
   "cell_type": "code",
   "execution_count": 22,
   "id": "3e9af5ee-0ad5-4e88-9db6-cfaf3a2974a7",
   "metadata": {},
   "outputs": [
    {
     "data": {
      "text/plain": [
       "torch.Size([228146, 100])"
      ]
     },
     "execution_count": 22,
     "metadata": {},
     "output_type": "execute_result"
    }
   ],
   "source": [
    "h = emb.view((-1, 6)) @ W1 + b1\n",
    "h.shape"
   ]
  },
  {
   "cell_type": "code",
   "execution_count": 23,
   "id": "9903de27-2fa4-488b-95ed-c6f394ca55fa",
   "metadata": {},
   "outputs": [],
   "source": [
    "W2 = torch.randn((100, 27))\n",
    "b2 = torch.randn(27)"
   ]
  },
  {
   "cell_type": "code",
   "execution_count": 24,
   "id": "19e2665b-e3e0-4f19-9ff0-e166028584c1",
   "metadata": {},
   "outputs": [],
   "source": [
    "logits = h @ W2 + b2"
   ]
  },
  {
   "cell_type": "code",
   "execution_count": 25,
   "id": "c75c2901-88a6-4938-a392-c6503a476c1e",
   "metadata": {},
   "outputs": [
    {
     "data": {
      "text/plain": [
       "torch.Size([228146, 27])"
      ]
     },
     "execution_count": 25,
     "metadata": {},
     "output_type": "execute_result"
    }
   ],
   "source": [
    "logits.shape"
   ]
  },
  {
   "cell_type": "code",
   "execution_count": 26,
   "id": "46d53ff6-978f-4527-ae61-4916d4aa8225",
   "metadata": {},
   "outputs": [
    {
     "data": {
      "text/plain": [
       "torch.Size([228146, 27])"
      ]
     },
     "execution_count": 26,
     "metadata": {},
     "output_type": "execute_result"
    }
   ],
   "source": [
    "# softmax\n",
    "counts = logits.exp()\n",
    "prob = counts / counts.sum(1, keepdims=True)\n",
    "prob.shape"
   ]
  },
  {
   "cell_type": "code",
   "execution_count": 27,
   "id": "79f48546-28a5-4770-a1a0-08d9c997a916",
   "metadata": {},
   "outputs": [
    {
     "data": {
      "text/plain": [
       "tensor(1.)"
      ]
     },
     "execution_count": 27,
     "metadata": {},
     "output_type": "execute_result"
    }
   ],
   "source": [
    "prob[0].sum()"
   ]
  },
  {
   "cell_type": "code",
   "execution_count": 28,
   "id": "275da35a-1454-433d-8a2a-59f80fa99aaa",
   "metadata": {},
   "outputs": [
    {
     "data": {
      "text/plain": [
       "tensor([2.2132e-35, 3.0865e-12, 5.4371e-12,  ..., 8.0868e-19, 1.8489e-24,\n",
       "        3.2681e-19])"
      ]
     },
     "execution_count": 28,
     "metadata": {},
     "output_type": "execute_result"
    }
   ],
   "source": [
    "prob[torch.arange(X.shape[0]), Y]"
   ]
  },
  {
   "cell_type": "code",
   "execution_count": 29,
   "id": "f6e3ccb5-2467-430b-a99d-9831317b99b9",
   "metadata": {},
   "outputs": [
    {
     "data": {
      "text/plain": [
       "tensor(nan)"
      ]
     },
     "execution_count": 29,
     "metadata": {},
     "output_type": "execute_result"
    }
   ],
   "source": [
    "loss = -prob[torch.arange(X.shape[0]), Y].log().mean()\n",
    "loss"
   ]
  },
  {
   "cell_type": "code",
   "execution_count": 30,
   "id": "902c5de9-5a71-4d89-82e9-c96b1be04692",
   "metadata": {},
   "outputs": [
    {
     "data": {
      "text/plain": [
       "tensor([ 0,  1,  2,  3,  4,  5,  6,  7,  8,  9, 10, 11, 12, 13, 14, 15, 16, 17,\n",
       "        18, 19, 20, 21, 22, 23, 24, 25, 26, 27, 28, 29, 30, 31])"
      ]
     },
     "execution_count": 30,
     "metadata": {},
     "output_type": "execute_result"
    }
   ],
   "source": [
    "torch.arange(32)"
   ]
  },
  {
   "cell_type": "code",
   "execution_count": 31,
   "id": "e68eefe0-e527-48b5-beef-84b2ebe3de19",
   "metadata": {},
   "outputs": [
    {
     "data": {
      "text/plain": [
       "(tensor([ 5, 13, 13,  ..., 26, 24,  0]), torch.Size([228146]))"
      ]
     },
     "execution_count": 31,
     "metadata": {},
     "output_type": "execute_result"
    }
   ],
   "source": [
    "Y, Y.shape"
   ]
  },
  {
   "cell_type": "code",
   "execution_count": 32,
   "id": "220eb8f0-ecaa-42c0-a5c5-478338bc4b38",
   "metadata": {},
   "outputs": [],
   "source": [
    "## better version of above code:"
   ]
  },
  {
   "cell_type": "code",
   "execution_count": 33,
   "id": "8f1c07ed-8344-48c9-b815-dc60c4157e7f",
   "metadata": {},
   "outputs": [],
   "source": [
    "g = torch.Generator().manual_seed(2147483647) # for reproducibility\n",
    "C = torch.randn((27, 2), generator=g)\n",
    "W1 = torch.randn((6, 100), generator=g)\n",
    "b1 = torch.randn(100, generator=g)\n",
    "W2 = torch.randn((100, 27), generator=g)\n",
    "b2 = torch.randn(27, generator=g)\n",
    "parameters = [C, W1, b1, W2, b2]"
   ]
  },
  {
   "cell_type": "code",
   "execution_count": 34,
   "id": "da79d67a-0aac-48cf-853c-0172dc8ae87e",
   "metadata": {},
   "outputs": [
    {
     "data": {
      "text/plain": [
       "3481"
      ]
     },
     "execution_count": 34,
     "metadata": {},
     "output_type": "execute_result"
    }
   ],
   "source": [
    "sum(p.nelement() for p in parameters) # number of parameters in total"
   ]
  },
  {
   "cell_type": "code",
   "execution_count": 35,
   "id": "f52b207b-80db-4d66-82d6-9328d18e0b44",
   "metadata": {},
   "outputs": [],
   "source": [
    "for p in parameters:\n",
    "    p.requires_grad = True"
   ]
  },
  {
   "cell_type": "code",
   "execution_count": 36,
   "id": "b38b8cc2-a8a4-46ae-ba28-ff01b018b1d6",
   "metadata": {},
   "outputs": [],
   "source": [
    "lre = torch.linspace(-3, 0, 1000)\n",
    "lrs = 10**lre"
   ]
  },
  {
   "cell_type": "code",
   "execution_count": 44,
   "id": "350b339d-58b4-451a-995a-ddebcebabe8d",
   "metadata": {},
   "outputs": [
    {
     "name": "stdout",
     "output_type": "stream",
     "text": [
      "2.8774335384368896\n"
     ]
    }
   ],
   "source": [
    "lri = []\n",
    "losses = []\n",
    "\n",
    "for i in range(500000):\n",
    "    # mini batch\n",
    "    ix = torch.randint(0, Xtr.shape[0], (32,))\n",
    "    # Forward Pass: \n",
    "    emb = C[Xtr[ix]]\n",
    "    h = torch.tanh(emb.view((-1, 6)) @ W1 + b1)\n",
    "    logits = h @ W2 + b2\n",
    "    ## calculating loss with cross entropy instead of doing it manually,\n",
    "    # using softmax like above\n",
    "    loss = F.cross_entropy(logits, Ytr[ix])\n",
    "    \n",
    "    # Backward Pass:\n",
    "    for p in parameters:\n",
    "        p.grad = None\n",
    "    loss.backward()\n",
    "    \n",
    "    #Update\n",
    "    for p in parameters:\n",
    "        p.data += -lrs[i%1000] * p.grad\n",
    "\n",
    "    # tracking results\n",
    "    lri.append(lrs[i%1000])\n",
    "    losses.append(loss.item())\n",
    "print(loss.item())"
   ]
  },
  {
   "cell_type": "code",
   "execution_count": 45,
   "id": "261c7686-8677-4588-9759-f91fe08bf5f8",
   "metadata": {},
   "outputs": [
    {
     "data": {
      "text/plain": [
       "tensor([4, 1, 0, 3, 2, 3, 3, 2, 0, 3, 4, 0, 0, 4, 1, 2, 3, 4, 4, 0, 2, 4, 4, 4,\n",
       "        0, 2, 4, 1, 1, 0, 2, 1])"
      ]
     },
     "execution_count": 45,
     "metadata": {},
     "output_type": "execute_result"
    }
   ],
   "source": [
    "# random batches\n",
    "torch.randint(0,5, (32,))\n",
    "# we will do the same in training, but we will do it for 0 to X.shape[0]\n",
    "# so it will predict random element/char_pairs for training"
   ]
  },
  {
   "cell_type": "code",
   "execution_count": 46,
   "id": "9d131d7c-2daf-409f-8332-b03f9089d8f4",
   "metadata": {},
   "outputs": [
    {
     "data": {
      "text/plain": [
       "tensor(2.5619, grad_fn=<NllLossBackward0>)"
      ]
     },
     "execution_count": 46,
     "metadata": {},
     "output_type": "execute_result"
    }
   ],
   "source": [
    "# validation/dev loss\n",
    "emb = C[Xdev]\n",
    "h = torch.tanh(emb.view((-1, 6)) @ W1 + b1)\n",
    "logits = h @ W2 + b2\n",
    "loss = F.cross_entropy(logits, Ydev)\n",
    "loss"
   ]
  },
  {
   "cell_type": "code",
   "execution_count": 47,
   "id": "91616002-4e0b-4a8e-8d46-e8731c536c94",
   "metadata": {},
   "outputs": [
    {
     "data": {
      "text/plain": [
       "tensor(2.5571, grad_fn=<NllLossBackward0>)"
      ]
     },
     "execution_count": 47,
     "metadata": {},
     "output_type": "execute_result"
    }
   ],
   "source": [
    "# test loss\n",
    "emb = C[Xte]\n",
    "h = torch.tanh(emb.view((-1, 6)) @ W1 + b1)\n",
    "logits = h @ W2 + b2\n",
    "loss = F.cross_entropy(logits, Yte)\n",
    "loss"
   ]
  },
  {
   "cell_type": "code",
   "execution_count": 48,
   "id": "07cab220-1437-4481-81af-ab4dd496e035",
   "metadata": {},
   "outputs": [
    {
     "data": {
      "text/plain": [
       "[<matplotlib.lines.Line2D at 0x70d1df3fffd0>]"
      ]
     },
     "execution_count": 48,
     "metadata": {},
     "output_type": "execute_result"
    },
    {
     "data": {
      "image/png": "[encoded data removed]",
      "text/plain": [
       "<Figure size 640x480 with 1 Axes>"
      ]
     },
     "metadata": {},
     "output_type": "display_data"
    }
   ],
   "source": [
    "plt.plot(lri, losses)"
   ]
  },
  {
   "cell_type": "code",
   "execution_count": 49,
   "id": "f453f5d1-f9f9-4b56-9da5-6d8002ca1b70",
   "metadata": {},
   "outputs": [
    {
     "data": {
      "image/png": "[encoded data removed]",
      "text/plain": [
       "<Figure size 800x800 with 1 Axes>"
      ]
     },
     "metadata": {},
     "output_type": "display_data"
    }
   ],
   "source": [
    "# visualize dimensions 0 and 1 of the embedding matrix C for all characters\n",
    "plt.figure(figsize=(8,8))\n",
    "plt.scatter(C[:,0].data, C[:,1].data, s=200)\n",
    "for i in range(C.shape[0]):\n",
    "    plt.text(C[i,0].item(), C[i,1].item(), itos[i], ha=\"center\", va=\"center\", color='white')\n",
    "plt.grid('minor')"
   ]
  },
  {
   "cell_type": "code",
   "execution_count": 50,
   "id": "af794d78-cb2e-48fb-8a32-66afd8490581",
   "metadata": {},
   "outputs": [
    {
     "name": "stdout",
     "output_type": "stream",
     "text": [
      "mriahamyah.\n",
      "seel.\n",
      "mahayla.\n",
      "rethantendramiel.\n",
      "camdielie.\n",
      "saylaelleighaestanaraelyn.\n",
      "mamarami.\n",
      "sadbergahiraestin.\n",
      "jamiel.\n",
      "ranteulanustencen.\n",
      "cyielamela.\n",
      "maejamannyda.\n",
      "hamina.\n",
      "yahsufaurahlee.\n",
      "ramat.\n",
      "camivaaostenohdinnentoenah.\n",
      "zatie.\n",
      "samueyel.\n",
      "hararilina.\n",
      "iri.\n"
     ]
    }
   ],
   "source": [
    "# sample from the model\n",
    "g = torch.Generator().manual_seed(2147483647 + 10)\n",
    "\n",
    "for _ in range(20):\n",
    "    \n",
    "    out = []\n",
    "    context = [0] * block_size # initialize with all ...\n",
    "    while True:\n",
    "      emb = C[torch.tensor([context])] # (1,block_size,d)\n",
    "      h = torch.tanh(emb.view(1, -1) @ W1 + b1)\n",
    "      logits = h @ W2 + b2\n",
    "      probs = F.softmax(logits, dim=1)\n",
    "      ix = torch.multinomial(probs, num_samples=1, generator=g).item()\n",
    "      context = context[1:] + [ix]\n",
    "      out.append(ix)\n",
    "      if ix == 0:\n",
    "        break\n",
    "    \n",
    "    print(''.join(itos[i] for i in out))"
   ]
  },
  {
   "cell_type": "code",
   "execution_count": null,
   "id": "12543dfc-f34c-4d70-b6e7-d0c7747a7ea7",
   "metadata": {},
   "outputs": [],
   "source": []
  }
 ],
 "metadata": {
  "kernelspec": {
   "display_name": "Python 3 (ipykernel)",
   "language": "python",
   "name": "python3"
  },
  "language_info": {
   "codemirror_mode": {
    "name": "ipython",
    "version": 3
   },
   "file_extension": ".py",
   "mimetype": "text/x-python",
   "name": "python",
   "nbconvert_exporter": "python",
   "pygments_lexer": "ipython3",
   "version": "3.9.19"
  }
 },
 "nbformat": 4,
 "nbformat_minor": 5
}
