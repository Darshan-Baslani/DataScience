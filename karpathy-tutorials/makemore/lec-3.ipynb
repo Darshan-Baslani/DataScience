{
 "cells": [
  {
   "cell_type": "code",
   "execution_count": 1,
   "id": "443fb036-293a-4282-9eef-83d4904909d8",
   "metadata": {},
   "outputs": [],
   "source": [
    "import torch\n",
    "import torch.nn.functional as F\n",
    "import matplotlib.pyplot as plt # for making figures\n",
    "%matplotlib inline"
   ]
  },
  {
   "cell_type": "code",
   "execution_count": 2,
   "id": "f65a2825-477a-4d32-8063-bd12610919ce",
   "metadata": {},
   "outputs": [
    {
     "data": {
      "text/plain": [
       "['emma', 'olivia', 'ava', 'isabella', 'sophia', 'charlotte', 'mia', 'amelia']"
      ]
     },
     "execution_count": 2,
     "metadata": {},
     "output_type": "execute_result"
    }
   ],
   "source": [
    "# read in all the words\n",
    "words = open('names.txt', 'r').read().splitlines()\n",
    "words[:8]"
   ]
  },
  {
   "cell_type": "code",
   "execution_count": 3,
   "id": "6b823a54-2082-40c3-9b52-512f12c7e322",
   "metadata": {},
   "outputs": [
    {
     "data": {
      "text/plain": [
       "'emma\\nolivia\\nava\\nisabella\\nsophia\\ncharlotte\\nmia\\namelia\\nharper\\nevelyn\\nabigail\\nemily\\nelizabeth\\nmila\\nella\\navery\\nsofia\\ncamila\\naria\\nscarlett\\nvictoria\\nmadison\\nluna\\ngrace\\nchloe\\npenelope\\nlayla\\nriley\\nzoey\\nnora\\nlily\\neleanor\\nhannah\\nlillian\\naddison\\naubrey\\nellie\\nstella\\nnatalie\\nzoe\\nleah\\nhazel\\nviolet\\naurora\\nsavannah\\naudrey\\nbrooklyn\\nbella\\nclaire\\nskylar\\nlucy\\npaisley\\neverly\\nanna\\ncaroline\\nnova\\ngenesis\\nemilia\\nkennedy\\nsamantha\\nmaya\\nwillow\\nkinsley\\nnaomi\\naaliyah\\nelena\\nsarah\\nariana\\nallison\\ngabriella\\nalice\\nmadelyn\\ncora\\nru'"
      ]
     },
     "execution_count": 3,
     "metadata": {},
     "output_type": "execute_result"
    }
   ],
   "source": [
    "open('names.txt', 'r').read()[:500]"
   ]
  },
  {
   "cell_type": "code",
   "execution_count": 4,
   "id": "62f90355-bab2-47c7-b471-3b0cac32983a",
   "metadata": {},
   "outputs": [
    {
     "data": {
      "text/plain": [
       "32033"
      ]
     },
     "execution_count": 4,
     "metadata": {},
     "output_type": "execute_result"
    }
   ],
   "source": [
    "len(words)"
   ]
  },
  {
   "cell_type": "code",
   "execution_count": 5,
   "id": "f914abb4-7497-4c6d-9424-04e17aa2d527",
   "metadata": {},
   "outputs": [
    {
     "name": "stdout",
     "output_type": "stream",
     "text": [
      "{'m', 'd', 'b', 'u', 'k', 'h', 'y', 'w', 't', 'o', 's', 'f', 'j', 'n', 'i', 'a', 'q', 'p', 'z', 'x', 'l', 'r', 'v', 'e', 'c', 'g'}\n"
     ]
    }
   ],
   "source": [
    "print(set(''.join(words)))"
   ]
  },
  {
   "cell_type": "code",
   "execution_count": 6,
   "id": "dd9132a0-2d6d-4a55-b212-6027504761ee",
   "metadata": {},
   "outputs": [
    {
     "name": "stdout",
     "output_type": "stream",
     "text": [
      "{1: 'a', 2: 'b', 3: 'c', 4: 'd', 5: 'e', 6: 'f', 7: 'g', 8: 'h', 9: 'i', 10: 'j', 11: 'k', 12: 'l', 13: 'm', 14: 'n', 15: 'o', 16: 'p', 17: 'q', 18: 'r', 19: 's', 20: 't', 21: 'u', 22: 'v', 23: 'w', 24: 'x', 25: 'y', 26: 'z', 0: '.'}\n",
      "27\n"
     ]
    }
   ],
   "source": [
    "# build the vocabulary of characters and mappings to/from integers\n",
    "chars = sorted(list(set(''.join(words))))\n",
    "stoi = {s:i+1 for i,s in enumerate(chars)}\n",
    "stoi['.'] = 0\n",
    "itos = {i:s for s,i in stoi.items()}\n",
    "vocab_size = len(itos)\n",
    "print(itos)\n",
    "print(vocab_size)"
   ]
  },
  {
   "cell_type": "code",
   "execution_count": 7,
   "id": "91d41bd0-0a41-49c2-9b52-cc5ad24f57ed",
   "metadata": {},
   "outputs": [
    {
     "data": {
      "text/plain": [
       "[0, 0, 0]"
      ]
     },
     "execution_count": 7,
     "metadata": {},
     "output_type": "execute_result"
    }
   ],
   "source": [
    "[0] * 3"
   ]
  },
  {
   "cell_type": "code",
   "execution_count": 8,
   "id": "ad7195b8-2cfb-48ef-a3d7-5af1b46a5a7a",
   "metadata": {},
   "outputs": [
    {
     "name": "stdout",
     "output_type": "stream",
     "text": [
      "torch.Size([182625, 3]) torch.Size([182625])\n",
      "torch.Size([22655, 3]) torch.Size([22655])\n",
      "torch.Size([22866, 3]) torch.Size([22866])\n"
     ]
    }
   ],
   "source": [
    "# build the dataset\n",
    "block_size = 3 # context length: how many characters do we take to predict the next one?\n",
    "\n",
    "def build_dataset(words):  \n",
    "  X, Y = [], []\n",
    "  \n",
    "  for w in words:\n",
    "    context = [0] * block_size\n",
    "    for ch in w + '.':\n",
    "      ix = stoi[ch]\n",
    "      X.append(context)\n",
    "      Y.append(ix)\n",
    "      context = context[1:] + [ix] # crop and append\n",
    "\n",
    "  X = torch.tensor(X)\n",
    "  Y = torch.tensor(Y)\n",
    "  print(X.shape, Y.shape)\n",
    "  return X, Y\n",
    "\n",
    "import random\n",
    "random.seed(42)\n",
    "random.shuffle(words)\n",
    "n1 = int(0.8*len(words))\n",
    "n2 = int(0.9*len(words))\n",
    "\n",
    "Xtr,  Ytr  = build_dataset(words[:n1])     # 80%\n",
    "Xdev, Ydev = build_dataset(words[n1:n2])   # 10%\n",
    "Xte,  Yte  = build_dataset(words[n2:])     # 10%"
   ]
  },
  {
   "cell_type": "code",
   "execution_count": 9,
   "id": "fb0ed98f-060e-4424-8a7f-2c4dffbc1f3a",
   "metadata": {},
   "outputs": [
    {
     "name": "stdout",
     "output_type": "stream",
     "text": [
      "Total params:  12297\n"
     ]
    }
   ],
   "source": [
    "n_embd = 10 # no of dimensions each character will have after embedding\n",
    "n_hidden = 200 # no of neurons in the hidden layer\n",
    "\n",
    "g = torch.Generator().manual_seed(2147483647)\n",
    "C = torch.randn((vocab_size, n_embd), generator=g)\n",
    "W1 = torch.randn((n_embd*block_size, n_hidden), generator=g) * ((5/3) / (n_embd*block_size)**0.5) #* 0.2\n",
    "b1 = torch.randn(n_hidden, generator=g) * 0.01\n",
    "W2 = torch.randn((n_hidden, vocab_size), generator=g) * 0.001\n",
    "b2 = torch.randn(vocab_size, generator=g) * 0\n",
    "\n",
    "# the following prameters will allow backprop to control batch norm.\n",
    "bngain = torch.ones((1, n_hidden))\n",
    "bnbias = torch.zeros((1, n_hidden))\n",
    "\n",
    "parameters = [C, W1, b1, W2, b2, bngain, bnbias]\n",
    "print(\"Total params: \", sum(p.nelement() for p in parameters))\n",
    "for p in parameters:\n",
    "    p.requires_grad = True"
   ]
  },
  {
   "cell_type": "code",
   "execution_count": 10,
   "id": "d5643607-2d0e-408f-9f42-3bab688b0ba4",
   "metadata": {},
   "outputs": [
    {
     "data": {
      "text/plain": [
       "0.3042903097250923"
      ]
     },
     "execution_count": 10,
     "metadata": {},
     "output_type": "execute_result"
    }
   ],
   "source": [
    "# kaiming init\n",
    "((5/3) / (n_embd*block_size)**0.5)"
   ]
  },
  {
   "cell_type": "code",
   "execution_count": 12,
   "id": "afbb7a8f-f63c-4d70-95da-8bc914a2e541",
   "metadata": {},
   "outputs": [
    {
     "name": "stdout",
     "output_type": "stream",
     "text": [
      "0/200000   3.2974\n",
      "10000/200000   2.2039\n",
      "20000/200000   2.3172\n",
      "30000/200000   2.4374\n",
      "40000/200000   2.0127\n",
      "50000/200000   2.2896\n",
      "60000/200000   2.4485\n",
      "70000/200000   2.0918\n",
      "80000/200000   2.2562\n",
      "90000/200000   2.1923\n",
      "100000/200000   1.9478\n",
      "110000/200000   2.3251\n",
      "120000/200000   2.0012\n",
      "130000/200000   2.4648\n",
      "140000/200000   2.4478\n",
      "150000/200000   2.2452\n",
      "160000/200000   1.9925\n",
      "170000/200000   1.8927\n",
      "180000/200000   2.0509\n",
      "190000/200000   1.8600\n"
     ]
    }
   ],
   "source": [
    "max_steps = 200000\n",
    "batch_size = 32\n",
    "losses = []\n",
    "steps = []\n",
    "\n",
    "for i in range(max_steps):\n",
    "    # minibatch\n",
    "    ix = torch.randint(0, Xtr.shape[0], (batch_size,), generator = g)\n",
    "    Xb, Yb = Xtr[ix], Ytr[ix]\n",
    "    # forward pass\n",
    "    emb = C[Xb] # embedded the training data\n",
    "    embcat = emb.view(emb.shape[0], -1)\n",
    "    h_pre_act = embcat @ W1 + b1 # hidden layer + activation func.\n",
    "    # batch norm.\n",
    "    h_pre_act = bngain * ((h_pre_act - h_pre_act.mean(dim=0, keepdim=True)) / h_pre_act.std(dim=0, keepdim=True)) + bnbias\n",
    "    h_pre_act = h_pre_act\n",
    "    h = torch.tanh(h_pre_act)\n",
    "    logits = h @ W2 + b2 # output layer\n",
    "    loss = F.cross_entropy(logits, Yb)\n",
    "\n",
    "    # backprop\n",
    "    for p in parameters:\n",
    "        p.grad = None\n",
    "    loss.backward()\n",
    "\n",
    "    # updation\n",
    "    lr = 0.1 if i<100000 else 0.001\n",
    "    for p in parameters:\n",
    "        p.data += -lr * p.grad\n",
    "\n",
    "    # track stats\n",
    "    losses.append(loss.item())\n",
    "    steps.append(i)\n",
    "    if i%10000 == 0:\n",
    "        print(f\"{i}/{max_steps}   {loss.item():.4f}\")"
   ]
  },
  {
   "cell_type": "code",
   "execution_count": 20,
   "id": "d388704b-3ee9-4d70-9e7a-fe92df374334",
   "metadata": {},
   "outputs": [
    {
     "data": {
      "text/plain": [
       "tensor([[ 1.0822e+00,  1.7200e+00,  2.1314e-01,  ..., -1.5928e+00,\n",
       "          1.1259e+00,  1.0464e+00],\n",
       "        [ 1.1112e+00,  5.5031e-01, -9.5534e-01,  ..., -8.5557e-01,\n",
       "          2.3415e+00,  8.9456e-01],\n",
       "        [-3.0343e-01,  5.5340e-01, -1.6153e+00,  ...,  1.0895e+00,\n",
       "         -1.1870e+00, -9.6174e-01],\n",
       "        ...,\n",
       "        [-6.4712e-01, -6.6592e-01, -3.9149e-01,  ...,  3.4449e-01,\n",
       "         -2.4883e-03, -4.8940e-01],\n",
       "        [ 6.6776e-01,  2.9956e-01,  1.0306e+00,  ..., -3.6684e-01,\n",
       "         -5.9049e-01,  4.3854e-01],\n",
       "        [-5.0509e-01, -1.4733e-01, -3.1791e+00,  ...,  2.0311e-01,\n",
       "          4.8959e-01,  5.5848e-01]], grad_fn=<DivBackward0>)"
      ]
     },
     "execution_count": 20,
     "metadata": {},
     "output_type": "execute_result"
    }
   ],
   "source": [
    "# batch norm.\n",
    "((h_pre_act - h_pre_act.mean(dim=0, keepdim=True)) / h_pre_act.std(dim=0, keepdim=True))"
   ]
  },
  {
   "cell_type": "code",
   "execution_count": 13,
   "id": "dec3d61c-8168-4cb4-85e9-264c209745d5",
   "metadata": {},
   "outputs": [
    {
     "data": {
      "text/plain": [
       "(torch.Size([32, 30]),\n",
       " torch.Size([32, 3]),\n",
       " torch.Size([32, 3, 10]),\n",
       " torch.Size([30, 200]))"
      ]
     },
     "execution_count": 13,
     "metadata": {},
     "output_type": "execute_result"
    }
   ],
   "source": [
    "embcat = emb.view(emb.shape[0], -1) # concatination 32,3,10 -> 32,30\n",
    "embcat.shape, Xb.shape, emb.shape, W1.shape"
   ]
  },
  {
   "cell_type": "code",
   "execution_count": 14,
   "id": "97866375-8361-45df-980e-65729d26db4c",
   "metadata": {},
   "outputs": [
    {
     "data": {
      "image/png": "[encoded data removed]",
      "text/plain": [
       "<Figure size 640x480 with 1 Axes>"
      ]
     },
     "metadata": {},
     "output_type": "display_data"
    }
   ],
   "source": [
    "# checking values of h\n",
    "plt.hist(h.view(-1).tolist(), bins=50)\n",
    "plt.show()"
   ]
  },
  {
   "cell_type": "code",
   "execution_count": 15,
   "id": "9e7ea30f-7ce3-44ad-8c10-205e14d21907",
   "metadata": {},
   "outputs": [
    {
     "data": {
      "text/plain": [
       "<matplotlib.image.AxesImage at 0x7855081987d0>"
      ]
     },
     "execution_count": 15,
     "metadata": {},
     "output_type": "execute_result"
    },
    {
     "data": {
      "image/png": "[encoded data removed]",
      "text/plain": [
       "<Figure size 1800x1000 with 1 Axes>"
      ]
     },
     "metadata": {},
     "output_type": "display_data"
    }
   ],
   "source": [
    "plt.figure(figsize=(18,10))\n",
    "plt.imshow(h.abs() == 1.0, cmap='gray')"
   ]
  },
  {
   "cell_type": "code",
   "execution_count": 16,
   "id": "086fb404-f1d0-469b-a54e-0e317fbdd964",
   "metadata": {},
   "outputs": [
    {
     "data": {
      "text/plain": [
       "[<matplotlib.lines.Line2D at 0x7855081c7cb0>]"
      ]
     },
     "execution_count": 16,
     "metadata": {},
     "output_type": "execute_result"
    },
    {
     "data": {
      "image/png": "[encoded data removed]",
      "text/plain": [
       "<Figure size 640x480 with 1 Axes>"
      ]
     },
     "metadata": {},
     "output_type": "display_data"
    }
   ],
   "source": [
    "plt.plot(steps, losses)"
   ]
  },
  {
   "cell_type": "code",
   "execution_count": 17,
   "id": "15bd8cb8-b16b-404f-adc5-fb7d6ef16f7a",
   "metadata": {},
   "outputs": [
    {
     "name": "stdout",
     "output_type": "stream",
     "text": [
      "test  :  2.1082544326782227\n",
      "validation  :  2.1075103282928467\n"
     ]
    }
   ],
   "source": [
    "@torch.no_grad() # this decorator disables gradient tracking\n",
    "def split_loss(split):\n",
    "    x,y = {\n",
    "        'train' : (Xtr, Ytr),\n",
    "        'test' : (Xte, Yte),\n",
    "        'validation' : (Xdev, Ydev)\n",
    "    }[split]\n",
    "    emb = C[x]\n",
    "    embcat = emb.view(x.shape[0], -1) # concatination\n",
    "    h_pre_act = embcat @ W1 + b1\n",
    "    h_pre_act = bngain * ((h_pre_act - h_pre_act.mean(dim=0, keepdim=True)) / h_pre_act.std(dim=0, keepdim=True)) + bnbias\n",
    "    h = torch.tanh(h_pre_act)\n",
    "    logits = h @ W2 + b2\n",
    "    loss = F.cross_entropy(logits, y)\n",
    "    print(split, \" : \", loss.item())\n",
    "\n",
    "split_loss('test')\n",
    "split_loss('validation')"
   ]
  },
  {
   "cell_type": "code",
   "execution_count": 18,
   "id": "a4a49176-7552-4fb5-8b50-faf46301779e",
   "metadata": {},
   "outputs": [
    {
     "name": "stdout",
     "output_type": "stream",
     "text": [
      "debianayffigh.\n",
      "quslainyah.\n",
      "die.\n",
      "bdierrixell.\n",
      "sulipslanirthell.\n",
      "bububacklyssn.\n",
      "grachvishntbely.\n",
      "blvianayrdssaambryff.\n",
      "budaliffrinishbir.\n",
      "shanargunnishbrnnyushcgblllogrickllissannixtobbigh.\n",
      "lecsloltdya.\n",
      "dasgbyc.\n",
      "blgaerekslayrds.\n",
      "daldyn.\n",
      "bobbigalykagghmylissa.\n",
      "fumbdyo.\n",
      "fgrrykshntdy.\n",
      "viyamariyvangulds.\n",
      "dyybiandh.\n",
      "brianabdus.\n"
     ]
    }
   ],
   "source": [
    "# creating sample names\n",
    "g = torch.Generator()\n",
    "for _ in range(20):\n",
    "    out = []\n",
    "    context = [0] * block_size\n",
    "    while True:\n",
    "        # forward pass\n",
    "        emb = C[torch.tensor(context)]\n",
    "        h = torch.tanh(emb.view(1, -1) @ W1 + b1)\n",
    "        logits = h @ W2 + b2\n",
    "        probs = F.softmax(logits, dim=1)\n",
    "        # sample from the distribution\n",
    "        ix = torch.multinomial(probs, num_samples=1, replacement=True, generator=g).item()\n",
    "        # shift the context window and track the samples\n",
    "        context = context[1:] + [ix]\n",
    "        out.append(ix)        \n",
    "        # if ix = '.' then we break\n",
    "        if ix == 0:\n",
    "            break\n",
    "    print(''.join(itos[i] for i in out))"
   ]
  },
  {
   "cell_type": "code",
   "execution_count": null,
   "id": "fb9d302e-fcfa-4733-8a27-e137b77c882f",
   "metadata": {},
   "outputs": [],
   "source": []
  },
  {
   "cell_type": "code",
   "execution_count": null,
   "id": "61113234-13da-4bf2-865d-5ea421db720e",
   "metadata": {},
   "outputs": [],
   "source": []
  }
 ],
 "metadata": {
  "kernelspec": {
   "display_name": "Python 3 (ipykernel)",
   "language": "python",
   "name": "python3"
  },
  "language_info": {
   "codemirror_mode": {
    "name": "ipython",
    "version": 3
   },
   "file_extension": ".py",
   "mimetype": "text/x-python",
   "name": "python",
   "nbconvert_exporter": "python",
   "pygments_lexer": "ipython3",
   "version": "3.12.4"
  }
 },
 "nbformat": 4,
 "nbformat_minor": 5
}
