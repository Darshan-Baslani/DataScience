{
 "cells": [
  {
   "cell_type": "code",
   "execution_count": 1,
   "id": "3429458b-62e0-44a7-8114-2b7338f7f4cc",
   "metadata": {},
   "outputs": [],
   "source": [
    "import numpy as np\n",
    "import matplotlib.pyplot as plt\n",
    "import math\n",
    "import random\n",
    "%matplotlib inline"
   ]
  },
  {
   "cell_type": "code",
   "execution_count": 2,
   "id": "cb6eeb75-05eb-470d-aea3-38dcd1eb2608",
   "metadata": {},
   "outputs": [
    {
     "name": "stdout",
     "output_type": "stream",
     "text": [
      "2.0\n"
     ]
    }
   ],
   "source": [
    "a = 3.0\n",
    "b = -1.0\n",
    "c = 5.0\n",
    "d = a*b + c\n",
    "print(d)"
   ]
  },
  {
   "cell_type": "code",
   "execution_count": 3,
   "id": "f0102810-7000-468b-84c1-4e98cea6af22",
   "metadata": {},
   "outputs": [
    {
     "name": "stdout",
     "output_type": "stream",
     "text": [
      "Derivative of d with respect to a :  -1.0000000000065512\n"
     ]
    }
   ],
   "source": [
    "# Finding derivative of d with respect to a, b, c\n",
    "# the value of a, b, c gets increased by a number h\n",
    "h = 0.00001\n",
    "d1 = a*b + c\n",
    "a += h\n",
    "d2 = a*b + c\n",
    "print(\"Derivative of d with respect to a : \", (d2 - d1) / h)"
   ]
  },
  {
   "cell_type": "code",
   "execution_count": 4,
   "id": "3e992679-3d3c-48b5-b457-720c2dec08fd",
   "metadata": {},
   "outputs": [
    {
     "name": "stdout",
     "output_type": "stream",
     "text": [
      "Derivative of d with respect to b :  2.9999999999752442\n"
     ]
    }
   ],
   "source": [
    "a = 3.0\n",
    "d1 = a*b + c\n",
    "b += h\n",
    "d2 = a*b + c\n",
    "print(\"Derivative of d with respect to b : \", (d2 - d1) / h)"
   ]
  },
  {
   "cell_type": "code",
   "execution_count": 5,
   "id": "f243f859-e6a8-49e4-927a-cf4270f29027",
   "metadata": {},
   "outputs": [
    {
     "name": "stdout",
     "output_type": "stream",
     "text": [
      "Derivative of d with respect to c:  0.9999999999621422\n"
     ]
    }
   ],
   "source": [
    "b = -1.0\n",
    "d1 = a*b + c\n",
    "c += h\n",
    "d2 = a*b + c\n",
    "print(\"Derivative of d with respect to c: \", (d2 - d1) / h)"
   ]
  },
  {
   "cell_type": "markdown",
   "id": "68c11afc-48e1-4e82-b3de-508b8f8afed4",
   "metadata": {},
   "source": [
    "- All of the above results are derived from the formula to find derivatives, it also proves right the traditional mathematical way to find derivatives"
   ]
  },
  {
   "cell_type": "code",
   "execution_count": 9,
   "id": "87b577d4-0303-4f9b-9925-1a4a306d5a4b",
   "metadata": {},
   "outputs": [],
   "source": [
    "from graphviz import Digraph\n",
    "\n",
    "def trace(root):\n",
    "  # builds a set of all nodes and edges in a graph\n",
    "  nodes, edges = set(), set()\n",
    "  def build(v):\n",
    "    if v not in nodes:\n",
    "      nodes.add(v)\n",
    "      for child in v._prev:\n",
    "        edges.add((child, v))\n",
    "        build(child)\n",
    "  build(root)\n",
    "  return nodes, edges\n",
    "\n",
    "def draw_dot(root):\n",
    "  dot = Digraph(format='svg', graph_attr={'rankdir': 'LR'}) # LR = left to right\n",
    "  \n",
    "  nodes, edges = trace(root)\n",
    "  for n in nodes:\n",
    "    uid = str(id(n))\n",
    "    # for any value in the graph, create a rectangular ('record') node for it\n",
    "    dot.node(name = uid, label = \"{ %s | data %.4f | grad %.4f }\" % (n.label, n.data, n.grad), shape='record')\n",
    "    if n._op:\n",
    "      # if this value is a result of some operation, create an op node for it\n",
    "      dot.node(name = uid + n._op, label = n._op)\n",
    "      # and connect this node to it\n",
    "      dot.edge(uid + n._op, uid)\n",
    "\n",
    "  for n1, n2 in edges:\n",
    "    # connect n1 to the op node of n2\n",
    "    dot.edge(str(id(n1)), str(id(n2)) + n2._op)\n",
    "\n",
    "  return dot"
   ]
  },
  {
   "cell_type": "code",
   "execution_count": 10,
   "id": "e23f60ab-8c53-4907-8bc7-e0cd8be014f0",
   "metadata": {},
   "outputs": [],
   "source": [
    "class Value:\n",
    "    def __init__(self, data, _children=(), _op='', label=''):\n",
    "        self.data = data\n",
    "        self.grad = 0.0\n",
    "        self._prev = set(_children)\n",
    "        self._op = _op\n",
    "        self.label = label\n",
    "        self._backward = lambda : None\n",
    "        \n",
    "    def __repr__(self):\n",
    "        return f\"Value(data={self.data})\"\n",
    "        \n",
    "    def __add__(self, other):\n",
    "        other = other if isinstance(other, Value) else Value(other)\n",
    "        out = Value(self.data + other.data, (self, other), '+')\n",
    "\n",
    "        def _backward():\n",
    "            self.grad += 1.0 * out.grad\n",
    "            other.grad += 1.0 * out.grad\n",
    "        out._backward = _backward\n",
    "\n",
    "        return out         \n",
    "\n",
    "    def __radd__(self, other):\n",
    "        return self + other\n",
    "\n",
    "    def __sub__(self, other):\n",
    "        return self + (-other) \n",
    "\n",
    "    def __neg__(self):\n",
    "        return self * -1\n",
    "        \n",
    "    def __mul__(self, other):\n",
    "        other = other if isinstance(other, Value) else Value(other)\n",
    "        out = Value(self.data * other.data, (self, other), '*')\n",
    "\n",
    "        def _backward():\n",
    "            self.grad += other.data * out.grad\n",
    "            other.grad += self.data * out.grad\n",
    "        out._backward = _backward\n",
    "        return out\n",
    "\n",
    "    def __rmul__(self, other):\n",
    "        return self * other\n",
    "\n",
    "    def __truediv__(self, other):\n",
    "        return self * (other**-1)\n",
    "\n",
    "    def __pow__(self, other):\n",
    "        assert isinstance(other, (int, float)), \"Int and Float only\"\n",
    "        out = Value(self.data ** other, (self,), f\"**{other}\")\n",
    "\n",
    "        def _backward():\n",
    "            self.grad += other * (self.data ** (other-1)) * out.grad\n",
    "        out._backward = _backward\n",
    "        return out\n",
    "\n",
    "    def exp(self):\n",
    "        x = self.data\n",
    "        out = Value(math.exp(x), (self, ), 'exp')\n",
    "\n",
    "        def _backward():\n",
    "            self.grad += out.data * out.grad\n",
    "        self._backward = _backward\n",
    "        return out\n",
    "\n",
    "    def tanh(self):\n",
    "        x = self.data\n",
    "        tanh = (math.exp(2 * x) - 1) / (math.exp(2 * x) + 1)\n",
    "        out = Value(tanh, (self, ), \"tanh\")\n",
    "\n",
    "        def _backward():\n",
    "            self.grad = (1 - tanh**2) * out.grad\n",
    "        out._backward = _backward        \n",
    "        return out\n",
    "\n",
    "    def backward(self):      \n",
    "        topo = []\n",
    "        visited = set()\n",
    "        \n",
    "        def build_topo(v):\n",
    "            if v not in visited:\n",
    "                visited.add(v)\n",
    "                for child in v._prev:\n",
    "                    build_topo(child)\n",
    "                topo.append(v)\n",
    "        self.grad = 1.0\n",
    "        build_topo(self)        \n",
    "        for node in reversed(topo):\n",
    "            node._backward()"
   ]
  },
  {
   "cell_type": "code",
   "execution_count": 11,
   "id": "19e7398c-4159-4bee-9b18-5c68196e3176",
   "metadata": {},
   "outputs": [
    {
     "data": {
      "text/plain": [
       "Value(data=-34.0)"
      ]
     },
     "execution_count": 11,
     "metadata": {},
     "output_type": "execute_result"
    }
   ],
   "source": [
    "a = Value(10.0); a.label = 'a'\n",
    "b = Value(2.0); b.label = 'b'\n",
    "c = Value(-3.0); c.label = 'c'\n",
    "d = a*b; d.label = 'd'\n",
    "e = d+c; e.label = 'e'\n",
    "f = Value(-2.0); f.label = 'f'\n",
    "L = e*f; L.label = 'L'\n",
    "L"
   ]
  },
  {
   "cell_type": "code",
   "execution_count": 12,
   "id": "6c7416a4-c764-4680-8b1e-a85d2d321c2d",
   "metadata": {},
   "outputs": [
    {
     "data": {
      "image/svg+xml": [
       "<?xml version=\"1.0\" encoding=\"UTF-8\" standalone=\"no\"?>\n",
       "<!DOCTYPE svg PUBLIC \"-//W3C//DTD SVG 1.1//EN\"\n",
       " \"http://www.w3.org/Graphics/SVG/1.1/DTD/svg11.dtd\">\n",
       "<!-- Generated by graphviz version 12.1.1 (0)\n",
       " -->\n",
       "<!-- Pages: 1 -->\n",
       "<svg width=\"1343pt\" height=\"128pt\"\n",
       " viewBox=\"0.00 0.00 1343.00 128.00\" xmlns=\"http://www.w3.org/2000/svg\" xmlns:xlink=\"http://www.w3.org/1999/xlink\">\n",
       "<g id=\"graph0\" class=\"graph\" transform=\"scale(1 1) rotate(0) translate(4 124)\">\n",
       "<polygon fill=\"white\" stroke=\"none\" points=\"-4,4 -4,-124 1339,-124 1339,4 -4,4\"/>\n",
       "<!-- 136279582268032 -->\n",
       "<g id=\"node1\" class=\"node\">\n",
       "<title>136279582268032</title>\n",
       "<polygon fill=\"none\" stroke=\"black\" points=\"732,-82.5 732,-118.5 962.25,-118.5 962.25,-82.5 732,-82.5\"/>\n",
       "<text text-anchor=\"middle\" x=\"742.62\" y=\"-96.2\" font-family=\"Times,serif\" font-size=\"14.00\">f</text>\n",
       "<polyline fill=\"none\" stroke=\"black\" points=\"753.25,-83.25 753.25,-118.5\"/>\n",
       "<text text-anchor=\"middle\" x=\"806.25\" y=\"-96.2\" font-family=\"Times,serif\" font-size=\"14.00\">data &#45;2.0000</text>\n",
       "<polyline fill=\"none\" stroke=\"black\" points=\"859.25,-83.25 859.25,-118.5\"/>\n",
       "<text text-anchor=\"middle\" x=\"910.75\" y=\"-96.2\" font-family=\"Times,serif\" font-size=\"14.00\">grad 0.0000</text>\n",
       "</g>\n",
       "<!-- 136279583128928* -->\n",
       "<g id=\"node9\" class=\"node\">\n",
       "<title>136279583128928*</title>\n",
       "<ellipse fill=\"none\" stroke=\"black\" cx=\"1029\" cy=\"-72.5\" rx=\"27\" ry=\"18\"/>\n",
       "<text text-anchor=\"middle\" x=\"1029\" y=\"-67.83\" font-family=\"Times,serif\" font-size=\"14.00\">*</text>\n",
       "</g>\n",
       "<!-- 136279582268032&#45;&gt;136279583128928* -->\n",
       "<g id=\"edge4\" class=\"edge\">\n",
       "<title>136279582268032&#45;&gt;136279583128928*</title>\n",
       "<path fill=\"none\" stroke=\"black\" d=\"M962.55,-82.69C972.75,-81.1 982.49,-79.58 991.19,-78.23\"/>\n",
       "<polygon fill=\"black\" stroke=\"black\" points=\"991.53,-81.72 1000.87,-76.72 990.45,-74.8 991.53,-81.72\"/>\n",
       "</g>\n",
       "<!-- 136279583130288 -->\n",
       "<g id=\"node2\" class=\"node\">\n",
       "<title>136279583130288</title>\n",
       "<polygon fill=\"none\" stroke=\"black\" points=\"0,-83.5 0,-119.5 237.75,-119.5 237.75,-83.5 0,-83.5\"/>\n",
       "<text text-anchor=\"middle\" x=\"12.12\" y=\"-97.2\" font-family=\"Times,serif\" font-size=\"14.00\">a</text>\n",
       "<polyline fill=\"none\" stroke=\"black\" points=\"24.25,-84.25 24.25,-119.5\"/>\n",
       "<text text-anchor=\"middle\" x=\"79.5\" y=\"-97.2\" font-family=\"Times,serif\" font-size=\"14.00\">data 10.0000</text>\n",
       "<polyline fill=\"none\" stroke=\"black\" points=\"134.75,-84.25 134.75,-119.5\"/>\n",
       "<text text-anchor=\"middle\" x=\"186.25\" y=\"-97.2\" font-family=\"Times,serif\" font-size=\"14.00\">grad 0.0000</text>\n",
       "</g>\n",
       "<!-- 136279873823952* -->\n",
       "<g id=\"node4\" class=\"node\">\n",
       "<title>136279873823952*</title>\n",
       "<ellipse fill=\"none\" stroke=\"black\" cx=\"300.75\" cy=\"-73.5\" rx=\"27\" ry=\"18\"/>\n",
       "<text text-anchor=\"middle\" x=\"300.75\" y=\"-68.83\" font-family=\"Times,serif\" font-size=\"14.00\">*</text>\n",
       "</g>\n",
       "<!-- 136279583130288&#45;&gt;136279873823952* -->\n",
       "<g id=\"edge6\" class=\"edge\">\n",
       "<title>136279583130288&#45;&gt;136279873823952*</title>\n",
       "<path fill=\"none\" stroke=\"black\" d=\"M238.1,-83.1C246.85,-81.73 255.2,-80.43 262.77,-79.26\"/>\n",
       "<polygon fill=\"black\" stroke=\"black\" points=\"263.14,-82.74 272.48,-77.74 262.06,-75.82 263.14,-82.74\"/>\n",
       "</g>\n",
       "<!-- 136279873823952 -->\n",
       "<g id=\"node3\" class=\"node\">\n",
       "<title>136279873823952</title>\n",
       "<polygon fill=\"none\" stroke=\"black\" points=\"363.75,-55.5 363.75,-91.5 602.25,-91.5 602.25,-55.5 363.75,-55.5\"/>\n",
       "<text text-anchor=\"middle\" x=\"376.25\" y=\"-69.2\" font-family=\"Times,serif\" font-size=\"14.00\">d</text>\n",
       "<polyline fill=\"none\" stroke=\"black\" points=\"388.75,-56.25 388.75,-91.5\"/>\n",
       "<text text-anchor=\"middle\" x=\"444\" y=\"-69.2\" font-family=\"Times,serif\" font-size=\"14.00\">data 20.0000</text>\n",
       "<polyline fill=\"none\" stroke=\"black\" points=\"499.25,-56.25 499.25,-91.5\"/>\n",
       "<text text-anchor=\"middle\" x=\"550.75\" y=\"-69.2\" font-family=\"Times,serif\" font-size=\"14.00\">grad 0.0000</text>\n",
       "</g>\n",
       "<!-- 136279873818384+ -->\n",
       "<g id=\"node6\" class=\"node\">\n",
       "<title>136279873818384+</title>\n",
       "<ellipse fill=\"none\" stroke=\"black\" cx=\"665.25\" cy=\"-45.5\" rx=\"27\" ry=\"18\"/>\n",
       "<text text-anchor=\"middle\" x=\"665.25\" y=\"-40.83\" font-family=\"Times,serif\" font-size=\"14.00\">+</text>\n",
       "</g>\n",
       "<!-- 136279873823952&#45;&gt;136279873818384+ -->\n",
       "<g id=\"edge9\" class=\"edge\">\n",
       "<title>136279873823952&#45;&gt;136279873818384+</title>\n",
       "<path fill=\"none\" stroke=\"black\" d=\"M602.72,-55.06C611.46,-53.7 619.8,-52.41 627.36,-51.23\"/>\n",
       "<polygon fill=\"black\" stroke=\"black\" points=\"627.7,-54.72 637.04,-49.73 626.63,-47.8 627.7,-54.72\"/>\n",
       "</g>\n",
       "<!-- 136279873823952*&#45;&gt;136279873823952 -->\n",
       "<g id=\"edge1\" class=\"edge\">\n",
       "<title>136279873823952*&#45;&gt;136279873823952</title>\n",
       "<path fill=\"none\" stroke=\"black\" d=\"M327.96,-73.5C335.03,-73.5 343.18,-73.5 351.97,-73.5\"/>\n",
       "<polygon fill=\"black\" stroke=\"black\" points=\"351.89,-77 361.89,-73.5 351.89,-70 351.89,-77\"/>\n",
       "</g>\n",
       "<!-- 136279873818384 -->\n",
       "<g id=\"node5\" class=\"node\">\n",
       "<title>136279873818384</title>\n",
       "<polygon fill=\"none\" stroke=\"black\" points=\"728.25,-27.5 728.25,-63.5 966,-63.5 966,-27.5 728.25,-27.5\"/>\n",
       "<text text-anchor=\"middle\" x=\"740.38\" y=\"-41.2\" font-family=\"Times,serif\" font-size=\"14.00\">e</text>\n",
       "<polyline fill=\"none\" stroke=\"black\" points=\"752.5,-28.25 752.5,-63.5\"/>\n",
       "<text text-anchor=\"middle\" x=\"807.75\" y=\"-41.2\" font-family=\"Times,serif\" font-size=\"14.00\">data 17.0000</text>\n",
       "<polyline fill=\"none\" stroke=\"black\" points=\"863,-28.25 863,-63.5\"/>\n",
       "<text text-anchor=\"middle\" x=\"914.5\" y=\"-41.2\" font-family=\"Times,serif\" font-size=\"14.00\">grad 0.0000</text>\n",
       "</g>\n",
       "<!-- 136279873818384&#45;&gt;136279583128928* -->\n",
       "<g id=\"edge5\" class=\"edge\">\n",
       "<title>136279873818384&#45;&gt;136279583128928*</title>\n",
       "<path fill=\"none\" stroke=\"black\" d=\"M966.35,-63.25C975.1,-64.56 983.45,-65.81 991.02,-66.95\"/>\n",
       "<polygon fill=\"black\" stroke=\"black\" points=\"990.32,-70.38 1000.73,-68.41 991.36,-63.46 990.32,-70.38\"/>\n",
       "</g>\n",
       "<!-- 136279873818384+&#45;&gt;136279873818384 -->\n",
       "<g id=\"edge2\" class=\"edge\">\n",
       "<title>136279873818384+&#45;&gt;136279873818384</title>\n",
       "<path fill=\"none\" stroke=\"black\" d=\"M692.41,-45.5C699.46,-45.5 707.6,-45.5 716.37,-45.5\"/>\n",
       "<polygon fill=\"black\" stroke=\"black\" points=\"716.26,-49 726.26,-45.5 716.26,-42 716.26,-49\"/>\n",
       "</g>\n",
       "<!-- 136279583130432 -->\n",
       "<g id=\"node7\" class=\"node\">\n",
       "<title>136279583130432</title>\n",
       "<polygon fill=\"none\" stroke=\"black\" points=\"366.75,-0.5 366.75,-36.5 599.25,-36.5 599.25,-0.5 366.75,-0.5\"/>\n",
       "<text text-anchor=\"middle\" x=\"378.5\" y=\"-14.2\" font-family=\"Times,serif\" font-size=\"14.00\">c</text>\n",
       "<polyline fill=\"none\" stroke=\"black\" points=\"390.25,-1.25 390.25,-36.5\"/>\n",
       "<text text-anchor=\"middle\" x=\"443.25\" y=\"-14.2\" font-family=\"Times,serif\" font-size=\"14.00\">data &#45;3.0000</text>\n",
       "<polyline fill=\"none\" stroke=\"black\" points=\"496.25,-1.25 496.25,-36.5\"/>\n",
       "<text text-anchor=\"middle\" x=\"547.75\" y=\"-14.2\" font-family=\"Times,serif\" font-size=\"14.00\">grad 0.0000</text>\n",
       "</g>\n",
       "<!-- 136279583130432&#45;&gt;136279873818384+ -->\n",
       "<g id=\"edge7\" class=\"edge\">\n",
       "<title>136279583130432&#45;&gt;136279873818384+</title>\n",
       "<path fill=\"none\" stroke=\"black\" d=\"M599.68,-35.83C609.47,-37.29 618.82,-38.69 627.21,-39.95\"/>\n",
       "<polygon fill=\"black\" stroke=\"black\" points=\"626.48,-43.38 636.89,-41.4 627.52,-36.46 626.48,-43.38\"/>\n",
       "</g>\n",
       "<!-- 136279583128928 -->\n",
       "<g id=\"node8\" class=\"node\">\n",
       "<title>136279583128928</title>\n",
       "<polygon fill=\"none\" stroke=\"black\" points=\"1092,-54.5 1092,-90.5 1335,-90.5 1335,-54.5 1092,-54.5\"/>\n",
       "<text text-anchor=\"middle\" x=\"1104.5\" y=\"-68.2\" font-family=\"Times,serif\" font-size=\"14.00\">L</text>\n",
       "<polyline fill=\"none\" stroke=\"black\" points=\"1117,-55.25 1117,-90.5\"/>\n",
       "<text text-anchor=\"middle\" x=\"1174.5\" y=\"-68.2\" font-family=\"Times,serif\" font-size=\"14.00\">data &#45;34.0000</text>\n",
       "<polyline fill=\"none\" stroke=\"black\" points=\"1232,-55.25 1232,-90.5\"/>\n",
       "<text text-anchor=\"middle\" x=\"1283.5\" y=\"-68.2\" font-family=\"Times,serif\" font-size=\"14.00\">grad 0.0000</text>\n",
       "</g>\n",
       "<!-- 136279583128928*&#45;&gt;136279583128928 -->\n",
       "<g id=\"edge3\" class=\"edge\">\n",
       "<title>136279583128928*&#45;&gt;136279583128928</title>\n",
       "<path fill=\"none\" stroke=\"black\" d=\"M1056.15,-72.5C1063.22,-72.5 1071.37,-72.5 1080.17,-72.5\"/>\n",
       "<polygon fill=\"black\" stroke=\"black\" points=\"1080.12,-76 1090.12,-72.5 1080.12,-69 1080.12,-76\"/>\n",
       "</g>\n",
       "<!-- 136279583132016 -->\n",
       "<g id=\"node10\" class=\"node\">\n",
       "<title>136279583132016</title>\n",
       "<polygon fill=\"none\" stroke=\"black\" points=\"4.12,-28.5 4.12,-64.5 233.62,-64.5 233.62,-28.5 4.12,-28.5\"/>\n",
       "<text text-anchor=\"middle\" x=\"16.62\" y=\"-42.2\" font-family=\"Times,serif\" font-size=\"14.00\">b</text>\n",
       "<polyline fill=\"none\" stroke=\"black\" points=\"29.12,-29.25 29.12,-64.5\"/>\n",
       "<text text-anchor=\"middle\" x=\"79.88\" y=\"-42.2\" font-family=\"Times,serif\" font-size=\"14.00\">data 2.0000</text>\n",
       "<polyline fill=\"none\" stroke=\"black\" points=\"130.62,-29.25 130.62,-64.5\"/>\n",
       "<text text-anchor=\"middle\" x=\"182.12\" y=\"-42.2\" font-family=\"Times,serif\" font-size=\"14.00\">grad 0.0000</text>\n",
       "</g>\n",
       "<!-- 136279583132016&#45;&gt;136279873823952* -->\n",
       "<g id=\"edge8\" class=\"edge\">\n",
       "<title>136279583132016&#45;&gt;136279873823952*</title>\n",
       "<path fill=\"none\" stroke=\"black\" d=\"M234.05,-63.64C244.27,-65.17 254.05,-66.64 262.79,-67.95\"/>\n",
       "<polygon fill=\"black\" stroke=\"black\" points=\"262.1,-71.39 272.51,-69.41 263.14,-64.46 262.1,-71.39\"/>\n",
       "</g>\n",
       "</g>\n",
       "</svg>\n"
      ],
      "text/plain": [
       "<graphviz.graphs.Digraph at 0x7bf210249000>"
      ]
     },
     "execution_count": 12,
     "metadata": {},
     "output_type": "execute_result"
    }
   ],
   "source": [
    "draw_dot(L)"
   ]
  },
  {
   "cell_type": "code",
   "execution_count": 13,
   "id": "83fd2a6b-7cbe-4afa-82a7-a5438aeca978",
   "metadata": {},
   "outputs": [
    {
     "name": "stdout",
     "output_type": "stream",
     "text": [
      "-19.99999999999602\n"
     ]
    }
   ],
   "source": [
    "def der():\n",
    "  \n",
    "    h = 0.001\n",
    "  \n",
    "    a = Value(10.0); a.label = 'a'\n",
    "    b = Value(2.0); b.label = 'b'\n",
    "    c = Value(-3.0); c.label = 'c'\n",
    "    d = a*b; d.label = 'd'\n",
    "    e = d+c; e.label = 'e'\n",
    "    f = Value(-2.0); f.label = 'f'\n",
    "    L = e*f; L.label = 'L'\n",
    "    L1 = L.data\n",
    "  \n",
    "    a = Value(10.0); a.label = 'a'\n",
    "    b = Value(2.0); b.label = 'b'\n",
    "    b.data += h\n",
    "    c = Value(-3.0); c.label = 'c'\n",
    "    d = a*b; d.label = 'd'\n",
    "    e = d+c; e.label = 'e'\n",
    "    f = Value(-2.0); f.label = 'f'\n",
    "    L = e*f; L.label = 'L'\n",
    "    L2 = L.data\n",
    "      \n",
    "    print((L2 - L1)/h)\n",
    "  \n",
    "der()\n",
    "a.grad = -4.0\n",
    "b.grad = -20.0"
   ]
  },
  {
   "cell_type": "code",
   "execution_count": 14,
   "id": "2b28601a-c365-43fb-8568-f19999a359e9",
   "metadata": {},
   "outputs": [],
   "source": [
    "# Forward Propagation\n",
    "x1 = Value(2.0, label=\"x1\")\n",
    "x2 = Value(1.0, label=\"x2\")\n",
    "\n",
    "w1 = Value(-1.0, label=\"w1\")\n",
    "w2 = Value(2.0, label=\"w2\")\n",
    "\n",
    "b = Value(1.5, label=\"b\")\n",
    "\n",
    "x1w1 = x1*w1; x1w1.label=\"x1w1\"\n",
    "x2w2 = x2*w2; x2w2.label=\"x2w2\"\n",
    "x1w1x2w2 = x1w1 + x2w2; x1w1x2w2.label=\"x1w1 + x2w2\"\n",
    "\n",
    "n = x1w1x2w2 + b; n.label=\"n\"\n",
    "# o = n.tanh(); o.label=\"o\"\n",
    "e = (2*n).exp()\n",
    "o = (e - 1) / (e + 1)\n",
    "o.label = \"o\""
   ]
  },
  {
   "cell_type": "code",
   "execution_count": 15,
   "id": "f614e7a1-ce9b-49ea-b7da-23e4763b4bf2",
   "metadata": {},
   "outputs": [],
   "source": [
    "o.backward()"
   ]
  },
  {
   "cell_type": "markdown",
   "id": "c483273c-d4ad-47e0-8ba9-ec249b4ad835",
   "metadata": {},
   "source": [
    "## draw_dot(o)"
   ]
  },
  {
   "cell_type": "code",
   "execution_count": null,
   "id": "2ca15b40-5ca6-4862-bdab-f1e70da04ee2",
   "metadata": {},
   "outputs": [],
   "source": [
    "a = Value(3.0, label='a')\n",
    "b = a + a   ; b.label = 'b'\n",
    "b.backward()\n",
    "draw_dot(b)"
   ]
  },
  {
   "cell_type": "code",
   "execution_count": null,
   "id": "9ddb7394-ecd3-4836-92d5-774701c86962",
   "metadata": {},
   "outputs": [],
   "source": [
    "a = Value(-2.0, label='a')\n",
    "b = Value(3.0, label='b')\n",
    "d = a * b    ; d.label = 'd'\n",
    "e = a + b    ; e.label = 'e'\n",
    "f = d * e    ; f.label = 'f'\n",
    "\n",
    "f.backward()\n",
    "\n",
    "draw_dot(f)"
   ]
  },
  {
   "cell_type": "code",
   "execution_count": null,
   "id": "6e2b3292",
   "metadata": {},
   "outputs": [],
   "source": [
    "a / b"
   ]
  },
  {
   "cell_type": "code",
   "execution_count": null,
   "id": "878ad0a8",
   "metadata": {},
   "outputs": [],
   "source": [
    "1 + a, 2 * a"
   ]
  },
  {
   "cell_type": "code",
   "execution_count": null,
   "id": "4b9dc557",
   "metadata": {},
   "outputs": [],
   "source": [
    "b - a"
   ]
  },
  {
   "cell_type": "code",
   "execution_count": null,
   "id": "d98a54a2",
   "metadata": {},
   "outputs": [],
   "source": [
    "import torch"
   ]
  },
  {
   "cell_type": "code",
   "execution_count": null,
   "id": "8803fa8e",
   "metadata": {},
   "outputs": [],
   "source": [
    "a = torch.Tensor([3.0])\n",
    "print(a.data.item(), a.data)"
   ]
  },
  {
   "cell_type": "code",
   "execution_count": null,
   "id": "2213c3b7",
   "metadata": {},
   "outputs": [],
   "source": [
    "x1 = torch.Tensor([2.0]).double()                ; x1.requires_grad = True\n",
    "x2 = torch.Tensor([0.0]).double()                ; x2.requires_grad = True\n",
    "w1 = torch.Tensor([-3.0]).double()               ; w1.requires_grad = True\n",
    "w2 = torch.Tensor([1.0]).double()                ; w2.requires_grad = True\n",
    "b = torch.Tensor([6.8813735870195432]).double()  ; b.requires_grad = True\n",
    "n = x1*w1 + x2*w2 + b\n",
    "o = torch.tanh(n)\n",
    "\n",
    "print(o.data.item())\n",
    "o.backward()\n",
    "\n",
    "print('---')\n",
    "print('x2', x2.grad.item())\n",
    "print('w2', w2.grad.item())\n",
    "print('x1', x1.grad.item())\n",
    "print('w1', w1.grad.item())"
   ]
  },
  {
   "cell_type": "markdown",
   "id": "7af08018-c3b9-4ef7-a8db-ac25a3a3f467",
   "metadata": {},
   "source": [
    "## MLP"
   ]
  },
  {
   "cell_type": "code",
   "execution_count": null,
   "id": "e873a8ed-6080-43f4-8ff0-5abdb3450f1f",
   "metadata": {},
   "outputs": [],
   "source": [
    "class Neuron:\n",
    "    def __init__(self, n_input):\n",
    "        self.w = [Value(random.uniform(-1, 1)) for _ in range(n_input)]\n",
    "        self.b = Value(random.uniform(-1, 1))\n",
    "        \n",
    "    def __call__(self, X):\n",
    "        # w*x + b\n",
    "        act = sum((wi*xi for wi, xi in zip(self.w, X)), self.b)\n",
    "        out = act.tanh()\n",
    "        return out\n",
    "\n",
    "    def parameters(self):\n",
    "        return self.w + [self.b]\n",
    "\n",
    "class Layer:\n",
    "    def __init__(self, n_input, n_output):\n",
    "        \"\"\"\n",
    "        n_input : no of features in your X\n",
    "        n_output : no of neurons per hidden layer\n",
    "        \"\"\"\n",
    "        self.neurons = [Neuron(n_input) for _ in range(n_output)]\n",
    "\n",
    "    def __call__(self, X):\n",
    "        outs = [n(X) for n in self.neurons]\n",
    "        return outs[0] if len(outs) == 1 else outs\n",
    "\n",
    "    def parameters(self):\n",
    "        return [p for neurons in self.neurons for p in neurons.parameters()]\n",
    "\n",
    "class MLP:\n",
    "    \"\"\"\n",
    "    n_outputs : *List* of all the neurons we want in our Network\n",
    "    \"\"\"\n",
    "    def __init__(self, n_input, n_outputs:list):\n",
    "        sz = [n_input] + n_outputs\n",
    "        self.layers = [Layer(sz[i], sz[i+1]) for i in range(len(n_outputs))]\n",
    "\n",
    "    def __call__(self, X):\n",
    "        for layer in self.layers:\n",
    "            X = layer(X)\n",
    "        return X\n",
    "\n",
    "    def parameters(self):\n",
    "        return [p for layer in self.layers for p in layer.parameters()]\n",
    "        \n",
    "\n",
    "# x = [1.0, 3.0]\n",
    "# n = MLP(2, [3, 3, 1])\n",
    "# n(x)"
   ]
  },
  {
   "cell_type": "markdown",
   "id": "f322e4cb-b4b6-467f-aacd-c06578944525",
   "metadata": {},
   "source": [
    "## Finding loss on toy dataset"
   ]
  },
  {
   "cell_type": "code",
   "execution_count": null,
   "id": "c6beb156-ed0e-486f-b5c9-d7f1e0b48ef8",
   "metadata": {},
   "outputs": [],
   "source": [
    "n = MLP(3, [3, 3, 1])\n",
    "xs = [\n",
    "  [2.0, 3.0, -1.0],\n",
    "  [3.0, -1.0, 0.5],\n",
    "  [0.5, 1.0, 1.0],\n",
    "  [1.0, 1.0, -1.0],\n",
    "]\n",
    "ys = [1.0, -1.0, -1.0, 1.0]"
   ]
  },
  {
   "cell_type": "code",
   "execution_count": null,
   "id": "11cbc9f4-f1ec-4e26-89c1-27742012fcca",
   "metadata": {},
   "outputs": [],
   "source": [
    "for k in range(500):\n",
    "    # forward pass\n",
    "    ypreds = [n(x) for x in xs]\n",
    "    loss = sum((ypred - y)**2 for ypred, y in zip(ypreds, ys))\n",
    "\n",
    "    # setting grads to zero\n",
    "    for p in n.parameters():\n",
    "        p.grad = 0.0\n",
    "    \n",
    "    # backward pass\n",
    "    loss.backward()\n",
    "\n",
    "    # gradient descent\n",
    "    for p in n.parameters():\n",
    "        p.data += -0.1 * p.grad\n",
    "\n",
    "    print(k, loss)"
   ]
  },
  {
   "cell_type": "code",
   "execution_count": null,
   "id": "a7880239-1c29-489d-b373-113084d24957",
   "metadata": {},
   "outputs": [],
   "source": [
    "ypreds"
   ]
  },
  {
   "cell_type": "code",
   "execution_count": null,
   "id": "b3258e7b-fe91-46db-a8d2-ec1e66817879",
   "metadata": {},
   "outputs": [],
   "source": [
    "n.layers[0].neurons[0].w[0].grad"
   ]
  },
  {
   "cell_type": "code",
   "execution_count": null,
   "id": "93c20f1b-6709-45a3-9214-b0cdffbf4e8d",
   "metadata": {},
   "outputs": [],
   "source": [
    "n.layers[0].neurons[0].w[0].data"
   ]
  },
  {
   "cell_type": "code",
   "execution_count": null,
   "id": "b04da7ac-9750-4157-9b0a-5347e4d5c844",
   "metadata": {},
   "outputs": [],
   "source": []
  }
 ],
 "metadata": {
  "kernelspec": {
   "display_name": "Python 3 (ipykernel)",
   "language": "python",
   "name": "python3"
  },
  "language_info": {
   "codemirror_mode": {
    "name": "ipython",
    "version": 3
   },
   "file_extension": ".py",
   "mimetype": "text/x-python",
   "name": "python",
   "nbconvert_exporter": "python",
   "pygments_lexer": "ipython3",
   "version": "3.10.14"
  }
 },
 "nbformat": 4,
 "nbformat_minor": 5
}
